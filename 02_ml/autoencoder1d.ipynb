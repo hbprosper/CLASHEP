{
 "cells": [
  {
   "cell_type": "markdown",
   "metadata": {},
   "source": [
    "# SDSS Galaxy and Quasar Color Data\n",
    "## Example of Unsupervised Learning\n",
    "\n",
    " >__Created__: May 2020, Harrison B. Prosper <br>\n",
    " > __Updated__: Jan 2023 HBP<br>\n",
    " > __Updated__: Mar 2023 CLASHEP 2023 HBP\n",
    " \n",
    "\n",
    "### Introduction\n",
    "\n",
    "The [Sloan Digital Sky Survey](https://sloan.org/programs/research/sloan-digital-sky-survey) (SDSS) exemplifies the longstanding tradition of researchers in astronomy, astrophysics, and cosmology of making data public. The SDSS provides a wealth of astrophysical and astronomical data that have been used for research-level work as well as for educational purposes. The collaborations at the Large Hadron Collider at CERN also release their data, albeit with a longer latency than is typical in astronomy. \n",
    "\n",
    "#### SDSS Color Data\n",
    "Astronomers have known for decades that a plot of the color indices $g - r$ versus $u - g$ shows a striking clustering of the color data from galaxies and quasars, which makes it possible to classify these objects with these data. The color indices are measures of the fluxes through 5 SDSS filters:\n",
    "\n",
    "| __Filter__        | __Wavelength (nm)__   |\n",
    "| :---              | :--   |\n",
    "| Ultraviolet (u)   | 354.3 |\n",
    "| Green (g)         | 477.0 |\n",
    "| Red (r)           | 623.1 |\n",
    "| Near Infrared (i) | 762.5 |\n",
    "| Infrared (z)      | 913.4 |\n",
    "\n",
    "In this notebook we use a simple __autoencoder__ to find automatically clusters in the SDSS color data that are associated with galaxies and quasars.  Given two spaces $x \\in \\mathbb{R}^n$ and $z \\in \\mathbb{R}^m$, where $m \\ll n$, an autoencoder models the mappings $h: x \\rightarrow z$ followed by $g: z \\rightarrow x$. The first mapping is called the __encoder__ and the second mapping is called the __decoder__. The low-dimensional space $\\mathbb{R}^m$ is called the __latent space__. \n",
    "\n",
    "There is no reason, *a priori*, why an autoencoder should cluster data in the latent space; an autoencoder simply creates a compressed representation of the original data. However, if clusters exist in the original space $\\mathbb{R}^n$ one would expect these clusters to be mapped to clusters in the latent space provided that in approximating the identity mapping $h: x \\rightarrow z$ and $g: z \\rightarrow x$  sufficient information is retained in the compressed data in the latent space. The autoencoder created in this notebook shows that the SDSS 5D color data can be mapped to the unit interval, automatically, where the galaxy and quasar clusters are clearly visible. Since the SDSS color data are already classified, we can use the SDSS __class__ labels to check to what extent the autoencoder agrees with the SDSS classification.\n",
    "\n",
    "The data used in this example have been extracted from the SDSS website\n",
    "\n",
    "https://cas.sdss.org/dr18/SearchTools/sql\n",
    "\n",
    "using the following SQL query (see https://www.astroml.org/)\n",
    "\n",
    "```sql\n",
    "SELECT TOP 110000\n",
    "  p.u, p.g, p.r, p.i, p.z, s.z, s.zerr, s.class\n",
    "FROM PhotoObj AS p\n",
    "  JOIN SpecObj AS s ON s.bestobjid = p.objid\n",
    "WHERE \n",
    "      p.u BETWEEN 0 AND 20\n",
    "  AND p.g BETWEEN 0 AND 20\n",
    "  AND p.r BETWEEN 0 AND 20\n",
    "  AND p.i BETWEEN 0 AND 20\n",
    "  AND p.z BETWEEN 0 AND 20\n",
    "  AND s.class <> 'UNKNOWN'\n",
    "  AND s.class <> 'STAR'\n",
    "  AND s.class <> 'SKY'\n",
    "  AND s.class <> 'STAR_LATE'\n",
    "``` \n",
    "\n",
    "We use 100000 data instances for training, 5000 for validation during training, and 5000 for testing post training."
   ]
  },
  {
   "cell_type": "code",
   "execution_count": 1,
   "metadata": {},
   "outputs": [],
   "source": [
    "import os, sys\n",
    "\n",
    "# the standard module for tabular data\n",
    "import pandas as pd\n",
    "\n",
    "# the standard module for array manipulation\n",
    "import numpy as np\n",
    "\n",
    "# the standard modules for high-quality plots\n",
    "import matplotlib as mp\n",
    "import matplotlib.pyplot as plt\n",
    "\n",
    "# module to manipulate images and produce animated gifs\n",
    "import imageio.v2 as im\n",
    "    \n",
    "# for importing and reloading modules\n",
    "import importlib\n",
    "\n",
    "# widely used machine learning toolkit developed by FaceBook aka Meta\n",
    "import torch\n",
    "import torch.nn as nn\n",
    "\n",
    "%matplotlib inline"
   ]
  },
  {
   "cell_type": "code",
   "execution_count": 2,
   "metadata": {},
   "outputs": [],
   "source": [
    "# update fonts\n",
    "FONTSIZE = 14\n",
    "font = {'family' : 'serif',\n",
    "        'weight' : 'normal',\n",
    "        'size'   : FONTSIZE}\n",
    "mp.rc('font', **font)\n",
    "\n",
    "# set usetex = False if LaTex is not \n",
    "# available on your system or if the \n",
    "# rendering is too slow\n",
    "mp.rc('text', usetex=True)"
   ]
  },
  {
   "cell_type": "markdown",
   "metadata": {},
   "source": [
    "We shall use the __to(device)__ method to move data and computation to the device specified in \"device\".\n",
    "If your system includes a cuda-based GPU, the __to__ method will move data and computation to that device."
   ]
  },
  {
   "cell_type": "code",
   "execution_count": 3,
   "metadata": {},
   "outputs": [
    {
     "name": "stdout",
     "output_type": "stream",
     "text": [
      "Available device: cpu \n"
     ]
    }
   ],
   "source": [
    "device = torch.device('cuda' if torch.cuda.is_available() else 'cpu')\n",
    "print(f'Available device: {str(device):4s}')"
   ]
  },
  {
   "cell_type": "markdown",
   "metadata": {},
   "source": [
    "### Load SDSS Data\n",
    "  * photometric data $(u, g, r, i, z)$\n",
    "  * and redshift data\n",
    "  * classication of data into galaxies and quasars\n",
    "  \n",
    "  1. Read data are read from a CSV file into a pandas dataframe.\n",
    "  1. Shuffle all  the rows (frac=1)  of the dataframe.\n",
    "  1. Scale the color data so that they are of order unity.\n",
    "  1. Define sequences of booleans, based on the __class__ field, to select galaxies and quasars.\n",
    "  \n",
    "  \n",
    "The CSV file created by the SDSS SQL interface includes the comment \"#Table1\" in the first row. We need to skip that row using the __comment='#'__ keyword in __read\\_csv__.  "
   ]
  },
  {
   "cell_type": "code",
   "execution_count": 4,
   "metadata": {},
   "outputs": [],
   "source": [
    "def loadData(filename, scale=1):\n",
    "    \n",
    "    if not os.path.exists(filename):\n",
    "        raise FileNotFound(filename)\n",
    "        \n",
    "    # skip commented lines\n",
    "    data = pd.read_csv(filename, comment='#')\n",
    "    \n",
    "    # shuffle dataframe rows\n",
    "    data = pd.DataFrame(data).sample(frac=1)\n",
    "    \n",
    "    data.u /= scale\n",
    "    data.g /= scale\n",
    "    data.r /= scale\n",
    "    data.i /= scale\n",
    "    data.z /= scale\n",
    "\n",
    "    objclass = data['class']\n",
    "    galaxies = objclass == 'GALAXY'\n",
    "    quasars  = objclass == 'QSO'     \n",
    "    return (data, galaxies, quasars)"
   ]
  },
  {
   "cell_type": "code",
   "execution_count": 5,
   "metadata": {},
   "outputs": [
    {
     "name": "stdout",
     "output_type": "stream",
     "text": [
      "number of rows: 110000\n"
     ]
    },
    {
     "data": {
      "text/html": [
       "<div>\n",
       "<style scoped>\n",
       "    .dataframe tbody tr th:only-of-type {\n",
       "        vertical-align: middle;\n",
       "    }\n",
       "\n",
       "    .dataframe tbody tr th {\n",
       "        vertical-align: top;\n",
       "    }\n",
       "\n",
       "    .dataframe thead th {\n",
       "        text-align: right;\n",
       "    }\n",
       "</style>\n",
       "<table border=\"1\" class=\"dataframe\">\n",
       "  <thead>\n",
       "    <tr style=\"text-align: right;\">\n",
       "      <th></th>\n",
       "      <th>u</th>\n",
       "      <th>g</th>\n",
       "      <th>r</th>\n",
       "      <th>i</th>\n",
       "      <th>z</th>\n",
       "      <th>z1</th>\n",
       "      <th>zerr</th>\n",
       "      <th>class</th>\n",
       "    </tr>\n",
       "  </thead>\n",
       "  <tbody>\n",
       "    <tr>\n",
       "      <th>74004</th>\n",
       "      <td>19.41457</td>\n",
       "      <td>17.97749</td>\n",
       "      <td>17.25951</td>\n",
       "      <td>16.85678</td>\n",
       "      <td>16.60597</td>\n",
       "      <td>0.078995</td>\n",
       "      <td>0.000026</td>\n",
       "      <td>GALAXY</td>\n",
       "    </tr>\n",
       "    <tr>\n",
       "      <th>109689</th>\n",
       "      <td>19.10508</td>\n",
       "      <td>17.63178</td>\n",
       "      <td>16.99344</td>\n",
       "      <td>16.63084</td>\n",
       "      <td>16.35724</td>\n",
       "      <td>0.058026</td>\n",
       "      <td>0.000014</td>\n",
       "      <td>GALAXY</td>\n",
       "    </tr>\n",
       "    <tr>\n",
       "      <th>59116</th>\n",
       "      <td>19.85613</td>\n",
       "      <td>19.31561</td>\n",
       "      <td>18.57883</td>\n",
       "      <td>18.17889</td>\n",
       "      <td>17.95592</td>\n",
       "      <td>0.220620</td>\n",
       "      <td>0.000047</td>\n",
       "      <td>QSO</td>\n",
       "    </tr>\n",
       "    <tr>\n",
       "      <th>91871</th>\n",
       "      <td>18.60846</td>\n",
       "      <td>18.27911</td>\n",
       "      <td>18.36426</td>\n",
       "      <td>18.35623</td>\n",
       "      <td>18.32356</td>\n",
       "      <td>0.733044</td>\n",
       "      <td>0.000167</td>\n",
       "      <td>QSO</td>\n",
       "    </tr>\n",
       "    <tr>\n",
       "      <th>101088</th>\n",
       "      <td>19.08702</td>\n",
       "      <td>17.33526</td>\n",
       "      <td>17.00739</td>\n",
       "      <td>16.97750</td>\n",
       "      <td>17.11534</td>\n",
       "      <td>0.036166</td>\n",
       "      <td>0.000008</td>\n",
       "      <td>GALAXY</td>\n",
       "    </tr>\n",
       "  </tbody>\n",
       "</table>\n",
       "</div>"
      ],
      "text/plain": [
       "               u         g         r         i         z        z1      zerr  \\\n",
       "74004   19.41457  17.97749  17.25951  16.85678  16.60597  0.078995  0.000026   \n",
       "109689  19.10508  17.63178  16.99344  16.63084  16.35724  0.058026  0.000014   \n",
       "59116   19.85613  19.31561  18.57883  18.17889  17.95592  0.220620  0.000047   \n",
       "91871   18.60846  18.27911  18.36426  18.35623  18.32356  0.733044  0.000167   \n",
       "101088  19.08702  17.33526  17.00739  16.97750  17.11534  0.036166  0.000008   \n",
       "\n",
       "         class  \n",
       "74004   GALAXY  \n",
       "109689  GALAXY  \n",
       "59116      QSO  \n",
       "91871      QSO  \n",
       "101088  GALAXY  "
      ]
     },
     "execution_count": 5,
     "metadata": {},
     "output_type": "execute_result"
    }
   ],
   "source": [
    "filename = 'data/SDSS_galaxy_colors.csv.gz'\n",
    "data, galaxies, quasars = loadData(filename)\n",
    "print(f'number of rows: {len(data):d}')\n",
    "data[:5]"
   ]
  },
  {
   "cell_type": "markdown",
   "metadata": {},
   "source": [
    "### Train, validation, and test sets\n",
    "There is some confusion in terminology regarding validation and test samples (or sets). We shall adhere to the defintions given here https://machinelearningmastery.com/difference-test-validation-datasets/):\n",
    "   \n",
    "  * __Training Dataset__: The sample of data used to fit the model.\n",
    "  * __Validation Dataset__: The sample of data used to decide 1) whether the fit is reasonable (e.g., the model has not been overfitted), 2) decide which of several models is the best and 3) tune model hyperparameters.\n",
    "  * __Test Dataset__: The sample of data used to provide an unbiased evaluation of the fitted model.\n",
    "\n",
    "The validation set will be some small fraction of the training set and will be used to decide when to stop the training.\n"
   ]
  },
  {
   "cell_type": "code",
   "execution_count": 6,
   "metadata": {},
   "outputs": [
    {
     "name": "stdout",
     "output_type": "stream",
     "text": [
      "100000 5000 5000\n"
     ]
    },
    {
     "data": {
      "text/html": [
       "<div>\n",
       "<style scoped>\n",
       "    .dataframe tbody tr th:only-of-type {\n",
       "        vertical-align: middle;\n",
       "    }\n",
       "\n",
       "    .dataframe tbody tr th {\n",
       "        vertical-align: top;\n",
       "    }\n",
       "\n",
       "    .dataframe thead th {\n",
       "        text-align: right;\n",
       "    }\n",
       "</style>\n",
       "<table border=\"1\" class=\"dataframe\">\n",
       "  <thead>\n",
       "    <tr style=\"text-align: right;\">\n",
       "      <th></th>\n",
       "      <th>u</th>\n",
       "      <th>g</th>\n",
       "      <th>r</th>\n",
       "      <th>i</th>\n",
       "      <th>z</th>\n",
       "      <th>z1</th>\n",
       "      <th>zerr</th>\n",
       "      <th>class</th>\n",
       "    </tr>\n",
       "  </thead>\n",
       "  <tbody>\n",
       "    <tr>\n",
       "      <th>74004</th>\n",
       "      <td>19.41457</td>\n",
       "      <td>17.97749</td>\n",
       "      <td>17.25951</td>\n",
       "      <td>16.85678</td>\n",
       "      <td>16.60597</td>\n",
       "      <td>0.078995</td>\n",
       "      <td>0.000026</td>\n",
       "      <td>GALAXY</td>\n",
       "    </tr>\n",
       "    <tr>\n",
       "      <th>109689</th>\n",
       "      <td>19.10508</td>\n",
       "      <td>17.63178</td>\n",
       "      <td>16.99344</td>\n",
       "      <td>16.63084</td>\n",
       "      <td>16.35724</td>\n",
       "      <td>0.058026</td>\n",
       "      <td>0.000014</td>\n",
       "      <td>GALAXY</td>\n",
       "    </tr>\n",
       "    <tr>\n",
       "      <th>59116</th>\n",
       "      <td>19.85613</td>\n",
       "      <td>19.31561</td>\n",
       "      <td>18.57883</td>\n",
       "      <td>18.17889</td>\n",
       "      <td>17.95592</td>\n",
       "      <td>0.220620</td>\n",
       "      <td>0.000047</td>\n",
       "      <td>QSO</td>\n",
       "    </tr>\n",
       "    <tr>\n",
       "      <th>91871</th>\n",
       "      <td>18.60846</td>\n",
       "      <td>18.27911</td>\n",
       "      <td>18.36426</td>\n",
       "      <td>18.35623</td>\n",
       "      <td>18.32356</td>\n",
       "      <td>0.733044</td>\n",
       "      <td>0.000167</td>\n",
       "      <td>QSO</td>\n",
       "    </tr>\n",
       "    <tr>\n",
       "      <th>101088</th>\n",
       "      <td>19.08702</td>\n",
       "      <td>17.33526</td>\n",
       "      <td>17.00739</td>\n",
       "      <td>16.97750</td>\n",
       "      <td>17.11534</td>\n",
       "      <td>0.036166</td>\n",
       "      <td>0.000008</td>\n",
       "      <td>GALAXY</td>\n",
       "    </tr>\n",
       "  </tbody>\n",
       "</table>\n",
       "</div>"
      ],
      "text/plain": [
       "               u         g         r         i         z        z1      zerr  \\\n",
       "74004   19.41457  17.97749  17.25951  16.85678  16.60597  0.078995  0.000026   \n",
       "109689  19.10508  17.63178  16.99344  16.63084  16.35724  0.058026  0.000014   \n",
       "59116   19.85613  19.31561  18.57883  18.17889  17.95592  0.220620  0.000047   \n",
       "91871   18.60846  18.27911  18.36426  18.35623  18.32356  0.733044  0.000167   \n",
       "101088  19.08702  17.33526  17.00739  16.97750  17.11534  0.036166  0.000008   \n",
       "\n",
       "         class  \n",
       "74004   GALAXY  \n",
       "109689  GALAXY  \n",
       "59116      QSO  \n",
       "91871      QSO  \n",
       "101088  GALAXY  "
      ]
     },
     "execution_count": 6,
     "metadata": {},
     "output_type": "execute_result"
    }
   ],
   "source": [
    "def splitData(dd, gg, qq, start, end):\n",
    "    d = dd[start:end]\n",
    "    g = gg[start:end]\n",
    "    q = qq[start:end]\n",
    "    return d, g, q\n",
    "\n",
    "start = 0\n",
    "end   = 100000\n",
    "train_data, train_galaxies, train_quasars = splitData(data, \n",
    "                                                       galaxies, \n",
    "                                                       quasars,\n",
    "                                                       start, end)\n",
    "start = end\n",
    "end  += 5000\n",
    "valid_data, valid_galaxies, valid_quasars = splitData(data, \n",
    "                                                       galaxies, \n",
    "                                                       quasars,\n",
    "                                                       start, end)\n",
    "\n",
    "start = end\n",
    "end  += 5000\n",
    "test_data, test_galaxies, test_quasars  = splitData(data, \n",
    "                                                    galaxies, \n",
    "                                                    quasars,\n",
    "                                                    start, end)\n",
    "\n",
    "print(len(train_data), len(valid_data), len(test_data))\n",
    "train_data[:5]"
   ]
  },
  {
   "cell_type": "markdown",
   "metadata": {},
   "source": [
    "### Plot $g - r$ versus $u - g$"
   ]
  },
  {
   "cell_type": "code",
   "execution_count": 7,
   "metadata": {},
   "outputs": [],
   "source": [
    "def plotColors(data, g, q, \n",
    "               xmin=-0.5, xmax=2.5, \n",
    "               ymin=-0.5, ymax=1.5,\n",
    "               ftsize=14):\n",
    "    \n",
    "    x = data['u'] - data['g']\n",
    "    y = data['g'] - data['r']\n",
    "    \n",
    "    # set size of figure\n",
    "    plt.figure(figsize=(5, 3.5))\n",
    "    \n",
    "    # annotate axes\n",
    "    plt.xlabel('$u - g$', fontsize=ftsize)\n",
    "    plt.ylabel('$g - r$', fontsize=ftsize)\n",
    "    \n",
    "    plt.xlim([xmin, xmax])\n",
    "    plt.ylim([ymin, ymax])\n",
    "    \n",
    "    plt.scatter(x[q], y[q], \n",
    "                c='red', \n",
    "                s=5, marker='.', \n",
    "                label='quasars')\n",
    "    \n",
    "    plt.scatter(x[g], y[g], \n",
    "                c='blue', \n",
    "                s=5, marker='.',\n",
    "                label='galaxies')\n",
    "\n",
    "    plt.legend()\n",
    "\n",
    "    plt.savefig('astro_color.png')\n",
    "    plt.show()"
   ]
  },
  {
   "cell_type": "code",
   "execution_count": 8,
   "metadata": {},
   "outputs": [
    {
     "data": {
      "image/png": "[encoded data removed]",
      "text/plain": [
       "<Figure size 500x350 with 1 Axes>"
      ]
     },
     "metadata": {},
     "output_type": "display_data"
    }
   ],
   "source": [
    "plotColors(test_data, test_galaxies, test_quasars)"
   ]
  },
  {
   "cell_type": "markdown",
   "metadata": {},
   "source": [
    "### Convert data to pytorch tensors and send to computational device"
   ]
  },
  {
   "cell_type": "code",
   "execution_count": 9,
   "metadata": {},
   "outputs": [],
   "source": [
    "def dataFrame2Tensor(df, source):\n",
    "    # change from pandas dataframe to PyTorch tensors\n",
    "    # and load data to device.\n",
    "    x = torch.tensor(df[source].to_numpy()).float().to(device)\n",
    "    return (x, x)"
   ]
  },
  {
   "cell_type": "code",
   "execution_count": 10,
   "metadata": {},
   "outputs": [],
   "source": [
    "features = ['u', 'g', 'r', 'i', 'z']\n",
    "train_x, train_t = dataFrame2Tensor(train_data, features)\n",
    "valid_x, valid_t = dataFrame2Tensor(valid_data, features)\n",
    "test_x,  test_t  = dataFrame2Tensor(test_data,  features)"
   ]
  },
  {
   "cell_type": "markdown",
   "metadata": {},
   "source": [
    "### Define empirical risk function\n",
    "An autoencoder models the identity mapping $f: x \\rightarrow x$ in two stages: $h: x \\rightarrow z$ (the encoder stage) followed by $g: z \\rightarrow x$ (the decoder stage), where $x \\in \\mathbb{R}^n$ and $z \\in \\mathbb{R}^m$ with $m \\ll n$. In this example, $n = 5$ and $m = 1$ with $z$ restricted to the unit interval.\n",
    "\n",
    "We fit an autoencoder by minimizing the average quadratic loss,\n",
    "\\begin{align*}\n",
    "  F & = \\frac{1}{N} \\sum_{i=1}^N (t_i -  f(x_i, \\omega))^2,\n",
    "\\end{align*}\n",
    "where the targets $t_i = x_i$.\n",
    "\n",
    "In principle, we want $N$ to be as large as possible to approximate the average loss in the limit $N \\rightarrow \\infty$. In practice, $n = batch\\_size \\ll N$, the training sample size. This is done to produce a noisy approximation of the local\n",
    "gradient. The stochasticity thereby introduced increases the probability that the minimizer won't get stuck in a local minimum that is a poor approximation to the global minimum of the average loss in the limit $N \\rightarrow \\infty$."
   ]
  },
  {
   "cell_type": "code",
   "execution_count": 11,
   "metadata": {},
   "outputs": [],
   "source": [
    "# Note: there are several average loss functions available \n",
    "# in PyTorch, such as nn.CrossEntropyLoss(), but it's useful \n",
    "# to know how to create your own.\n",
    "def averageQuadraticLoss(f, t):\n",
    "    # f and t must be of the same shape\n",
    "    losses = (f - t)**2\n",
    "    return torch.mean(losses)\n",
    "\n",
    "def getRandomBatch(x, t, batch_size, n=None):\n",
    "    indices = np.random.choice(len(x), batch_size)\n",
    "    return x[indices], t[indices]\n",
    "\n",
    "def validate(model, avloss, x, t):\n",
    "    # set to evaluation mode so that any training \n",
    "    # specific operations are disabled.\n",
    "    model.eval()\n",
    "    \n",
    "    with torch.no_grad(): # no need to compute gradients wrt. x and t\n",
    "        # reshape to ensure that y and t are of the same shape!\n",
    "        y = model(x).reshape(t.shape)\n",
    "    return avloss(y, t)\n",
    "\n",
    "def numberOfParameters(model):\n",
    "    return sum(p.numel() for p in model.parameters() if p.requires_grad)"
   ]
  },
  {
   "cell_type": "markdown",
   "metadata": {},
   "source": [
    "### Create animated GIF of 1D latent space"
   ]
  },
  {
   "cell_type": "code",
   "execution_count": 12,
   "metadata": {},
   "outputs": [],
   "source": [
    "def plotLatentSpace(bag, \n",
    "                    xbins=100, xmin=0.0, xmax=1.0, \n",
    "                    ymin=0.0, ymax=500.0,\n",
    "                    ftsize=14, fps=5):\n",
    "        \n",
    "    fig, ax = plt.subplots(figsize=(5, 4))\n",
    "    fig.tight_layout()\n",
    "    \n",
    "    ax.set_xlabel('$x$', fontsize=ftsize)\n",
    "    ax.set_xlim([xmin, xmax])\n",
    "    ax.set_ylim([ymin, ymax])\n",
    "    \n",
    "    # ii: iteration number\n",
    "    # x : latent space coordinates (in this example, x lies in [0,1])\n",
    "    # s : object selectors (objects classified as galaxies and quasars)\n",
    "    # l : labels (for the two classes)\n",
    "    # c : colors (for the two classes)\n",
    "    ii     = bag.ii   \n",
    "    x      = bag.latent\n",
    "    s1, s2 = bag.select \n",
    "    l1, l2 = bag.labels\n",
    "    c1, c2 = bag.colors\n",
    "    \n",
    "    if bag.makegif:\n",
    "        if bag.ii == 0:\n",
    "            bag.writer = im.get_writer('autoencoder_anim.gif', mode='I', fps=fps)\n",
    "    \n",
    "    # histogram latent space points for class 1 (galaxies)\n",
    "    ax.hist(x[s1], bins=xbins, range=(xmin, xmax), \n",
    "            color=c1, alpha=0.3, label=l1)\n",
    "    \n",
    "    # histogram latent space points for class 2 (quasars)\n",
    "    ax.hist(x[s2], bins=xbins, range=(xmin, xmax),\n",
    "            color=c2, alpha=0.3, label=l2)\n",
    "    \n",
    "    ax.legend(loc='upper left')\n",
    "    \n",
    "    if bag.makegif:\n",
    "        ax.text(0.05, 100, f'iterations: {ii:6d}')\n",
    "        \n",
    "        filename = 'f%7.7d.png' % ii\n",
    "        plt.savefig(filename)\n",
    "        \n",
    "        bag.writer.append_data(im.imread(filename))\n",
    "        os.system(f'rm -f {filename:s}')\n",
    "        \n",
    "        plt.close()\n",
    "    else:\n",
    "        filename = 'autoencoder.png'\n",
    "        plt.savefig(filename)\n",
    "        plt.show()"
   ]
  },
  {
   "cell_type": "markdown",
   "metadata": {},
   "source": [
    "### Trainer"
   ]
  },
  {
   "cell_type": "code",
   "execution_count": 13,
   "metadata": {},
   "outputs": [],
   "source": [
    "def trainModel(bag, model, optimizer, averageloss, getbatch,\n",
    "               train_x, train_t, valid_x, valid_t,\n",
    "               val_galaxies, val_quasars,\n",
    "               batch_size, number_iterations,\n",
    "               losses, \n",
    "               step=10, \n",
    "               nframes=100):\n",
    "    import copy\n",
    "    \n",
    "    # to keep track of average losses\n",
    "    xx, yy_t, yy_v = losses\n",
    "\n",
    "    N = len(valid_x)\n",
    "    \n",
    "    print(\"%10s\\t%10s\\t%10s\" % \\\n",
    "              ('iteration', 'training', 'validation'))\n",
    "\n",
    "    # start caching the best model after the\n",
    "    # following number of iterations.\n",
    "    start_saving = number_iterations // 100\n",
    "    best_model   = None\n",
    "    min_avloss   = float('inf')\n",
    "    saved        = '' # iterations before a better model is cached.\n",
    "    iisaved      = 0\n",
    "\n",
    "    bag.select   = [val_galaxies[:N], val_quasars[:N]]\n",
    "    \n",
    "    fstep = number_iterations / nframes\n",
    "    \n",
    "    for ii in range(number_iterations):\n",
    "        bag.ii = ii\n",
    "        \n",
    "        # set mode to training so that training specific \n",
    "        # operations such as dropout are enabled.\n",
    "        model.train()\n",
    "    \n",
    "        # get a batch of data \n",
    "        x, t = getbatch(train_x, train_t, batch_size, ii)     \n",
    "\n",
    "        # compute the output of the model for the batch of data x\n",
    "        y = model(x).reshape(t.shape)\n",
    "   \n",
    "        # compute a noisy approximation of the average loss.\n",
    "        # Adding a bit of noise helps the minimizer escape\n",
    "        # minima that may not optimal. It is also much\n",
    "        # faster to compute the loss function and its gradient\n",
    "        # with respect to its parameters using batches of \n",
    "        # training data rather than the full training dataset.\n",
    "        empirical_risk = averageloss(y, t)\n",
    "        \n",
    "        # use automatic differentiation to compute a \n",
    "        # the local gradient\n",
    "        optimizer.zero_grad()       # clear previous gradients\n",
    "        empirical_risk.backward()   # compute gradients\n",
    "        \n",
    "        # finally, advance one step in the direction of steepest \n",
    "        # descent, using the (noisy) local gradient. \n",
    "        optimizer.step()            # move one step\n",
    "        \n",
    "        if ii % step == 0:\n",
    "            \n",
    "            # validate current model on a subset of training data\n",
    "            avloss_t = validate(model, averageloss, \n",
    "                                train_x[:N], train_t[:N])\n",
    "            \n",
    "            # validate current model on a subset of validation data.\n",
    "            # we use the validation data to decide when to stop the\n",
    "            # training.\n",
    "            avloss_v = validate(model, averageloss, \n",
    "                                valid_x, valid_t)\n",
    "\n",
    "            # create a frame for the animated gif using the\n",
    "            # current model applied to the validation data.\n",
    "            if ii % fstep == 0:\n",
    "                if bag.makegif:\n",
    "                    bag.latent = model.latent()\n",
    "                    plotLatentSpace(bag)\n",
    "            \n",
    "            if ii > start_saving:\n",
    "                # number of iterations that have elapsed before a\n",
    "                # higher performing model has been found based on\n",
    "                # the average loss computed using the validation data\n",
    "                saved = str(ii - iisaved)\n",
    "            \n",
    "            # keep track of average losses versus iteration number\n",
    "            if len(xx) < 1:\n",
    "                xx.append(0)\n",
    "                print(\"%10d\\t%10.7f\\t%10.7f %s\" % \\\n",
    "                      (xx[-1], avloss_t, avloss_v, saved))\n",
    "            else:\n",
    "                xx.append(xx[-1] + step)\n",
    "                print(\"\\r%10d\\t%10.7f\\t%10.7f %s\" % \\\n",
    "                      (xx[-1], avloss_t, avloss_v, saved), \n",
    "                      end='')\n",
    "            \n",
    "            yy_t.append(avloss_t)\n",
    "            yy_v.append(avloss_v)\n",
    "            \n",
    "            if avloss_v < min_avloss:\n",
    "                min_avloss = avloss_v\n",
    "                \n",
    "                if ii > start_saving:\n",
    "                    iisaved = ii\n",
    "                    best_model = copy.deepcopy(model)\n",
    "\n",
    "    print() \n",
    "    \n",
    "    return (xx, yy_t, yy_v), best_model"
   ]
  },
  {
   "cell_type": "code",
   "execution_count": 14,
   "metadata": {},
   "outputs": [],
   "source": [
    "def plotAverageLosses(losses):\n",
    "    \n",
    "    xx, yy_t, yy_v = losses\n",
    "    \n",
    "    # create an empty figure\n",
    "    fig = plt.figure(figsize=(5, 4))\n",
    "    fig.tight_layout()\n",
    "    \n",
    "    # add a subplot to it\n",
    "    nrows, ncols, index = 1,1,1\n",
    "    ax  = fig.add_subplot(nrows,ncols,index)\n",
    "    \n",
    "    ax.plot(xx, yy_t, color='red',  lw=1, label='training loss')\n",
    "    ax.plot(xx, yy_v, color='blue', lw=1, label='validation loss')\n",
    "    ax.legend(loc='upper right')\n",
    "    \n",
    "    ax.set_xlabel('iterations', fontsize=14)\n",
    "    ax.set_ylabel('average loss', fontsize=14)\n",
    "    ax.set_xscale('log')\n",
    "    ax.set_yscale('log')\n",
    "    ax.grid(True, which=\"both\", linestyle='-')\n",
    "    \n",
    "    filename = 'autoencoder_loss.png'\n",
    "    plt.savefig(filename)\n",
    "    plt.show()"
   ]
  },
  {
   "cell_type": "markdown",
   "metadata": {},
   "source": [
    "# Define model\n",
    "\n",
    "Write the following cell to the file __astronn1d.py__."
   ]
  },
  {
   "cell_type": "code",
   "execution_count": 15,
   "metadata": {},
   "outputs": [
    {
     "name": "stdout",
     "output_type": "stream",
     "text": [
      "Writing astronn1d.py\n"
     ]
    }
   ],
   "source": [
    "%%writefile astronn1d.py\n",
    "import torch\n",
    "import torch.nn as nn\n",
    "\n",
    "class AutoEncoder(nn.Module):\n",
    "    \n",
    "    def __init__(self):\n",
    "        \"\"\"\n",
    "    A fully-connected autoencoder neural network.\n",
    "        \"\"\" \n",
    "        # call constructor of base (or super, or parent) class\n",
    "        super(AutoEncoder, self).__init__()\n",
    "\n",
    "        self.encoder = nn.Sequential(\n",
    "            nn.Linear(5 ,  25), nn.ReLU(),\n",
    "            nn.Linear(25,  25), nn.ReLU(), \n",
    "            nn.Linear(25,  25), nn.ReLU(), \n",
    "            nn.Linear(25,   1), nn.Sigmoid())\n",
    "        \n",
    "        self.decoder = nn.Sequential(\n",
    "            nn.Linear(1,   25), nn.ReLU(),\n",
    "            nn.Linear(25,  25), nn.ReLU(), \n",
    "            nn.Linear(25,  25), nn.ReLU(), \n",
    "            nn.Linear(25,  5))\n",
    "\n",
    "    def forward(self, x):\n",
    "        y = self.encoder(x)\n",
    "        self.z = y # cache latent space points\n",
    "        y = self.decoder(y)\n",
    "        return y\n",
    "    \n",
    "    def latent(self):\n",
    "        return self.z.data.numpy()"
   ]
  },
  {
   "cell_type": "markdown",
   "metadata": {},
   "source": [
    "### Create an instance of the model\n",
    "Note the import of the class that we've just saved."
   ]
  },
  {
   "cell_type": "code",
   "execution_count": 16,
   "metadata": {},
   "outputs": [
    {
     "name": "stdout",
     "output_type": "stream",
     "text": [
      "number of parameters:     2956\n"
     ]
    },
    {
     "data": {
      "text/plain": [
       "AutoEncoder(\n",
       "  (encoder): Sequential(\n",
       "    (0): Linear(in_features=5, out_features=25, bias=True)\n",
       "    (1): ReLU()\n",
       "    (2): Linear(in_features=25, out_features=25, bias=True)\n",
       "    (3): ReLU()\n",
       "    (4): Linear(in_features=25, out_features=25, bias=True)\n",
       "    (5): ReLU()\n",
       "    (6): Linear(in_features=25, out_features=1, bias=True)\n",
       "    (7): Sigmoid()\n",
       "  )\n",
       "  (decoder): Sequential(\n",
       "    (0): Linear(in_features=1, out_features=25, bias=True)\n",
       "    (1): ReLU()\n",
       "    (2): Linear(in_features=25, out_features=25, bias=True)\n",
       "    (3): ReLU()\n",
       "    (4): Linear(in_features=25, out_features=25, bias=True)\n",
       "    (5): ReLU()\n",
       "    (6): Linear(in_features=25, out_features=5, bias=True)\n",
       "  )\n",
       ")"
      ]
     },
     "execution_count": 16,
     "metadata": {},
     "output_type": "execute_result"
    }
   ],
   "source": [
    "import astronn1d as ast\n",
    "importlib.reload(ast)\n",
    "model = ast.AutoEncoder().to(device)\n",
    "print(f'number of parameters: {numberOfParameters(model):8d}')\n",
    "model"
   ]
  },
  {
   "cell_type": "markdown",
   "metadata": {},
   "source": [
    "### Choose minimizer"
   ]
  },
  {
   "cell_type": "code",
   "execution_count": 18,
   "metadata": {},
   "outputs": [],
   "source": [
    "learning_rate = 1.e-4\n",
    "optimizer     = torch.optim.Adam(model.parameters(), \n",
    "                                 lr=learning_rate) \n",
    "\n",
    "average_loss  = averageQuadraticLoss\n",
    "\n",
    "step          = 10\n",
    "losses        = ([], [], [])\n",
    "\n",
    "class Bag:\n",
    "    pass\n",
    "bag = Bag()\n",
    "\n",
    "bag.labels = ['galaxies', 'quasars']\n",
    "bag.colors = ['blue', 'red']\n",
    "bag.makegif= True"
   ]
  },
  {
   "cell_type": "code",
   "execution_count": 19,
   "metadata": {},
   "outputs": [
    {
     "name": "stdout",
     "output_type": "stream",
     "text": [
      " iteration\t  training\tvalidation\n",
      "         0\t307.3501892\t307.2419128 \n",
      "    149990\t 0.0589661\t 0.0567599 2960\n"
     ]
    },
    {
     "data": {
      "image/png": "[encoded data removed]",
      "text/plain": [
       "<Figure size 500x400 with 1 Axes>"
      ]
     },
     "metadata": {},
     "output_type": "display_data"
    }
   ],
   "source": [
    "niterations= 150000\n",
    "batch_size = 50      # sample over which to compute average loss\n",
    "    \n",
    "losses, best_model = trainModel(bag, \n",
    "                                 model, optimizer, average_loss, \n",
    "                                 getRandomBatch,\n",
    "                                 train_x, train_t, \n",
    "                                 valid_x, valid_t,\n",
    "                                 valid_galaxies, valid_quasars,\n",
    "                                 batch_size, niterations,\n",
    "                                 losses, step)\n",
    "\n",
    "plotAverageLosses(losses)"
   ]
  },
  {
   "cell_type": "code",
   "execution_count": 20,
   "metadata": {},
   "outputs": [
    {
     "data": {
      "image/png": "[encoded data removed]",
      "text/plain": [
       "<Figure size 500x400 with 1 Axes>"
      ]
     },
     "metadata": {},
     "output_type": "display_data"
    }
   ],
   "source": [
    "best_model.eval()\n",
    "y = best_model(test_x)\n",
    "\n",
    "bag.latent = best_model.latent()\n",
    "bag.select = [test_galaxies, test_quasars]\n",
    "bag.makegif= False\n",
    "\n",
    "plotLatentSpace(bag, xbins=100, xmin=0.0, xmax=1.0, ymax=500)"
   ]
  },
  {
   "cell_type": "code",
   "execution_count": null,
   "metadata": {},
   "outputs": [],
   "source": []
  }
 ],
 "metadata": {
  "kernelspec": {
   "display_name": "Python 3 (ipykernel)",
   "language": "python",
   "name": "python3"
  },
  "language_info": {
   "codemirror_mode": {
    "name": "ipython",
    "version": 3
   },
   "file_extension": ".py",
   "mimetype": "text/x-python",
   "name": "python",
   "nbconvert_exporter": "python",
   "pygments_lexer": "ipython3",
   "version": "3.11.0"
  }
 },
 "nbformat": 4,
 "nbformat_minor": 1
}
