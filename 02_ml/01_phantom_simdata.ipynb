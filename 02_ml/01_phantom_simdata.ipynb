{
 "cells": [
  {
   "cell_type": "markdown",
   "metadata": {},
   "source": [
    "## Simulation-Based Inference: Type1a Supernovae\n",
    "## Data Generation\n",
    ">Created: Mar. 29, 2023, for CLASHEP 2023, San Esteban, Chile, Harrison B. Prosper<br>\n",
    ">Updated: Apr. 7, 2023 HBP\n",
    "\n",
    "## Introduction\n",
    "\n",
    "In the simplest models, a __[Type Ia supernova](https://en.wikipedia.org/wiki/Type_Ia_supernova)__ is thought to be the thermonuclear detonation of a carbon-oxygen white dwarf whose mass has reached the __[Chandrasekhar limit](https://en.wikipedia.org/wiki/Chandrasekhar_limit)__ of about 1.4 times the mass of the Sun. Beyond that mass limit, the \"quantum pressure\" of the electrons due to the Pauli exclusion principle is insufficient to keep the white dwarf stable. The favored model is a binary system in which a white dwarf accretes hydrogen from its red giant partner until the white dwarf reaches the point of thermonuclear instability. The fact that roughly the same mass explodes each time, namely 1.4 solar masses, which yields an immensely luminous event, makes Type 1a supernovae excellent markers for measuring cosmological distances. While there is some variation in the luminosity of these explosions, it turns out that through a simple empirical procedure it is possible to convert these explosions into standard candles. Given a standard candle, that is, a system of known luminosity and therefore known intrinsic brightness, and given the system's apparent brightness, the inverse square law can be used to infer the distance to the system. If we can determine the distance and redshift $z = (\\lambda_o - \\lambda_e)/ \\lambda_e$ for many Type 1a supernovae, we can use these data (and others) to infer the parameters of cosmological models. The observed wavelength $\\lambda_o$ is readily measured, while the emitted wavelength $\\lambda_e$, that is, the wavelength of the light emitted by the supernova in its rest frame, can be inferred by identifying the known spectral lines of the excited atoms and molecules in the supernova.\n",
    "\n",
    "## Simulations\n",
    "\n",
    "In this notebook, we simulate many instances of distance modulus/redshift data. Each data instance comprises simulated data for 580 Type 1a supernovae generated from  the 2-parameter cosmological model described in __phantom_model.ipynb__. For every parameter point $\\theta \\equiv (n, H_0)$, where $n$ is a dimensionless index and $H_0$ is the Hubble constant, we simulate one instance of data taking as fixed the 580 redshifts in the [Supernova Cosmology Project Union 2.1 compilation](https://supernova.lbl.gov/Union/) and the 580 standard deviations associated with the 580 distance modulus measurements. We assume that the uncertainties in the redshifts and the standard deviations are negligible and that the only data that vary over the simulations are the distance moduli. The covariance matrix for the Union 2.1 compilation is taken to be diagonal. "
   ]
  },
  {
   "cell_type": "code",
   "execution_count": 1,
   "metadata": {},
   "outputs": [],
   "source": [
    "from tqdm import tqdm"
   ]
  },
  {
   "cell_type": "code",
   "execution_count": 20,
   "metadata": {},
   "outputs": [],
   "source": [
    "%run phantom_model.ipynb"
   ]
  },
  {
   "cell_type": "code",
   "execution_count": 3,
   "metadata": {},
   "outputs": [
    {
     "name": "stdout",
     "output_type": "stream",
     "text": [
      "number of observations: 580\n",
      "     \t         z\t         x +/- dx        \n",
      "    0\t     0.028\t   35.3466 +/- 0.2239    \n",
      "  100\t     0.065\t   37.3067 +/- 0.1628    \n",
      "  200\t     0.194\t   39.9615 +/- 0.1264    \n",
      "  300\t     0.620\t   43.2280 +/- 0.3903    \n",
      "  400\t     0.710\t   43.0220 +/- 0.1843    \n",
      "  500\t     0.564\t   42.3729 +/- 0.2920    \n",
      "number of observations used: 580\n",
      "\n",
      "type1a_union_2_1_data.png\n"
     ]
    },
    {
     "data": {
      "image/png": "[encoded data removed]",
      "text/plain": [
       "<Figure size 500x400 with 1 Axes>"
      ]
     },
     "metadata": {},
     "output_type": "display_data"
    }
   ],
   "source": [
    "# place results in a bag for later use\n",
    "class Bag: pass\n",
    "\n",
    "bag = Bag()\n",
    "\n",
    "bag.name = 'phantom'\n",
    "\n",
    "filename = 'data/type1a_union2.1.txt'\n",
    "bag.z, bag.x, bag.dx = read_data(filename)\n",
    "\n",
    "bag.box  = False # if true place a box around parameter space\n",
    "\n",
    "# initialize parameters\n",
    "bag.guess= np.array([3.0, 70.0])\n",
    "Ndata    = len(bag.z)\n",
    "\n",
    "print(f'number of observations used: {Ndata:d}')\n",
    "\n",
    "plot_data(bag)"
   ]
  },
  {
   "cell_type": "markdown",
   "metadata": {},
   "source": [
    "### Fit using scipy optimize"
   ]
  },
  {
   "cell_type": "code",
   "execution_count": 4,
   "metadata": {},
   "outputs": [
    {
     "name": "stdout",
     "output_type": "stream",
     "text": [
      "\n",
      "Fitted values of parameters for phantom model\n",
      " 2.81 +/- 0.01\n",
      "70.41 +/- 0.10\n"
     ]
    }
   ],
   "source": [
    "results = op.minimize(nll, bag.guess, args=(bag,))\n",
    "bag.cov = results.hess_inv\n",
    "bag.res = results.x\n",
    "\n",
    "print('\\nFitted values of parameters for %s model' % bag.name)\n",
    "for i in range(len(bag.res)):\n",
    "    print(f'{bag.res[i]:5.2f} +/-{np.sqrt(bag.cov[i,i]):5.2f}')"
   ]
  },
  {
   "cell_type": "markdown",
   "metadata": {},
   "source": [
    "### Perform fit using the *iminuit* wrapper\n",
    "\n",
    "If you have iminuit installed, unfreeze this cell by commenting out the %%script command."
   ]
  },
  {
   "cell_type": "code",
   "execution_count": 5,
   "metadata": {},
   "outputs": [
    {
     "name": "stdout",
     "output_type": "stream",
     "text": [
      "\n",
      "Fitted values of parameters for phantom model\n",
      " 2.81 +/- 0.19\n",
      "70.41 +/- 0.45\n"
     ]
    }
   ],
   "source": [
    "#%%script false --no-raise-error\n",
    "\n",
    "# Tell Minuit that the cost function is negative log-likelihood\n",
    "# rather than a chisquare so that the Hessian is scaled correctly.\n",
    "#nll.errordef = im.Minuit.LEAST_SQUARES\n",
    "\n",
    "# nice wrapper around the CERN minimization package MINUIT\n",
    "import iminuit as im\n",
    "\n",
    "nll.errordef = im.Minuit.LIKELIHOOD\n",
    "\n",
    "bag.box = False # impose a boundary on parameter space\n",
    "\n",
    "results = im.minimize(nll, bag.guess, args=(bag,)) \n",
    "bag.res = results.x\n",
    "bag.cov = results.hess_inv\n",
    "\n",
    "print('\\nFitted values of parameters for %s model' % bag.name)\n",
    "for i in range(len(bag.res)):\n",
    "    print(f'{bag.res[i]:5.2f} +/-{np.sqrt(bag.cov[i,i]):5.2f}')"
   ]
  },
  {
   "cell_type": "markdown",
   "metadata": {},
   "source": [
    "### Plot Results"
   ]
  },
  {
   "cell_type": "code",
   "execution_count": 21,
   "metadata": {},
   "outputs": [
    {
     "name": "stdout",
     "output_type": "stream",
     "text": [
      "\n",
      "fig_phantom_union_fit.pdf\n"
     ]
    },
    {
     "data": {
      "image/png": "[encoded data removed]",
      "text/plain": [
       "<Figure size 550x400 with 1 Axes>"
      ]
     },
     "metadata": {},
     "output_type": "display_data"
    }
   ],
   "source": [
    "plot_data(bag, nll)"
   ]
  },
  {
   "cell_type": "markdown",
   "metadata": {},
   "source": [
    "### Generate simulated data sets\n",
    "\n",
    "For each point $\\theta \\equiv (n, H_0) \\in (0.5, 6)\\otimes(66, 76)$ generate a single data instance, $D$, comprising data for $N = 580$ Type 1a supernova, and compute the test statistic\n",
    "\n",
    "\\begin{align}\n",
    "    \\lambda(D, \\theta) & = \\sqrt{\\frac{1}{N} \\sum_{i=1}^N \\left(\\frac{x_i - \\mu(z_i, \\theta)}{\\sigma_i}\\right)^2},\n",
    "\\end{align}\n",
    "\n",
    "where $x_i \\pm \\sigma_i$ is the measured distance modulus for supernova $i$, $z_i$ is its measured redshift, and $\\mu(z_i, \\theta)$ is the predicted distance modulus given the assumed cosmological model and a point $\\theta$ in the parameter space of the model.\n",
    "\n",
    "We sample using a uniform prior, but, in principle, any reasonable prior will do."
   ]
  },
  {
   "cell_type": "code",
   "execution_count": 8,
   "metadata": {},
   "outputs": [],
   "source": [
    "# parameter subspace\n",
    "bag.nmin =  0.5\n",
    "bag.nmax =  6.0\n",
    "bag.hmin = 66.0\n",
    "bag.hmax = 76.0"
   ]
  },
  {
   "cell_type": "code",
   "execution_count": 13,
   "metadata": {},
   "outputs": [
    {
     "name": "stderr",
     "output_type": "stream",
     "text": [
      "100%|████████████████████████████████| 275000/275000 [00:17<00:00, 16172.85it/s]\n"
     ]
    }
   ],
   "source": [
    "# sample using a uniform prior\n",
    "N     = 275000\n",
    "bag.n = np.random.uniform(bag.nmin, bag.nmax, N)\n",
    "bag.H = np.random.uniform(bag.hmin, bag.hmax, N)\n",
    "mu    = [0]*N\n",
    "x     = [0]*N\n",
    "\n",
    "# generate data sets\n",
    "for i in tqdm(range(N)):\n",
    "\n",
    "    # (1) compute predicted distance moduli for hypothesis (n, H)\n",
    "    n    = bag.n[i]\n",
    "    H    = bag.H[i]\n",
    "    mu[i]= distance_modulus(bag.z, n, H) \n",
    "    \n",
    "    # (2) simulate distance moduli for hypothesis (n, H) and compute test statistic\n",
    "    x[i] = np.random.normal(loc=mu[i], scale=bag.dx)"
   ]
  },
  {
   "cell_type": "code",
   "execution_count": 14,
   "metadata": {},
   "outputs": [
    {
     "name": "stdout",
     "output_type": "stream",
     "text": [
      "\n",
      "computing lo test statistics and Z indicators...\n"
     ]
    },
    {
     "name": "stderr",
     "output_type": "stream",
     "text": [
      "100%|████████████████████████████████| 275000/275000 [00:03<00:00, 80978.29it/s]\n"
     ]
    }
   ],
   "source": [
    "print('\\ncomputing lo test statistics and Z indicators...')\n",
    "\n",
    "# reserve space for test statistics computed using observed data\n",
    "l0 = np.zeros(N)\n",
    "\n",
    "# reserve space for test statistics computed using simulated \"observed\" data\n",
    "lo = np.zeros(N)\n",
    "\n",
    "# reserve space for test statistics\n",
    "l  = np.zeros(N)\n",
    "\n",
    "# compute test statistics\n",
    "\n",
    "# indices to randomly shuffle simulated data\n",
    "ii = np.arange(0, N, 1)\n",
    "np.random.shuffle(ii)\n",
    "\n",
    "for i in tqdm(range(N)):\n",
    "    \n",
    "    # (1) compute test statistic using observed distance moduli\n",
    "    y     = (bag.x - mu[i])/bag.dx\n",
    "    l0[i] = (y**2).mean()\n",
    "    \n",
    "    # (2) compute test statistic using simulated \"observed\" distance moduli\n",
    "    y     = (x[ii[i]] - mu[i])/bag.dx \n",
    "    lo[i] = (y**2).mean()\n",
    "\n",
    "    # (3) compute test statistic using simulated distance moduli\n",
    "    y     = (x[i] - mu[i])/bag.dx \n",
    "    l[i]  = (y**2).mean()\n",
    "\n",
    "# take square-root of test statistics to reduce their dynamic ranges\n",
    "l0 = np.sqrt(l0)\n",
    "lo = np.sqrt(lo)\n",
    "l  = np.sqrt(l)\n",
    "\n",
    "# compute indicator variables\n",
    "Z0 = (l <= l0).astype(int)\n",
    "Zo = (l <= lo).astype(int)"
   ]
  },
  {
   "cell_type": "code",
   "execution_count": 15,
   "metadata": {},
   "outputs": [
    {
     "name": "stdout",
     "output_type": "stream",
     "text": [
      "data/type1a_simdata.csv\n",
      "done!\n"
     ]
    }
   ],
   "source": [
    "import pandas as pd\n",
    "\n",
    "# save to a pandas DataFrame\n",
    "df = pd.DataFrame({'n':  bag.n, \n",
    "                   'H0': bag.H,\n",
    "                   'l':  l, \n",
    "                   'l0': l0,\n",
    "                   'lo': lo,\n",
    "                   'Z0': Z0, \n",
    "                   'Zo': Zo})\n",
    "\n",
    "os.system('cd data; rm -rf type1a_simdata.csv*')\n",
    "\n",
    "outfile = 'data/type1a_simdata.csv'\n",
    "print(outfile)\n",
    "df.to_csv(outfile, index=False)\n",
    "\n",
    "os.system('cd data; gzip -9 type1a_simdata.csv')\n",
    "\n",
    "print('done!')"
   ]
  },
  {
   "cell_type": "code",
   "execution_count": null,
   "metadata": {},
   "outputs": [],
   "source": []
  }
 ],
 "metadata": {
  "kernelspec": {
   "display_name": "Python 3 (ipykernel)",
   "language": "python",
   "name": "python3"
  },
  "language_info": {
   "codemirror_mode": {
    "name": "ipython",
    "version": 3
   },
   "file_extension": ".py",
   "mimetype": "text/x-python",
   "name": "python",
   "nbconvert_exporter": "python",
   "pygments_lexer": "ipython3",
   "version": "3.11.0"
  }
 },
 "nbformat": 4,
 "nbformat_minor": 1
}
