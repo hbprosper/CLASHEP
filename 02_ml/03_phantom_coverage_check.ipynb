{
 "cells": [
  {
   "cell_type": "markdown",
   "metadata": {
    "id": "40Yb47zJQglm"
   },
   "source": [
    "## Simulation-Based Inference: Type1a Supernovae\n",
    "### Coverage Check\n",
    "Created: March 26, 2023, for CLASHEP 2023, San Esteban, Chile, Harrison B. Prosper<br>\n",
    "\n",
    "### Introduction \n",
    "\n",
    "This notebook checks the coverage of the confidence sets created in the notebook __phantom.ipynb__ for a 2-parameter cosmological model fitted to the data from Type1a supernovae. (See phantom.ipynb for details.) The __frequentist principle__ requires that the coverage probability be bounded from below by the desired __confidence level__ (CL). In practice, if the coverage probability is within about 5 to 10\\% of the CL that should be considered satisfactory.\n",
    "\n",
    "### Coverage\n",
    "\n",
    "  1. For each of 500 randomly sampled parameter points $(n, H_0)$ from the 95\\% confidence set computed for the real data, simulate 1000 Type 1a data sets and compute the test statistic $\\lambda_0$ for each simulated data set.\n",
    "      1. Randomly pick a confidence level $\\tau \\in (0.5, 1)$ and compute the coverage probability; that is, we compute the relative frequency $f$ with which the statement $\\mathbb{P}(\\lambda \\le \\lambda_0| n, H_0) \\leq \\tau$ is true over the ensemble of 1000 data sets.\n",
    "      1. Compute the ratio $f \\, / \\, \\tau$.\n",
    "  1. Repeat 2 and 3, 10 times.\n",
    "  1. If the simulation-based inference is valid, we expect $f \\, / \\, \\tau \\approx 1$.\n",
    "  "
   ]
  },
  {
   "cell_type": "code",
   "execution_count": 1,
   "metadata": {
    "id": "FA1Y5VCv20XZ"
   },
   "outputs": [],
   "source": [
    "import os, sys\n",
    "\n",
    "# the standard module for tabular data\n",
    "import pandas as pd\n",
    "\n",
    "# the standard module for array manipulation\n",
    "import numpy as np\n",
    "\n",
    "# the standard modules for high-quality plots\n",
    "import matplotlib as mp\n",
    "import matplotlib.pyplot as plt\n",
    "\n",
    "# standard scientific python module\n",
    "import scipy as sp\n",
    "import scipy.stats as st\n",
    "import scipy.optimize as op\n",
    "\n",
    "# module to save results\n",
    "import joblib as jb\n",
    "\n",
    "# pytorch\n",
    "import torch\n",
    "import torch.nn as nn\n",
    "\n",
    "# to reload modules\n",
    "import importlib\n",
    "\n",
    "%matplotlib inline"
   ]
  },
  {
   "cell_type": "code",
   "execution_count": 2,
   "metadata": {},
   "outputs": [],
   "source": [
    "# update fonts\n",
    "FONTSIZE = 16\n",
    "font = {'family' : 'serif',\n",
    "        'weight' : 'normal',\n",
    "        'size'   : FONTSIZE}\n",
    "mp.rc('font', **font)\n",
    "\n",
    "# set usetex = False if LaTex is not \n",
    "# available on your system or if the \n",
    "# rendering is too slow\n",
    "mp.rc('text', usetex=True)"
   ]
  },
  {
   "cell_type": "code",
   "execution_count": 3,
   "metadata": {},
   "outputs": [],
   "source": [
    "%run phantom_model.ipynb"
   ]
  },
  {
   "cell_type": "code",
   "execution_count": 4,
   "metadata": {},
   "outputs": [
    {
     "name": "stdout",
     "output_type": "stream",
     "text": [
      "loading data/type1a_simdata.csv.gz\n",
      "number of observations: 580\n",
      "     \t         z\t         x +/- dx        \n",
      "    0\t     0.028\t   35.3466 +/- 0.2239    \n",
      "  100\t     0.065\t   37.3067 +/- 0.1628    \n",
      "  200\t     0.194\t   39.9615 +/- 0.1264    \n",
      "  300\t     0.620\t   43.2280 +/- 0.3903    \n",
      "  400\t     0.710\t   43.0220 +/- 0.1843    \n",
      "  500\t     0.564\t   42.3729 +/- 0.2920    \n",
      "\n",
      "number of rows: 125000\n",
      "xmin: 0.05, xmax: 0.60\n",
      "ymin: 0.66, ymax: 0.76\n"
     ]
    },
    {
     "data": {
      "text/html": [
       "<div>\n",
       "<style scoped>\n",
       "    .dataframe tbody tr th:only-of-type {\n",
       "        vertical-align: middle;\n",
       "    }\n",
       "\n",
       "    .dataframe tbody tr th {\n",
       "        vertical-align: top;\n",
       "    }\n",
       "\n",
       "    .dataframe thead th {\n",
       "        text-align: right;\n",
       "    }\n",
       "</style>\n",
       "<table border=\"1\" class=\"dataframe\">\n",
       "  <thead>\n",
       "    <tr style=\"text-align: right;\">\n",
       "      <th></th>\n",
       "      <th>n</th>\n",
       "      <th>H0</th>\n",
       "      <th>l</th>\n",
       "      <th>l0</th>\n",
       "      <th>lo</th>\n",
       "      <th>Z0</th>\n",
       "      <th>Zo</th>\n",
       "    </tr>\n",
       "  </thead>\n",
       "  <tbody>\n",
       "    <tr>\n",
       "      <th>0</th>\n",
       "      <td>0.335650</td>\n",
       "      <td>0.693135</td>\n",
       "      <td>1.024721</td>\n",
       "      <td>1.069084</td>\n",
       "      <td>1.001841</td>\n",
       "      <td>1</td>\n",
       "      <td>0</td>\n",
       "    </tr>\n",
       "    <tr>\n",
       "      <th>1</th>\n",
       "      <td>0.481360</td>\n",
       "      <td>0.717442</td>\n",
       "      <td>1.016954</td>\n",
       "      <td>1.116854</td>\n",
       "      <td>0.966655</td>\n",
       "      <td>1</td>\n",
       "      <td>0</td>\n",
       "    </tr>\n",
       "    <tr>\n",
       "      <th>2</th>\n",
       "      <td>0.187341</td>\n",
       "      <td>0.661942</td>\n",
       "      <td>1.017248</td>\n",
       "      <td>1.092019</td>\n",
       "      <td>1.011932</td>\n",
       "      <td>1</td>\n",
       "      <td>0</td>\n",
       "    </tr>\n",
       "    <tr>\n",
       "      <th>3</th>\n",
       "      <td>0.435773</td>\n",
       "      <td>0.753917</td>\n",
       "      <td>1.019675</td>\n",
       "      <td>1.086881</td>\n",
       "      <td>0.991170</td>\n",
       "      <td>1</td>\n",
       "      <td>0</td>\n",
       "    </tr>\n",
       "    <tr>\n",
       "      <th>4</th>\n",
       "      <td>0.188308</td>\n",
       "      <td>0.754367</td>\n",
       "      <td>1.009683</td>\n",
       "      <td>1.606686</td>\n",
       "      <td>1.004998</td>\n",
       "      <td>1</td>\n",
       "      <td>0</td>\n",
       "    </tr>\n",
       "  </tbody>\n",
       "</table>\n",
       "</div>"
      ],
      "text/plain": [
       "          n        H0         l        l0        lo  Z0  Zo\n",
       "0  0.335650  0.693135  1.024721  1.069084  1.001841   1   0\n",
       "1  0.481360  0.717442  1.016954  1.116854  0.966655   1   0\n",
       "2  0.187341  0.661942  1.017248  1.092019  1.011932   1   0\n",
       "3  0.435773  0.753917  1.019675  1.086881  0.991170   1   0\n",
       "4  0.188308  0.754367  1.009683  1.606686  1.004998   1   0"
      ]
     },
     "execution_count": 4,
     "metadata": {},
     "output_type": "execute_result"
    }
   ],
   "source": [
    "# read simulated Type1a data that mimick the real data for 580 supernova\n",
    "\n",
    "datafile = 'data/type1a_simdata.csv.gz'\n",
    "print('loading %s' % datafile)\n",
    "tdata = pd.read_csv(datafile)\n",
    "\n",
    "# get (unscaled) boundaries of parameter subspace \n",
    "xmin  = int(10*(tdata.n.min()+0.01))/10\n",
    "xmax  = int(10*(tdata.n.max()+0.01))/10\n",
    "\n",
    "ymin  = int(10*(tdata.H0.min()+0.01))/10\n",
    "ymax  = int(10*(tdata.H0.max()+0.01))/10\n",
    "\n",
    "# put everything into a bag called for convenience\n",
    "class Bag:\n",
    "    pass\n",
    "\n",
    "bag = Bag()\n",
    "bag.name   = 'phantom'\n",
    "bag.id     = 1 # ID of phantom model\n",
    "\n",
    "bag.weight = 'Z0'  # see hist_data\n",
    "bag.xscale = 10    # scale by which to reduce \"n\" parameter\n",
    "bag.xbins  = 10\n",
    "bag.xmin   = xmin / bag.xscale\n",
    "bag.xmax   = xmax / bag.xscale\n",
    "bag.xstep  = 1    / bag.xscale\n",
    "bag.xname  = 'n'\n",
    "bag.xlabel = 'n'\n",
    "\n",
    "bag.yscale = 100   # scale by which to reduce \"H0\" parameter\n",
    "bag.ybins  = 10\n",
    "bag.ymin   = ymin / bag.yscale\n",
    "bag.ymax   = ymax / bag.yscale\n",
    "bag.ystep  = 2    / bag.yscale\n",
    "bag.yname  = 'H0'\n",
    "bag.ylabel = 'H_0'\n",
    "\n",
    "filename   = 'data/type1a_union2.1.txt'\n",
    "bag.z, bag.x, bag.dx = read_data(filename)\n",
    "\n",
    "# reduce the dynamic range of parameters n and H0\n",
    "tdata.n   /= bag.xscale\n",
    "tdata.H0  /= bag.yscale\n",
    "\n",
    "features   = ['lo', 'n', 'H0']  # inputs into ML model\n",
    "target     = 'Zo'               # targets for ML model\n",
    "\n",
    "print()\n",
    "print('number of rows:', len(tdata))\n",
    "print(f'xmin: {bag.xmin:4.2f}, xmax: {bag.xmax:4.2f}')\n",
    "print(f'ymin: {bag.ymin:4.2f}, ymax: {bag.ymax:4.2f}')\n",
    "\n",
    "tdata[:5]"
   ]
  },
  {
   "cell_type": "markdown",
   "metadata": {},
   "source": [
    "### Load 95\\% Confidence Set\n",
    "\n",
    "A confidence set at confidence level (CL) $100 \\times \\tau$\\% is the set of \n",
    " all parameter points $(n, H_0)$ for which\n",
    "$$\\mathbb{P}(\\lambda \\le \\lambda_0 | n, H_0) \\le \\tau,$$\n",
    "\n",
    "where $\\lambda_0$ is the observed value of the test statistic for a given point $(n, H_0)$. Since $\\lambda_0$ depends both on the data ($D$), which are *fixed*, as well as on the parameters $\\theta \\equiv (n, H_0)$, in general, $\\lambda_0(D, \\theta)$ will vary from one parameter point to the next.\n",
    "\n",
    "The 95\\% CL confidence set pertains to the Union 2.1 supernovae data."
   ]
  },
  {
   "cell_type": "code",
   "execution_count": 5,
   "metadata": {},
   "outputs": [
    {
     "data": {
      "text/html": [
       "<div>\n",
       "<style scoped>\n",
       "    .dataframe tbody tr th:only-of-type {\n",
       "        vertical-align: middle;\n",
       "    }\n",
       "\n",
       "    .dataframe tbody tr th {\n",
       "        vertical-align: top;\n",
       "    }\n",
       "\n",
       "    .dataframe thead th {\n",
       "        text-align: right;\n",
       "    }\n",
       "</style>\n",
       "<table border=\"1\" class=\"dataframe\">\n",
       "  <thead>\n",
       "    <tr style=\"text-align: right;\">\n",
       "      <th></th>\n",
       "      <th>n</th>\n",
       "      <th>H0</th>\n",
       "    </tr>\n",
       "  </thead>\n",
       "  <tbody>\n",
       "    <tr>\n",
       "      <th>0</th>\n",
       "      <td>0.224555</td>\n",
       "      <td>0.700893</td>\n",
       "    </tr>\n",
       "    <tr>\n",
       "      <th>1</th>\n",
       "      <td>0.268223</td>\n",
       "      <td>0.707235</td>\n",
       "    </tr>\n",
       "    <tr>\n",
       "      <th>2</th>\n",
       "      <td>0.187647</td>\n",
       "      <td>0.691416</td>\n",
       "    </tr>\n",
       "    <tr>\n",
       "      <th>3</th>\n",
       "      <td>0.273057</td>\n",
       "      <td>0.715483</td>\n",
       "    </tr>\n",
       "    <tr>\n",
       "      <th>4</th>\n",
       "      <td>0.384381</td>\n",
       "      <td>0.738267</td>\n",
       "    </tr>\n",
       "    <tr>\n",
       "      <th>5</th>\n",
       "      <td>0.200567</td>\n",
       "      <td>0.677708</td>\n",
       "    </tr>\n",
       "    <tr>\n",
       "      <th>6</th>\n",
       "      <td>0.218639</td>\n",
       "      <td>0.683929</td>\n",
       "    </tr>\n",
       "    <tr>\n",
       "      <th>7</th>\n",
       "      <td>0.197785</td>\n",
       "      <td>0.697138</td>\n",
       "    </tr>\n",
       "    <tr>\n",
       "      <th>8</th>\n",
       "      <td>0.376473</td>\n",
       "      <td>0.728972</td>\n",
       "    </tr>\n",
       "    <tr>\n",
       "      <th>9</th>\n",
       "      <td>0.441521</td>\n",
       "      <td>0.742820</td>\n",
       "    </tr>\n",
       "  </tbody>\n",
       "</table>\n",
       "</div>"
      ],
      "text/plain": [
       "          n        H0\n",
       "0  0.224555  0.700893\n",
       "1  0.268223  0.707235\n",
       "2  0.187647  0.691416\n",
       "3  0.273057  0.715483\n",
       "4  0.384381  0.738267\n",
       "5  0.200567  0.677708\n",
       "6  0.218639  0.683929\n",
       "7  0.197785  0.697138\n",
       "8  0.376473  0.728972\n",
       "9  0.441521  0.742820"
      ]
     },
     "execution_count": 5,
     "metadata": {},
     "output_type": "execute_result"
    }
   ],
   "source": [
    "# read 95% confidence set\n",
    "bag.CL = 0.95\n",
    "c95    = pd.read_csv('data/type1a_95CL.csv')\n",
    "n      = c95.n.to_numpy()\n",
    "H0     = c95.H0.to_numpy()\n",
    "c95[:10]"
   ]
  },
  {
   "cell_type": "markdown",
   "metadata": {},
   "source": [
    "### Load trained ML model\n",
    "\n",
    "Load the model that approximates $\\mathbb{P}(\\lambda < \\lambda_0| n, H_0)$."
   ]
  },
  {
   "cell_type": "code",
   "execution_count": 6,
   "metadata": {},
   "outputs": [
    {
     "name": "stdout",
     "output_type": "stream",
     "text": [
      "load model: phantom.dict\n",
      "phantom\n",
      "Sequential(\n",
      "  (0): Linear(in_features=3, out_features=40, bias=True)\n",
      "  (1): ReLU()\n",
      "  (2): Linear(in_features=40, out_features=40, bias=True)\n",
      "  (3): ReLU()\n",
      "  (4): Linear(in_features=40, out_features=40, bias=True)\n",
      "  (5): ReLU()\n",
      "  (6): Linear(in_features=40, out_features=40, bias=True)\n",
      "  (7): ReLU()\n",
      "  (8): Linear(in_features=40, out_features=1, bias=True)\n",
      "  (9): Sigmoid()\n",
      ")\n",
      "number of parameters: 5121\n"
     ]
    }
   ],
   "source": [
    "import phantom_dnn as NN\n",
    "importlib.reload(NN)\n",
    "\n",
    "def number_of_parameters(model):\n",
    "    return sum(p.numel() for p in model.parameters() if p.requires_grad)\n",
    "\n",
    "name     = NN.name\n",
    "model    = NN.model\n",
    "features = NN.features\n",
    "target   = NN.target\n",
    "\n",
    "Load_model = False\n",
    "modelfile  = '%s.dict' % NN.name\n",
    "print('load model: %s' % modelfile)\n",
    "\n",
    "modeldict = torch.load(modelfile)\n",
    "NN.model.load_state_dict(modeldict)\n",
    "\n",
    "print(name)\n",
    "print(model)\n",
    "print('number of parameters: %d' % number_of_parameters(model))"
   ]
  },
  {
   "cell_type": "markdown",
   "metadata": {},
   "source": [
    "### Place a simple wrapper around the ML model for convenience"
   ]
  },
  {
   "cell_type": "code",
   "execution_count": 7,
   "metadata": {},
   "outputs": [],
   "source": [
    "def cdf(l, n, H, f=model):   \n",
    "    # go to evaluation mode\n",
    "    model.eval()\n",
    "    \n",
    "    # compute,reshape to a 1d array, and convert to a numpy array\n",
    "    X = torch.Tensor(np.array([l, n, H]).T)\n",
    "    Y = model(X).view(-1,).detach().numpy()\n",
    "    if len(Y) == 1:\n",
    "        return Y[0]\n",
    "    else:\n",
    "        return Y"
   ]
  },
  {
   "cell_type": "code",
   "execution_count": 9,
   "metadata": {},
   "outputs": [],
   "source": [
    "def plot_confidence_set(x, y, d, filename='phantom_95CL_set.png', \n",
    "                        fgsize=(5, 5), ftsize=14):\n",
    "        \n",
    "    xbins, xmin, xmax, xstep = d.xbins, d.xmin, d.xmax, d.xstep\n",
    "    ybins, ymin, ymax, ystep = d.ybins, d.ymin, d.ymax, d.ystep\n",
    "\n",
    "    # Now make plots\n",
    "    fig, ax = plt.subplots(nrows=1, ncols=1, figsize=fgsize)\n",
    "    \n",
    "    ax.set_xlim(xmin, xmax)\n",
    "    ax.set_xlabel(r'$%s$' % d.xlabel, fontsize=ftsize)\n",
    "    ax.set_xticks(np.arange(xmin, xmax+xstep, xstep))\n",
    "    \n",
    "    ax.set_ylim(ymin, ymax)\n",
    "    ax.set_ylabel(r'$%s$' % d.ylabel, fontsize=ftsize)\n",
    "\n",
    "    ax.scatter(x, y, s=1, c='steelblue')\n",
    "\n",
    "    xpos = xmin + 0.1*(xmax-xmin)\n",
    "    ypos = ymin + 0.9*(ymax-ymin)\n",
    "    percent = '%'\n",
    "    CL   = int(100*d.CL)\n",
    "    ax.text(xpos, ypos, f'{CL:2d}\\% CL set', fontsize=ftsize)\n",
    "        \n",
    "    ax.grid()\n",
    "\n",
    "    plt.tight_layout()\n",
    "\n",
    "    print('saved to file:', filename)\n",
    "    plt.savefig(filename)\n",
    "        \n",
    "    plt.show()"
   ]
  },
  {
   "cell_type": "code",
   "execution_count": 10,
   "metadata": {},
   "outputs": [
    {
     "name": "stdout",
     "output_type": "stream",
     "text": [
      "saved to file: phantom_95CL_set.png\n"
     ]
    },
    {
     "data": {
      "image/png": "[encoded data removed]",
      "text/plain": [
       "<Figure size 500x500 with 1 Axes>"
      ]
     },
     "metadata": {},
     "output_type": "display_data"
    }
   ],
   "source": [
    "N = 2000\n",
    "plot_confidence_set(n[:N], H0[:N], bag, \n",
    "                    filename='phantom_%2.2dCL_set.png' % int(100*bag.CL))"
   ]
  },
  {
   "cell_type": "markdown",
   "metadata": {},
   "source": [
    "### Check Coverage Probability \n",
    "\n",
    "For a given *fixed* point $(n, H_0)$, simulate 1000 instances of 580 Type 1a data. For each data instance, $D$, compute the test statistic $\\lambda_0 \\equiv \\lambda(D, n, H_0)$. By definition, if $\\mathbb{P}(\\lambda \\le \\lambda_0 | n, H_0) \\le \\tau$, where $\\tau$ is the desired confidence level the point $(n, H_0)$ lies within the confidence set associated with $D$. The coverage probability, $f$, is simply the fraction of data instances for which this statement is true. If our neural network approximation of the cdf $\\mathbb{P}(\\lambda \\le \\lambda_0 | n, H_0)$ is accurate, then we expect $p \\approx \\tau$."
   ]
  },
  {
   "cell_type": "code",
   "execution_count": 13,
   "metadata": {},
   "outputs": [],
   "source": [
    "def simulate_test_statistics(n, H0, d, size=1000):\n",
    "    \n",
    "    # numpy array for test statistics\n",
    "    l = np.zeros(size)\n",
    "    \n",
    "    for i in range(size):\n",
    "        \n",
    "        # compute distance moduli for given parameter point (n, H0)\n",
    "        mu= distance_modulus(d.z, n, H0)\n",
    "        \n",
    "        # generate data\n",
    "        x = np.random.normal(loc=mu, scale=d.dx)\n",
    "        \n",
    "        # compute test statistic\n",
    "        y = (x - mu)/d.dx \n",
    "        l[i] = (y**2).mean()\n",
    "        \n",
    "    l = np.sqrt(l)\n",
    "    if size < 2:\n",
    "        return l[0]\n",
    "    else:\n",
    "        return l"
   ]
  },
  {
   "cell_type": "code",
   "execution_count": 14,
   "metadata": {},
   "outputs": [
    {
     "name": "stdout",
     "output_type": "stream",
     "text": [
      "number of parameter points: 1000\n",
      "  990\n",
      "done!\n"
     ]
    }
   ],
   "source": [
    "statistics = []\n",
    "M = 1000\n",
    "print(f'number of parameter points: {M:d}')\n",
    "for i, x, y in zip(range(M), n, H0):\n",
    "    statistics.append( simulate_test_statistics(x, y, bag) )\n",
    "    if i % 10 == 0:\n",
    "        print(f'\\r{i:5d}', end='')\n",
    "print()\n",
    "print('done!')"
   ]
  },
  {
   "cell_type": "code",
   "execution_count": 15,
   "metadata": {},
   "outputs": [],
   "source": [
    "def compute_coverage(cdf, l, n, H0, cov, ecov, tau, x1, x2):\n",
    "    N, K = l.shape\n",
    "    t = list(np.random.uniform(0.5, 1.0, N))\n",
    "    c = [0] * N\n",
    "    e = [0] * N\n",
    "    for j, x, y in zip(range(N), n, H0):\n",
    "        x = np.full((K), x)\n",
    "        y = np.full((K), y)\n",
    "        p = cdf(l[j], x, y)\n",
    "    \n",
    "        c[j] = np.mean(p <= t[j])\n",
    "        e[j] = np.sqrt(c[j]*(1 - c[j])/K)\n",
    "        x    = c[j] / t[j]\n",
    "        x1  += x\n",
    "        x2  += x*x\n",
    "        \n",
    "    cov  += c\n",
    "    ecov += e\n",
    "    tau  += t\n",
    "    return cov, ecov, tau, x1, x2"
   ]
  },
  {
   "cell_type": "code",
   "execution_count": 16,
   "metadata": {},
   "outputs": [
    {
     "name": "stdout",
     "output_type": "stream",
     "text": [
      "cov/tau:  1.002 (2.10%)\n",
      "\n",
      "done!\n"
     ]
    }
   ],
   "source": [
    "l   = np.array(statistics)\n",
    "cov = []\n",
    "ecov= []\n",
    "tau = []\n",
    "x1  = 0\n",
    "x2  = 0\n",
    "for k in range(10):\n",
    "    r = compute_coverage(cdf, l, n, H0, cov, ecov, tau, x1, x2)\n",
    "    cov, ecov, tau, x1, x2 = r\n",
    "    \n",
    "M   = len(cov)\n",
    "x1 /= M\n",
    "x2 /= M\n",
    "x2  = np.sqrt(x2-x1*x1)\n",
    "f   = 100 * x2 / x1\n",
    "print('cov/tau: %6.3f (%4.2f%s)' % (x1, f, '%'))\n",
    "print('\\ndone!')"
   ]
  },
  {
   "cell_type": "code",
   "execution_count": 26,
   "metadata": {},
   "outputs": [],
   "source": [
    "def plot_actual_coverage(x, y, tau, cov, d, Mp=1000, M=4000,\n",
    "                         filename='type1a_coverage.png', \n",
    "                         fgsize=(12, 4), ftsize=20):\n",
    "\n",
    "        \n",
    "    fig, axx = plt.subplots(nrows=1, ncols=3, figsize=fgsize)\n",
    "    ax = axx[0]\n",
    "    xmin, xmax = d.xmin, d.xmax\n",
    "    ymin, ymax = d.ymin, d.ymax\n",
    "\n",
    "    ax.set_xlim(xmin, xmax)\n",
    "    ax.set_ylim(ymin, ymax)\n",
    "    ax.set_xlabel(r'$%s$' % d.xlabel, fontsize=ftsize)\n",
    "    ax.set_ylabel(r'$%s$' % d.ylabel, fontsize=ftsize)\n",
    "    ax.scatter(x[:Mp], y[:Mp], \n",
    "               s=1, c='steelblue', #alpha=0.7, \n",
    "               label='95\\% CL set')\n",
    "    ax.legend(fontsize=14)\n",
    "    ax.grid()\n",
    "\n",
    "    ax = axx[1]\n",
    "    ax.set_xlim(0.5, 1)\n",
    "    ax.set_ylim(0.5, 1)\n",
    "    ax.set_xlabel(r'$\\tau$', fontsize=ftsize)\n",
    "    ax.set_xticks([0.5, 0.6, 0.7, 0.8, 0.9, 1.0])\n",
    "    ax.set_ylabel(r'coverage', fontsize=ftsize)\n",
    "    ax.scatter(tau[:M], cov[:M], \n",
    "               s=1, c='steelblue')\n",
    "    \n",
    "    ax.plot([0.5, 1], [0.5, 1], linewidth=2, c='orange')\n",
    "    ax.grid()\n",
    "    \n",
    "    # histogram coverage probabilities\n",
    "    ax = axx[2]\n",
    "    xmin = 0.6\n",
    "    xmax = 1.4\n",
    "    xbins=100\n",
    "    ax.set_xlim(xmin, xmax)\n",
    "    #ax.set_xticks([0.8, 0.9, 1.0, 1.1, 1.2])\n",
    "    ax.set_xlabel(r'$\\textrm{coverage} \\, / \\, \\tau$', \n",
    "                  fontsize=ftsize) \n",
    "    cov = np.array(cov)\n",
    "    tau = np.array(tau)\n",
    "    y   = cov / tau\n",
    "    mean= y.mean()\n",
    "    stdv= y.std()\n",
    "    rms = np.sqrt((mean-1)**2 + stdv**2)\n",
    "    \n",
    "    h   = ax.hist(y, bins=xbins, range=(xmin, xmax),\n",
    "            color='steelblue',\n",
    "            alpha=0.7)\n",
    "    \n",
    "    ymin= 0\n",
    "    ii  = int(h[0].max()/500)\n",
    "    ymax= (ii+2)*500\n",
    "    ax.set_ylim(ymin, ymax)\n",
    "        \n",
    "    xpos = xmin + 0.55*(xmax-xmin)\n",
    "    ypos = ymin + 0.80*(ymax-ymin)\n",
    "    ystep= (ymax-ymin)/10\n",
    "    \n",
    "    ax.text(xpos, ypos, 'mean: %6.3f' % mean)\n",
    "    \n",
    "    ypos -= ystep\n",
    "    ax.text(xpos, ypos, ' rms: %6.3f' % rms)\n",
    "    \n",
    "    ax.grid()\n",
    "    \n",
    "    plt.tight_layout()\n",
    "    print(gfile)\n",
    "    plt.savefig(gfile)\n",
    "    plt.show()"
   ]
  },
  {
   "cell_type": "code",
   "execution_count": 27,
   "metadata": {},
   "outputs": [
    {
     "name": "stdout",
     "output_type": "stream",
     "text": [
      "type1a_coverage.png\n"
     ]
    },
    {
     "data": {
      "image/png": "[encoded data removed]",
      "text/plain": [
       "<Figure size 1200x400 with 3 Axes>"
      ]
     },
     "metadata": {},
     "output_type": "display_data"
    }
   ],
   "source": [
    "gfile = 'type1a_coverage.png'\n",
    "plot_actual_coverage(n, H0, tau, cov, bag, filename=gfile)"
   ]
  },
  {
   "cell_type": "code",
   "execution_count": null,
   "metadata": {},
   "outputs": [],
   "source": []
  }
 ],
 "metadata": {
  "accelerator": "GPU",
  "colab": {
   "collapsed_sections": [],
   "name": "DRL_19_REINFORCE_Algorithm.ipynb",
   "provenance": []
  },
  "kernelspec": {
   "display_name": "Python 3 (ipykernel)",
   "language": "python",
   "name": "python3"
  },
  "language_info": {
   "codemirror_mode": {
    "name": "ipython",
    "version": 3
   },
   "file_extension": ".py",
   "mimetype": "text/x-python",
   "name": "python",
   "nbconvert_exporter": "python",
   "pygments_lexer": "ipython3",
   "version": "3.11.0"
  }
 },
 "nbformat": 4,
 "nbformat_minor": 1
}
