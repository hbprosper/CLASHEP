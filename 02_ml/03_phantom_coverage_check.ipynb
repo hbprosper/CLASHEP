{
 "cells": [
  {
   "cell_type": "markdown",
   "metadata": {
    "id": "40Yb47zJQglm"
   },
   "source": [
    "## Simulation-Based Inference: Type1a Supernovae, Coverage Check\n",
    ">Created: March 26, 2023, for CLASHEP 2023, San Esteban, Chile, Harrison B. Prosper<br>\n",
    ">Updated: April 7, 2023 HBP\n",
    "\n",
    "\n",
    "\n",
    "\n",
    "### Introduction \n",
    "\n",
    "This notebook checks the coverage of the confidence sets created in the notebook __02_phantom_inference.ipynb__ for a 2-parameter cosmological model fitted to the data from Type1a supernovae. (See phantom_model.ipynb for details.) The __frequentist principle__ requires that the coverage probability be bounded from below by the desired __confidence level__ (CL). In practice, if the coverage probability is within about 5 to 10\\% of the desired CL that should be considered satisfactory.\n",
    "\n",
    "### Coverage\n",
    "The hypothesis $H_0 : \\theta = \\theta_0$ is rejected whenever the p-value $\\mathbb{P}(\\lambda \\gt \\lambda_0| \\theta_0) \\lt 1 - \\tau = \\alpha$, where $\\tau$ is the confidence level. The corollary is that the hypothesis is *not* rejected if $\\mathbb{P}(\\lambda \\le \\lambda_0| \\theta_0) \\le \\tau$, which therefore determines whether or not the point $\\theta_0$ lies within the $\\tau$-confidence set. This observation is the key to the algorithm below for checking the coverage probability.\n",
    "\n",
    "  1. For each of 500 randomly sampled parameter points $\\theta_0$ (chosen from the 95\\% confidence set computed using real Type 1a data) simulate 4000 Type 1a data sets, each consisting of simulated data for 580 Type 1a supernovae and compute the test statistic $\\lambda_0$ for each data set.\n",
    "      1. For each value $\\tau \\in [0.683, 0.8, 0.9, 0.95]$, compute the coverage probability, that is, the relative frequency $p$ with which statements of the form $\\mathbb{P}(\\lambda \\le \\lambda_0| \\theta_0) \\leq \\tau$ are true over the ensemble of 4000 test statistics.\n",
    "  1. If the simulation-based inference is valid, we expect $p \\approx \\tau$."
   ]
  },
  {
   "cell_type": "code",
   "execution_count": 1,
   "metadata": {
    "id": "FA1Y5VCv20XZ"
   },
   "outputs": [],
   "source": [
    "import os, sys\n",
    "\n",
    "# the standard module for tabular data\n",
    "import pandas as pd\n",
    "\n",
    "# the standard module for array manipulation\n",
    "import numpy as np\n",
    "\n",
    "# the standard modules for high-quality plots\n",
    "import matplotlib as mp\n",
    "import matplotlib.pyplot as plt\n",
    "\n",
    "# standard scientific python module\n",
    "import scipy as sp\n",
    "import scipy.stats as st\n",
    "import scipy.optimize as op\n",
    "\n",
    "# module to save results\n",
    "import joblib as jb\n",
    "\n",
    "# pytorch\n",
    "import torch\n",
    "import torch.nn as nn\n",
    "\n",
    "# to reload modules\n",
    "import importlib\n",
    "\n",
    "%matplotlib inline"
   ]
  },
  {
   "cell_type": "code",
   "execution_count": 2,
   "metadata": {},
   "outputs": [],
   "source": [
    "# update fonts\n",
    "FONTSIZE = 16\n",
    "font = {'family' : 'serif',\n",
    "        'weight' : 'normal',\n",
    "        'size'   : FONTSIZE}\n",
    "mp.rc('font', **font)\n",
    "\n",
    "# set usetex = False if LaTex is not \n",
    "# available on your system or if the \n",
    "# rendering is too slow\n",
    "mp.rc('text', usetex=True)"
   ]
  },
  {
   "cell_type": "code",
   "execution_count": 3,
   "metadata": {},
   "outputs": [],
   "source": [
    "%run phantom_model.ipynb"
   ]
  },
  {
   "cell_type": "code",
   "execution_count": 4,
   "metadata": {},
   "outputs": [
    {
     "name": "stdout",
     "output_type": "stream",
     "text": [
      "loading data/type1a_simdata.csv.gz\n",
      "number of observations: 580\n",
      "     \t         z\t         x +/- dx        \n",
      "    0\t     0.028\t   35.3466 +/- 0.2239    \n",
      "  100\t     0.065\t   37.3067 +/- 0.1628    \n",
      "  200\t     0.194\t   39.9615 +/- 0.1264    \n",
      "  300\t     0.620\t   43.2280 +/- 0.3903    \n",
      "  400\t     0.710\t   43.0220 +/- 0.1843    \n",
      "  500\t     0.564\t   42.3729 +/- 0.2920    \n",
      "\n",
      "number of rows: 275000\n",
      "xmin: 0.05, xmax: 0.60\n",
      "ymin: 0.66, ymax: 0.76\n"
     ]
    },
    {
     "data": {
      "text/html": [
       "<div>\n",
       "<style scoped>\n",
       "    .dataframe tbody tr th:only-of-type {\n",
       "        vertical-align: middle;\n",
       "    }\n",
       "\n",
       "    .dataframe tbody tr th {\n",
       "        vertical-align: top;\n",
       "    }\n",
       "\n",
       "    .dataframe thead th {\n",
       "        text-align: right;\n",
       "    }\n",
       "</style>\n",
       "<table border=\"1\" class=\"dataframe\">\n",
       "  <thead>\n",
       "    <tr style=\"text-align: right;\">\n",
       "      <th></th>\n",
       "      <th>n</th>\n",
       "      <th>H0</th>\n",
       "      <th>l</th>\n",
       "      <th>l0</th>\n",
       "      <th>lo</th>\n",
       "      <th>Z0</th>\n",
       "      <th>Zo</th>\n",
       "    </tr>\n",
       "  </thead>\n",
       "  <tbody>\n",
       "    <tr>\n",
       "      <th>0</th>\n",
       "      <td>0.393632</td>\n",
       "      <td>0.730757</td>\n",
       "      <td>1.006532</td>\n",
       "      <td>1.015473</td>\n",
       "      <td>0.970374</td>\n",
       "      <td>1</td>\n",
       "      <td>0</td>\n",
       "    </tr>\n",
       "    <tr>\n",
       "      <th>1</th>\n",
       "      <td>0.292003</td>\n",
       "      <td>0.696037</td>\n",
       "      <td>0.991506</td>\n",
       "      <td>1.006351</td>\n",
       "      <td>1.541803</td>\n",
       "      <td>1</td>\n",
       "      <td>1</td>\n",
       "    </tr>\n",
       "    <tr>\n",
       "      <th>2</th>\n",
       "      <td>0.365906</td>\n",
       "      <td>0.708710</td>\n",
       "      <td>1.034574</td>\n",
       "      <td>1.024765</td>\n",
       "      <td>1.057431</td>\n",
       "      <td>0</td>\n",
       "      <td>1</td>\n",
       "    </tr>\n",
       "    <tr>\n",
       "      <th>3</th>\n",
       "      <td>0.553187</td>\n",
       "      <td>0.739221</td>\n",
       "      <td>0.988936</td>\n",
       "      <td>1.093398</td>\n",
       "      <td>1.444401</td>\n",
       "      <td>1</td>\n",
       "      <td>1</td>\n",
       "    </tr>\n",
       "    <tr>\n",
       "      <th>4</th>\n",
       "      <td>0.421428</td>\n",
       "      <td>0.681756</td>\n",
       "      <td>1.041732</td>\n",
       "      <td>1.340285</td>\n",
       "      <td>1.770373</td>\n",
       "      <td>1</td>\n",
       "      <td>1</td>\n",
       "    </tr>\n",
       "  </tbody>\n",
       "</table>\n",
       "</div>"
      ],
      "text/plain": [
       "          n        H0         l        l0        lo  Z0  Zo\n",
       "0  0.393632  0.730757  1.006532  1.015473  0.970374   1   0\n",
       "1  0.292003  0.696037  0.991506  1.006351  1.541803   1   1\n",
       "2  0.365906  0.708710  1.034574  1.024765  1.057431   0   1\n",
       "3  0.553187  0.739221  0.988936  1.093398  1.444401   1   1\n",
       "4  0.421428  0.681756  1.041732  1.340285  1.770373   1   1"
      ]
     },
     "execution_count": 4,
     "metadata": {},
     "output_type": "execute_result"
    }
   ],
   "source": [
    "# read simulated Type1a data that mimick the real data for 580 supernova\n",
    "\n",
    "datafile = 'data/type1a_simdata.csv.gz'\n",
    "print('loading %s' % datafile)\n",
    "tdata = pd.read_csv(datafile)\n",
    "\n",
    "# get (unscaled) boundaries of parameter subspace \n",
    "xmin  = int(10*(tdata.n.min()+0.01))/10\n",
    "xmax  = int(10*(tdata.n.max()+0.01))/10\n",
    "\n",
    "ymin  = int(10*(tdata.H0.min()+0.01))/10\n",
    "ymax  = int(10*(tdata.H0.max()+0.01))/10\n",
    "\n",
    "# put everything into a bag called for convenience\n",
    "class Bag:\n",
    "    pass\n",
    "\n",
    "bag = Bag()\n",
    "bag.name   = 'phantom'\n",
    "\n",
    "bag.weight = 'Z0'  # see hist_data\n",
    "bag.xscale = 10    # scale by which to reduce \"n\" parameter\n",
    "bag.xbins  = 10\n",
    "bag.xmin   = xmin / bag.xscale\n",
    "bag.xmax   = xmax / bag.xscale\n",
    "bag.xstep  = 1    / bag.xscale\n",
    "bag.xname  = 'n'\n",
    "bag.xlabel = 'n'\n",
    "\n",
    "bag.yscale = 100   # scale by which to reduce \"H0\" parameter\n",
    "bag.ybins  = 10\n",
    "bag.ymin   = ymin / bag.yscale\n",
    "bag.ymax   = ymax / bag.yscale\n",
    "bag.ystep  = 2    / bag.yscale\n",
    "bag.yname  = 'H0'\n",
    "bag.ylabel = 'H_0'\n",
    "\n",
    "filename   = 'data/type1a_union2.1.txt'\n",
    "bag.z, bag.x, bag.dx = read_data(filename)\n",
    "\n",
    "# reduce the dynamic range of parameters n and H0\n",
    "tdata.n   /= bag.xscale\n",
    "tdata.H0  /= bag.yscale\n",
    "\n",
    "features   = ['lo', 'n', 'H0']  # inputs into ML model\n",
    "target     = 'Zo'               # targets for ML model\n",
    "\n",
    "print()\n",
    "print('number of rows:', len(tdata))\n",
    "print(f'xmin: {bag.xmin:4.2f}, xmax: {bag.xmax:4.2f}')\n",
    "print(f'ymin: {bag.ymin:4.2f}, ymax: {bag.ymax:4.2f}')\n",
    "\n",
    "tdata[:5]"
   ]
  },
  {
   "cell_type": "markdown",
   "metadata": {},
   "source": [
    "### Load 95\\% Confidence Set\n",
    "\n",
    "A confidence set at confidence level (CL) $100 \\times \\tau$\\% is the set of \n",
    " all parameter points $\\theta_0 \\equiv (n, H_0)$ for which\n",
    "$$\\mathbb{P}(\\lambda \\le \\lambda_0 | n, H_0) \\le \\tau,$$\n",
    "\n",
    "where $\\lambda_0$ is the observed value of the test statistic for a given point $(n, H_0)$. Since $\\lambda_0$ depends both on the data ($D$), which are *fixed*, as well as on the parameter point $\\theta_0$, in general, $\\lambda_0(D, \\theta)$ will vary from one parameter point to the next.\n",
    "\n",
    "The 95\\% CL confidence set pertains to the Union 2.1 supernovae data."
   ]
  },
  {
   "cell_type": "code",
   "execution_count": 5,
   "metadata": {},
   "outputs": [
    {
     "data": {
      "text/html": [
       "<div>\n",
       "<style scoped>\n",
       "    .dataframe tbody tr th:only-of-type {\n",
       "        vertical-align: middle;\n",
       "    }\n",
       "\n",
       "    .dataframe tbody tr th {\n",
       "        vertical-align: top;\n",
       "    }\n",
       "\n",
       "    .dataframe thead th {\n",
       "        text-align: right;\n",
       "    }\n",
       "</style>\n",
       "<table border=\"1\" class=\"dataframe\">\n",
       "  <thead>\n",
       "    <tr style=\"text-align: right;\">\n",
       "      <th></th>\n",
       "      <th>n</th>\n",
       "      <th>H0</th>\n",
       "    </tr>\n",
       "  </thead>\n",
       "  <tbody>\n",
       "    <tr>\n",
       "      <th>0</th>\n",
       "      <td>0.366026</td>\n",
       "      <td>0.728173</td>\n",
       "    </tr>\n",
       "    <tr>\n",
       "      <th>1</th>\n",
       "      <td>0.487778</td>\n",
       "      <td>0.738300</td>\n",
       "    </tr>\n",
       "    <tr>\n",
       "      <th>2</th>\n",
       "      <td>0.382864</td>\n",
       "      <td>0.728365</td>\n",
       "    </tr>\n",
       "    <tr>\n",
       "      <th>3</th>\n",
       "      <td>0.296969</td>\n",
       "      <td>0.699969</td>\n",
       "    </tr>\n",
       "    <tr>\n",
       "      <th>4</th>\n",
       "      <td>0.368471</td>\n",
       "      <td>0.723029</td>\n",
       "    </tr>\n",
       "    <tr>\n",
       "      <th>5</th>\n",
       "      <td>0.414139</td>\n",
       "      <td>0.742505</td>\n",
       "    </tr>\n",
       "    <tr>\n",
       "      <th>6</th>\n",
       "      <td>0.464234</td>\n",
       "      <td>0.730123</td>\n",
       "    </tr>\n",
       "    <tr>\n",
       "      <th>7</th>\n",
       "      <td>0.416906</td>\n",
       "      <td>0.733030</td>\n",
       "    </tr>\n",
       "    <tr>\n",
       "      <th>8</th>\n",
       "      <td>0.329003</td>\n",
       "      <td>0.697028</td>\n",
       "    </tr>\n",
       "    <tr>\n",
       "      <th>9</th>\n",
       "      <td>0.392057</td>\n",
       "      <td>0.722914</td>\n",
       "    </tr>\n",
       "  </tbody>\n",
       "</table>\n",
       "</div>"
      ],
      "text/plain": [
       "          n        H0\n",
       "0  0.366026  0.728173\n",
       "1  0.487778  0.738300\n",
       "2  0.382864  0.728365\n",
       "3  0.296969  0.699969\n",
       "4  0.368471  0.723029\n",
       "5  0.414139  0.742505\n",
       "6  0.464234  0.730123\n",
       "7  0.416906  0.733030\n",
       "8  0.329003  0.697028\n",
       "9  0.392057  0.722914"
      ]
     },
     "execution_count": 5,
     "metadata": {},
     "output_type": "execute_result"
    }
   ],
   "source": [
    "# read 95% confidence set\n",
    "bag.CL = 0.95\n",
    "c95    = pd.read_csv('data/type1a_95CL.csv')\n",
    "n      = c95.n.to_numpy()\n",
    "H0     = c95.H0.to_numpy()\n",
    "c95[:10]"
   ]
  },
  {
   "cell_type": "markdown",
   "metadata": {},
   "source": [
    "### Load trained ML model\n",
    "\n",
    "Load the model that approximates $\\mathbb{P}(\\lambda < \\lambda_0| n, H_0)$."
   ]
  },
  {
   "cell_type": "code",
   "execution_count": 6,
   "metadata": {},
   "outputs": [
    {
     "name": "stdout",
     "output_type": "stream",
     "text": [
      "load model: phantom.dict\n",
      "Sequential(\n",
      "  (0): Linear(in_features=3, out_features=20, bias=True)\n",
      "  (1): ReLU()\n",
      "  (2): Linear(in_features=20, out_features=20, bias=True)\n",
      "  (3): ReLU()\n",
      "  (4): Linear(in_features=20, out_features=20, bias=True)\n",
      "  (5): ReLU()\n",
      "  (6): Linear(in_features=20, out_features=20, bias=True)\n",
      "  (7): ReLU()\n",
      "  (8): Linear(in_features=20, out_features=20, bias=True)\n",
      "  (9): ReLU()\n",
      "  (10): Linear(in_features=20, out_features=1, bias=True)\n",
      "  (11): Sigmoid()\n",
      ")\n",
      "number of parameters: 1781\n"
     ]
    }
   ],
   "source": [
    "import phantom_dnn as NN\n",
    "importlib.reload(NN)\n",
    "\n",
    "def number_of_parameters(model):\n",
    "    return sum(p.numel() for p in model.parameters() if p.requires_grad)\n",
    "\n",
    "name     = NN.name\n",
    "model    = NN.model\n",
    "modelfile= f'{name:s}.dict'\n",
    "print('load model: %s' % modelfile)\n",
    "modeldict = torch.load(modelfile)\n",
    "NN.model.load_state_dict(modeldict)\n",
    "\n",
    "print(model)\n",
    "print('number of parameters: %d' % number_of_parameters(model))"
   ]
  },
  {
   "cell_type": "markdown",
   "metadata": {},
   "source": [
    "### Place a simple wrapper around the ML model for convenience"
   ]
  },
  {
   "cell_type": "code",
   "execution_count": 7,
   "metadata": {},
   "outputs": [],
   "source": [
    "def cdf(l, n, H, f=model):   \n",
    "    # go to evaluation mode\n",
    "    model.eval()\n",
    "    \n",
    "    # compute,reshape to a 1d array, and convert to a numpy array\n",
    "    X = torch.Tensor(np.array([l, n, H]).T)\n",
    "    Y = model(X).view(-1,).detach().numpy()\n",
    "    if len(Y) == 1:\n",
    "        return Y[0]\n",
    "    else:\n",
    "        return Y"
   ]
  },
  {
   "cell_type": "markdown",
   "metadata": {},
   "source": [
    "### Check Coverage Probability \n",
    "\n",
    "For a given *fixed* point $(n, H_0)$, simulate 4,000 instances of 580 Type 1a data. For each data instance, $D$, compute the test statistic $\\lambda_0 \\equiv \\lambda(D, n, H_0)$. By definition, if $\\mathbb{P}(\\lambda \\le \\lambda_0 | n, H_0) \\le \\tau$, where $\\tau$ is the desired confidence level the point $(n, H_0)$ lies within the confidence set associated with $D$. The coverage probability, $p$, is the fraction of data instances for which this statement is true. If our neural network approximation of the cdf $\\mathbb{P}(\\lambda \\le \\lambda_0 | n, H_0)$ is accurate, then we expect $p \\approx \\tau$.\n",
    "\n",
    "#### Simulate test statistics for given parameter points"
   ]
  },
  {
   "cell_type": "code",
   "execution_count": 8,
   "metadata": {},
   "outputs": [],
   "source": [
    "def simulate_test_statistics(n, H0, d, size=4000):\n",
    "    \n",
    "    # numpy array for test statistics\n",
    "    l = np.zeros(size)\n",
    "    \n",
    "    for i in range(size):\n",
    "        \n",
    "        # compute distance moduli for given parameter point (n, H0)\n",
    "        mu= distance_modulus(d.z, n, H0)\n",
    "        \n",
    "        # generate data\n",
    "        x = np.random.normal(loc=mu, scale=d.dx)\n",
    "        \n",
    "        # compute test statistic\n",
    "        y = (x - mu)/d.dx \n",
    "        l[i] = (y**2).mean()\n",
    "        \n",
    "    l = np.sqrt(l)\n",
    "    if size < 2:\n",
    "        return l[0]\n",
    "    else:\n",
    "        return l"
   ]
  },
  {
   "cell_type": "code",
   "execution_count": 9,
   "metadata": {},
   "outputs": [
    {
     "name": "stderr",
     "output_type": "stream",
     "text": [
      "100%|█████████████████████████████████████████| 500/500 [01:55<00:00,  4.32it/s]\n"
     ]
    }
   ],
   "source": [
    "from tqdm import tqdm\n",
    "N = 500\n",
    "statistics = []\n",
    "for i in tqdm(range(N)):\n",
    "    statistics.append( simulate_test_statistics(n[i], H0[i], bag) )"
   ]
  },
  {
   "cell_type": "markdown",
   "metadata": {},
   "source": [
    "#### Compute coverage probability $\\mathbb{P}(\\theta_0 \\in R(D) | \\theta_0)$"
   ]
  },
  {
   "cell_type": "code",
   "execution_count": 10,
   "metadata": {},
   "outputs": [],
   "source": [
    "def compute_coverage(cdf, l, n, H0, tau=0.683):\n",
    "    # N: number of parameter points\n",
    "    # K: number of data instances / parameter point\n",
    "    N, K = l.shape\n",
    "    cov  = [0] * N\n",
    "    ecov = [0] * N\n",
    "    for j, x, y in zip(range(N), n, H0):\n",
    "        x = np.full((K), x)\n",
    "        y = np.full((K), y)\n",
    "        p = cdf(l[j], x, y)\n",
    "        # compute coverage\n",
    "        cov[j]  = np.mean(p <= tau)\n",
    "        ecov[j] = np.sqrt(cov[j]*(1 - cov[j])/K)\n",
    "    return cov, ecov"
   ]
  },
  {
   "cell_type": "markdown",
   "metadata": {},
   "source": [
    "For each confidence level $\\tau$, compute coverage at 500 parameter points."
   ]
  },
  {
   "cell_type": "code",
   "execution_count": 11,
   "metadata": {},
   "outputs": [
    {
     "name": "stdout",
     "output_type": "stream",
     "text": [
      "0.683\n",
      "0.8\n",
      "0.9\n",
      "0.95\n",
      "done!\n"
     ]
    }
   ],
   "source": [
    "l   = np.array(statistics)\n",
    "cov = []\n",
    "for t in [0.683, 0.80, 0.90, 0.95]:\n",
    "    print(t)\n",
    "    c, e = compute_coverage(cdf, l, n, H0, t)\n",
    "    cov.append((t, c, e))\n",
    "print('done!')"
   ]
  },
  {
   "cell_type": "code",
   "execution_count": 16,
   "metadata": {},
   "outputs": [],
   "source": [
    "def plot_coverage(x, y, N, cov, d, \n",
    "                  filename='fig_phantom_coverage.pdf', \n",
    "                         fgsize=(9, 4), ftsize=18):\n",
    "\n",
    "    fig, axx = plt.subplots(nrows=1, ncols=2, figsize=fgsize)\n",
    "    \n",
    "    # pad\n",
    "    plt.subplots_adjust(hspace=0.01)\n",
    "    plt.subplots_adjust(wspace=0.3)\n",
    "\n",
    "    # plot points in coverage set that have been used.\n",
    "    ax = axx[0]\n",
    "    xmin, xmax = d.xmin, d.xmax\n",
    "    ymin, ymax = d.ymin, d.ymax\n",
    "\n",
    "    ax.set_xlim(xmin, xmax)\n",
    "    ax.set_ylim(ymin, ymax)\n",
    "    ax.set_xlabel(r'$%s$' % d.xlabel, fontsize=ftsize)\n",
    "    ax.set_ylabel(r'$%s$' % d.ylabel, fontsize=ftsize)\n",
    "    ax.scatter(x[:N], y[:N], \n",
    "               s=1, c='black', #alpha=0.7, \n",
    "               label='95\\% CL set')\n",
    "    ax.legend(fontsize=14)\n",
    "    ax.grid()\n",
    "    \n",
    "    # plot coverage versus parameter point\n",
    "    tau, c, ec = cov[0]\n",
    "    xmin = 0\n",
    "    xmax = len(c)\n",
    "    p  = np.arange(0, xmax, 1)\n",
    "    ax = axx[1]\n",
    "    ax.set_xlim(xmin, xmax)\n",
    "    ax.set_xlabel('parameter point', fontsize=ftsize)\n",
    "    \n",
    "    ax.set_ylim(0.5, 1)\n",
    "    ax.set_yticks([0.5, 0.6, 0.7, 0.8, 0.9, 1.0])\n",
    "    ax.set_ylabel('coverage', fontsize=ftsize)\n",
    "    \n",
    "    \n",
    "    color = ['red', 'darkorange', 'royalblue', 'darkgreen']\n",
    "    for kolor, (tau, c, ec) in zip(color, cov):\n",
    "        ax.scatter(p, c, s=1, c=kolor)\n",
    "        ax.plot([xmin, xmax], [tau, tau], c=kolor, linewidth=2)\n",
    "\n",
    "    ax.grid() \n",
    "    \n",
    "    plt.tight_layout()\n",
    "    plt.savefig(filename)"
   ]
  },
  {
   "cell_type": "code",
   "execution_count": 17,
   "metadata": {},
   "outputs": [
    {
     "data": {
      "image/png": "[encoded data removed]",
      "text/plain": [
       "<Figure size 900x400 with 2 Axes>"
      ]
     },
     "metadata": {},
     "output_type": "display_data"
    }
   ],
   "source": [
    "plot_coverage(n, H0, N, cov, bag)"
   ]
  },
  {
   "cell_type": "code",
   "execution_count": null,
   "metadata": {},
   "outputs": [],
   "source": []
  }
 ],
 "metadata": {
  "accelerator": "GPU",
  "colab": {
   "collapsed_sections": [],
   "name": "DRL_19_REINFORCE_Algorithm.ipynb",
   "provenance": []
  },
  "kernelspec": {
   "display_name": "Python 3 (ipykernel)",
   "language": "python",
   "name": "python3"
  },
  "language_info": {
   "codemirror_mode": {
    "name": "ipython",
    "version": 3
   },
   "file_extension": ".py",
   "mimetype": "text/x-python",
   "name": "python",
   "nbconvert_exporter": "python",
   "pygments_lexer": "ipython3",
   "version": "3.11.0"
  }
 },
 "nbformat": 4,
 "nbformat_minor": 1
}
