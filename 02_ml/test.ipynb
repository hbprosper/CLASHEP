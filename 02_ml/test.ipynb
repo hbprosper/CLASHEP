{
 "cells": [
  {
   "cell_type": "markdown",
   "metadata": {},
   "source": [
    "# Import Test\n",
    "\n",
    " >__Created__: Mar 18 2023, CLASHEP 2023, San Esteban, Chile,  Harrison B. Prosper <br>\n",
    "\n",
    "Check that the importing of modules work."
   ]
  },
  {
   "cell_type": "code",
   "execution_count": 1,
   "metadata": {},
   "outputs": [],
   "source": [
    "import os, sys\n",
    "\n",
    "# for importing and reloading Python modules\n",
    "import importlib\n",
    "\n",
    "# the standard module for tabular data\n",
    "import pandas as pd\n",
    "\n",
    "# the standard module for array manipulation\n",
    "import numpy as np\n",
    "\n",
    "# the standard modules for high-quality plots\n",
    "import matplotlib as mp\n",
    "import matplotlib.pyplot as plt\n",
    "%matplotlib inline\n",
    "\n",
    "# module to manipulate images and produce animated gifs\n",
    "import imageio.v2 as im\n",
    "    \n",
    "# widely used machine learning toolkit developed by FaceBook aka Meta\n",
    "import torch\n",
    "import torch.nn as nn\n",
    "\n",
    "# an easy-to-use machine learning toolkit containing many standard methods\n",
    "import sklearn as sk\n",
    "\n",
    "# an excellent symbolic algebra module\n",
    "import sympy as sm\n",
    "# enable pretty printing of equations\n",
    "sm.init_printing()"
   ]
  },
  {
   "cell_type": "code",
   "execution_count": 2,
   "metadata": {},
   "outputs": [],
   "source": [
    "# update fonts\n",
    "FONTSIZE = 14\n",
    "font = {'family' : 'serif',\n",
    "        'weight' : 'normal',\n",
    "        'size'   : FONTSIZE}\n",
    "mp.rc('font', **font)\n",
    "\n",
    "# set usetex = False if LaTex is not \n",
    "# available on your system or if the \n",
    "# rendering of plots is too slow\n",
    "mp.rc('text', usetex=True)"
   ]
  },
  {
   "cell_type": "markdown",
   "metadata": {},
   "source": [
    "### Tips\n",
    "  1. esc M to go to markdown mode\n",
    "  1. esc Y to go to code mode\n",
    "  1. command ] to move a selected block of code right\n",
    "  1. command [ to move a selected block of code left"
   ]
  },
  {
   "cell_type": "code",
   "execution_count": null,
   "metadata": {},
   "outputs": [],
   "source": []
  }
 ],
 "metadata": {
  "kernelspec": {
   "display_name": "Python 3 (ipykernel)",
   "language": "python",
   "name": "python3"
  },
  "language_info": {
   "codemirror_mode": {
    "name": "ipython",
    "version": 3
   },
   "file_extension": ".py",
   "mimetype": "text/x-python",
   "name": "python",
   "nbconvert_exporter": "python",
   "pygments_lexer": "ipython3",
   "version": "3.11.0"
  }
 },
 "nbformat": 4,
 "nbformat_minor": 1
}
