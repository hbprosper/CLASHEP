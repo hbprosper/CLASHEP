{
 "cells": [
  {
   "cell_type": "markdown",
   "metadata": {
    "id": "40Yb47zJQglm"
   },
   "source": [
    "## Simulation-Based Inference: Type1a Supernovae\n",
    "## A Simple Phantom Energy Model\n",
    "Created: Mar. 21, 2023, CLASHEP 2023, San Esteban, Chile, Harrison B. Prosper<br>\n",
    "Updated: Mar. 28, 2023, HBP\n",
    "\n",
    "### Cosmological Model\n",
    "The cosmological model used in the simulation-based tutorial (__phantom.ipynb__) is defined by the dimensionless energy density \n",
    "\\begin{equation}\n",
    "    \\Omega(a) = \\exp(a^n - 1) \\, / \\, a^3,\n",
    "\\end{equation}\n",
    "\n",
    "where the index $n$ is a free parameter. This model can be integrated exactly, yielding \n",
    "\n",
    "\\begin{align}\n",
    "    H_0 t & = \\int_0^a \\frac{dy}{y \\sqrt{\\Omega(y)}}, \\\\\n",
    "          & = \\sqrt{e} \\, 2^{\\frac{3}{2 n}}  \\gamma\\left(\\frac{3}{2 n}, \\frac{a^n}{2}\\right) \\, / \\, n , \n",
    "\\end{align}\n",
    "\n",
    "where $\\gamma(a, x) = \\int_0^x \\, t^{a - 1} \\, e^{-t} \\, dt$ is the \n",
    "[lower incomplete gamma function](https://en.wikipedia.org/wiki/Incomplete_gamma_function). The inverse function\n",
    "\n",
    "\\begin{equation}\n",
    "    a(t)  = \\sqrt[n]{2 \\gamma^{-1}(3/(2n), \\, n 2^{-3/(2n)} H_0 t \\, / \\sqrt{e})}\n",
    "\\end{equation}\n",
    "\n",
    "gives the dimensionless scale factor $a$ as a function of time $t$ since the Big Bang. The scale factor is defined so that it is equal to one today, which defines the age of the universe, \n",
    "\n",
    "\\begin{align}\n",
    "    H_0 t_0 \n",
    "& = \\sqrt{e} \\, 2^{\\frac{3}{2 n}}  \\gamma\\left(\\frac{3}{2 n}, \\frac{1}{2}\\right) \\, / \\, n .\n",
    "\\end{align}\n",
    "\n",
    "Interestingly, the dependence of the scale factor $a(t)$ on  the time $t$ is practically indistinguishable from that of the standard $\\Lambda$-CDM model for $a < 1$. But the model exhibits \n",
    "a future singularity (a __Big Rip__) characterized by the condition $a \\rightarrow \\infty$ at a *finite* time. In our model, the Big Rip occurs at\n",
    "\n",
    "\\begin{equation}\n",
    "    H_0 t_\\textrm{rip} = \\sqrt{e} \\, 2^{\\frac{3}{2n}} \\, \\Gamma\\left(\\frac{3}{2n}\\right) \\, / \\, n,\n",
    "\\end{equation}\n",
    "\n",
    "that is, at \n",
    "\n",
    "\\begin{align}\n",
    "    t_\\textrm{rip} & = \\frac{\\Gamma\\left(\\frac{3}{2n}\\right)}{\\gamma\\left(\\frac{3}{2 n}, \\frac{1}{2}\\right) } \\, t_0 .\n",
    "\\end{align}\n",
    "\n",
    "The quantity\n",
    "\\begin{equation}\n",
    "    \\mu(z, \\theta) = 5 \\log_{10}[(1 + z) \\, \\sin(\\sqrt{-\\Omega_K} \\, u(z, \\theta))\\, / \\, \\sqrt{-\\Omega_K}] - 5 \\log_{10}(H_0) + 5 \\log_{10}(c) + 25,\n",
    "\\end{equation}\n",
    "where\n",
    "\\begin{equation}\n",
    "    u(z, \\theta) \\equiv \\int_{1/(1+z)}^{1} \\frac{da}{a^2\\sqrt{\\Omega(a)}} ,\n",
    "\\end{equation}\n",
    "\n",
    "is the theoretical prediction for the __distance modulus__, an astronomical measure of distance. $\\Omega_K$ is the curvature parameter, which we set to zero; that is, we assume a model universe in which the global geometry of space, defined by hypersurfaces with $t = \\textrm{constant}$, is flat. With $\\Omega_K = 0$, our cosmological model is defined by only two parameters, namely, $n$ and and the Hubble constant $H_0$. The distance modulus simplifies to \n",
    "\n",
    "\\begin{align}\n",
    "    \\mu(z, \\theta) \n",
    "    & = 5 \\log_{10}\\left[ (1 + z) c \\, u(z, \\theta) \\, /\\,  H_0 \\right] + 25 .\n",
    "\\end{align}\n",
    "\n",
    "For this cosmological model, the dimensionless quantity $u(z, \\theta)$ is given by\n",
    "\n",
    "\\begin{align}\n",
    "u(z, \\theta) = \\frac{2^{\\frac{1}{2 n}} \\left(\\gamma\\left(\\frac{1}{2 n}, \\frac{1}{2}\\right) - \\gamma\\left(\\frac{1}{2 n}, \\frac{\\left(\\frac{1}{z + 1}\\right)^{n}}{2}\\right)\\right) e^{\\frac{1}{2}}}{n} ,\n",
    "\\end{align}\n",
    "\n",
    "where, again, $\\gamma(a, x)$ is the lower incomplete gamma function. For a flat universe, $\\Omega_K = 0$, $d_L = c (1+z) u(z, \\theta) / H_0$ is the __luminosity distance__, which is defined so that the relationship between the energy flux $f$ received by an observer and the luminosity $L$ of the source has the same form as that in a non-expanding universe, namely, $f = L \\, / \\, (4\\pi d_L^2)$.\n",
    "\n",
    "This notebook defines several cosmological functions including the __distance_modulus($z$, $n$, $H_0$)__."
   ]
  },
  {
   "cell_type": "code",
   "execution_count": 24,
   "metadata": {
    "id": "FA1Y5VCv20XZ"
   },
   "outputs": [],
   "source": [
    "import os, sys\n",
    "\n",
    "# the standard module for array manipulation\n",
    "import numpy as np\n",
    "\n",
    "# standard scientific python module\n",
    "import scipy as sp\n",
    "import scipy.stats as st\n",
    "import scipy.optimize as op\n",
    "\n",
    "# standard plotting module\n",
    "import matplotlib as mp\n",
    "import matplotlib.pyplot as plt\n",
    "\n",
    "# make plots appear inline\n",
    "%matplotlib inline\n",
    "\n",
    "# update fonts\n",
    "font = {'family' : 'serif',\n",
    "        'weight' : 'normal',\n",
    "        'size'   : 18\n",
    "        }\n",
    "mp.rc('font', **font)\n",
    "mp.rc('xtick', labelsize='x-small')\n",
    "mp.rc('ytick', labelsize='x-small')\n",
    "\n",
    "# set usetex = False if Latex is not available on your system\n",
    "mp.rc('text', usetex=True)"
   ]
  },
  {
   "cell_type": "markdown",
   "metadata": {},
   "source": [
    "### Distance modulus\n",
    "  1. $u(z, \\theta)$ dimensionless luminosity distance, $d_L$, which for a flat universe is  related to $u(z, \\theta)$ as follows $d_L = c \\, (1+z) u(z, \\theta) \\, / \\, H_0$.\n",
    "  1. $\\mu(z, \\theta)$ distance modulus for a flat universe."
   ]
  },
  {
   "cell_type": "markdown",
   "metadata": {},
   "source": [
    "\\begin{align}\n",
    "    \\mu(z, \\theta) & = 5 \\log_{10}[(1 + z) \\, \\sin(\\sqrt{-\\Omega_K} \\, u(z, \\theta))\\, / \\, \\sqrt{-\\Omega_K}] - 5 \\log_{10}(H_0) + 5 \\log_{10}(c) + 25, \\\\\n",
    "    & = 5 \\log_{10}\\left[ (1 + z) c \\, u(z, \\theta) \\, /\\,  H_0 \\right] + 25,\n",
    "\\end{align}\n",
    "\n",
    "setting $\\Omega_K = 0$."
   ]
  },
  {
   "cell_type": "code",
   "execution_count": 25,
   "metadata": {},
   "outputs": [],
   "source": [
    "def u(z, n):\n",
    "    q = 2*n\n",
    "    b = 1/q\n",
    "    x = 0.5/(1+z)**n\n",
    "    A = sp.special.gamma(b)\n",
    "    A = A**q\n",
    "    A = np.exp(0.5) * (2*A)**b\n",
    "    y = A * (sp.special.gammainc(b, 0.5) - sp.special.gammainc(b, x))\n",
    "    return y/n\n",
    "\n",
    "class DistanceModulus:\n",
    "    def __init__(self):\n",
    "        self.offset = 5*np.log10(2.99e5) + 25\n",
    "        \n",
    "    def __call__(self, z, n, H0):\n",
    "        return 5*np.log10((1+z)*u(z, n)/H0) + self.offset\n",
    "\n",
    "distance_modulus = DistanceModulus()"
   ]
  },
  {
   "cell_type": "markdown",
   "metadata": {},
   "source": [
    "### Lifetime of model universe\n",
    "\n",
    "\\begin{align}\n",
    "H_0 t_0 & = \\sqrt{e} \\, 2^{\\frac{3}{2 n}}  \\gamma\\left(\\frac{3}{2 n}, \\frac{1}{2}\\right) \\, / \\, n .\n",
    "\\end{align}"
   ]
  },
  {
   "cell_type": "code",
   "execution_count": 15,
   "metadata": {},
   "outputs": [],
   "source": [
    "def lifetime(n):\n",
    "    b = 3/2/n\n",
    "    return np.sqrt(np.e) * 2**b * sp.special.gammainc(b, 0.5) * sp.special.gamma(b) / n"
   ]
  },
  {
   "cell_type": "markdown",
   "metadata": {},
   "source": [
    "### Big rip\n",
    "\n",
    "\\begin{equation}\n",
    "    H_0 t_\\textrm{rip} = \\sqrt{e} \\, 2^{\\frac{3}{2n}} \\, \\Gamma\\left(\\frac{3}{2n}\\right) \\, / \\, n,\n",
    "\\end{equation}"
   ]
  },
  {
   "cell_type": "code",
   "execution_count": 16,
   "metadata": {},
   "outputs": [],
   "source": [
    "def big_rip_time(n):\n",
    "    b = 3/2/n\n",
    "    return np.sqrt(np.e) * 2**b * sp.special.gamma(b) / n"
   ]
  },
  {
   "cell_type": "markdown",
   "metadata": {},
   "source": [
    "### Scale factor\n",
    "\\begin{equation}\n",
    "    a(t)  = \\sqrt[n]{2 \\gamma^{-1}(3/(2n), \\, n 2^{-3/(2n)} H_0 t \\, / \\sqrt{e})}\n",
    "\\end{equation}"
   ]
  },
  {
   "cell_type": "code",
   "execution_count": 17,
   "metadata": {},
   "outputs": [],
   "source": [
    "class ScaleFactor:\n",
    "    def __init__(self):\n",
    "        self.roote = np.sqrt(np.e)\n",
    "        \n",
    "    def __call__(self, t, n):\n",
    "        b = 3/2/n\n",
    "        x = t * n / 2**b / self.roote / sp.special.gamma(b)\n",
    "        y = 2 * sp.special.gammaincinv(b, x)\n",
    "        m = 1/n\n",
    "        return y**m\n",
    "    \n",
    "scale_factor = ScaleFactor()"
   ]
  },
  {
   "cell_type": "markdown",
   "metadata": {},
   "source": [
    "### Read data from the Union2.1 file"
   ]
  },
  {
   "cell_type": "code",
   "execution_count": 18,
   "metadata": {},
   "outputs": [],
   "source": [
    "def read_data(filename):\n",
    "    # skip first 5 rows then read columns 1, 2, and 3\n",
    "    Z, X, dX = np.loadtxt(filename, \n",
    "                            delimiter='\\t', \n",
    "                            skiprows=5, \n",
    "                            usecols=(1,2,3), \n",
    "                            unpack=True)\n",
    "\n",
    "    print(\"number of observations: %d\" % len(Z))\n",
    "    print(\"%5s\\t%10s\\t%10s +/- %-10s\" % ('', 'z', 'x', 'dx'))\n",
    "    for ii, (z, x, dx) in enumerate(zip(Z, X, dX)):\n",
    "        if ii % 100 == 0:\n",
    "            print(\"%5d\\t%10.3f\\t%10.4f +/- %-10.4f\"% (ii, z, x, dx))\n",
    "            \n",
    "    return (Z, X, dX)"
   ]
  },
  {
   "cell_type": "markdown",
   "metadata": {},
   "source": [
    "### Define negative log-likelihood"
   ]
  },
  {
   "cell_type": "code",
   "execution_count": 19,
   "metadata": {},
   "outputs": [],
   "source": [
    "def nll(pars, *args):\n",
    "    n, H0 = pars[0], pars[1]\n",
    "    bag   = args[0]\n",
    "    \n",
    "    f = distance_modulus(bag.z, n, H0)     \n",
    "    c = (bag.x - f) / bag.dx\n",
    "    c = c * c\n",
    "    return c.sum()/2"
   ]
  },
  {
   "cell_type": "markdown",
   "metadata": {},
   "source": [
    "### Plot Type1a data"
   ]
  },
  {
   "cell_type": "code",
   "execution_count": 20,
   "metadata": {},
   "outputs": [],
   "source": [
    "class Scribe:\n",
    "    def __init__(self, xpos, line, nlines=12, ftsize=14):\n",
    "        \n",
    "        self.ftsize = ftsize\n",
    "        \n",
    "        axes = plt.gca()\n",
    "        self.xmin, self.xmax = axes.get_xlim()\n",
    "        self.ymin, self.ymax = axes.get_ylim()\n",
    "        self.ystep = (self.ymax-self.ymin) / nlines\n",
    "        self.xpos  = self.xmin + xpos * (self.xmax - self.xmin)  \n",
    "        self.ypos  = self.ymax - self.ystep * line\n",
    "        \n",
    "    def __def__(self):\n",
    "        pass\n",
    "    \n",
    "    def write(self, text, skip=0, indent=0, color='black'):\n",
    "        offset = indent*(self.xmax-self.xmin)\n",
    "        self.ypos = self.ypos - skip*self.ystep\n",
    "        \n",
    "        plt.text(self.xpos+offset, self.ypos, text, \n",
    "                 fontsize=self.ftsize, \n",
    "                 color=color)\n",
    "        \n",
    "        self.ypos -= self.ystep"
   ]
  },
  {
   "cell_type": "code",
   "execution_count": 23,
   "metadata": {},
   "outputs": [],
   "source": [
    "# define ranges for redshifts and distance moduli\n",
    "ZMIN  =  0.0 \n",
    "ZMAX  =  1.5\n",
    "MUMIN = 32.0\n",
    "MUMAX = 46.0\n",
    "\n",
    "def plot_data(bag, nll=None,\n",
    "              zmin=ZMIN, zmax=ZMAX, \n",
    "              mumin= MUMIN, mumax=MUMAX, \n",
    "              ftsize=12, \n",
    "              fgsize=(5, 4)):\n",
    "  \n",
    "    # set size of figure\n",
    "    plt.figure(figsize=fgsize)\n",
    "    \n",
    "    plt.errorbar(bag.z, bag.x, yerr=bag.dx, \n",
    "                 fmt='o', \n",
    "                 ecolor='steelblue', markersize=1,\n",
    "                 color='black', label='data')\n",
    "        \n",
    "    # set up x, y limits\n",
    "    plt.xlim(zmin, zmax)\n",
    "    plt.ylim(mumin, mumax)\n",
    "   \n",
    "    # add x and y labels\n",
    "    plt.xlabel('$z$', fontsize=16)\n",
    "    plt.ylabel('$x$', fontsize=16)\n",
    "    \n",
    "    # annotate \n",
    "    xpos   = 0.3 # as a fraction of x-range  \n",
    "    scribe = Scribe(xpos, line=6, ftsize=ftsize)\n",
    "    scribe.write('The Union2.1 Compilation')     \n",
    "    scribe.write('The Supernova Cosmology Project')\n",
    "       \n",
    "    if nll:\n",
    "        filename = bag.name + '_union_fit.png'\n",
    "        \n",
    "        # res:   fitted parameters\n",
    "        # p:     parameters to be passed to distanceModulus\n",
    "        chi2 = 2 * nll(bag.res, bag)\n",
    "                \n",
    "        ndf  = len(bag.z)-len(bag.res) #number of degrees of freedom\n",
    "    \n",
    "        # compute best-fit model\n",
    "        nz   = 100\n",
    "        zstep= (zmax - zmin) / nz\n",
    "        z    = np.arange(zmin+zstep/2, zmax, zstep)\n",
    "        n    = bag.res[0]\n",
    "        H0   = bag.res[1]\n",
    "        mu   = distance_modulus(z, n, H0)\n",
    "\n",
    "        plt.plot(z, mu, color='red', label=f'{bag.name:s} model')\n",
    "        \n",
    "        scribe.write(r\"$\\chi^{2} / {\\rm ndf} = %5.1f / %d = %5.2f$\"%\\\n",
    "                     (chi2, ndf, chi2/ndf))\n",
    "        \n",
    "        plt.legend(fontsize=14)\n",
    "    else:\n",
    "        filename = \"type1a_union_2_1_data.png\"\n",
    "    \n",
    "    # tighten layout so that image is fully\n",
    "    # contained within viewport\n",
    "    \n",
    "    plt.tight_layout()\n",
    "    \n",
    "    print('\\n%s' % filename)\n",
    "    plt.savefig(filename)\n",
    "    plt.show()"
   ]
  },
  {
   "cell_type": "code",
   "execution_count": null,
   "metadata": {},
   "outputs": [],
   "source": []
  }
 ],
 "metadata": {
  "accelerator": "GPU",
  "colab": {
   "collapsed_sections": [],
   "name": "DRL_19_REINFORCE_Algorithm.ipynb",
   "provenance": []
  },
  "kernelspec": {
   "display_name": "Python 3 (ipykernel)",
   "language": "python",
   "name": "python3"
  },
  "language_info": {
   "codemirror_mode": {
    "name": "ipython",
    "version": 3
   },
   "file_extension": ".py",
   "mimetype": "text/x-python",
   "name": "python",
   "nbconvert_exporter": "python",
   "pygments_lexer": "ipython3",
   "version": "3.11.0"
  }
 },
 "nbformat": 4,
 "nbformat_minor": 1
}
