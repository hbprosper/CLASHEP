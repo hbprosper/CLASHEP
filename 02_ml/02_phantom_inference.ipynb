{
 "cells": [
  {
   "cell_type": "markdown",
   "metadata": {
    "id": "40Yb47zJQglm"
   },
   "source": [
    "## Simulation-Based Inference: Type1a Supernovae\n",
    "> Created: March 21, 2023, CLASHEP 2023, San Esteban, Chile, Harrison B. Prosper<br>\n",
    "> Updated: April 7, 2023 HBP\n",
    "\n",
    "### Introduction \n",
    "\n",
    "The likelihood function for the data from Type1a supernovae, namely, distance moduli and redshifts, is known: it is a multivariate Gaussian. However, there are many situations in which the likelihood function is intractable. But if a high-fidelity simulator of the data generation mechanism is available then the simulator can be used to simulate an instance of the data for any given point in the parameter space of the scientific model.\n",
    "In this notebook, we illustrate the use of simulation-based inference[1] (also known by the misnomer likelihood-free inference) to infer the parameters of a cosmological model from the Supernova Cosmology Project Union 2.1 compilation of distance-redshift data for 580 Type1a supernovae. \n",
    "\n",
    "The cosmological model is defined by the dimensionless energy density \n",
    "\n",
    "\\begin{equation}\n",
    "    \\Omega(a) = \\exp(a^n - 1) \\, / \\, a^3,\n",
    "\\end{equation}\n",
    "\n",
    "where the index $n$ and the Hubble constant $H_0$ are the parameters of the model. See notebook __phantom_model.ipynb__ for details. \n",
    "\n",
    "### Test statistic\n",
    "We use the test statistic \n",
    "\n",
    "\\begin{align}\n",
    "    \\lambda(D, \\theta) & = \\sqrt{\\frac{1}{N} \\sum_{i=1}^N \\left(\\frac{x_i - \\mu(z_i, \\theta)}{\\sigma_i}\\right)^2},\n",
    "\\end{align}\n",
    "\n",
    "See __01_phantom_simdata.ipynb__ for details.\n",
    "\n",
    "The standard deviation $\\sigma_i$ is a measure of the accuracy of the distance modulus measurement. In the simulations, we assume that the redshifts and standard deviations are known with high precision and that only variations in the distance moduli $D = \\{ x_i \\}$ are simulated. For the Union 2.1 compilation the standard deviations vary from one supernova to the next. Data in which the accuracy of the measurements vary are referred to as *heteroscedastic* data. Notice that the test statistic gives greater weight to distance moduli measured with greater accuracy. \n",
    "\n",
    "\n",
    "### Approximating $\\mathbb{P}(\\lambda \\le \\lambda_0 | \\theta) = \\mathbb{E}(Z | \\theta)$ by histogramming\n",
    "\n",
    "The quantity $\\mathbb{E}(Z | \\theta)$ can be approximated using the following algorithm. \n",
    "\n",
    "$\\theta = n, H_0$\n",
    "\n",
    "  1. Create histogram $h_w \\gets \\text{histogram}(n, H_0, \\text{weight}=Z)$\n",
    "  1. Create histogram $h_u \\gets \\text{histogram}(n, H_0, \\text{weight}=1)$\n",
    "  1. Approximate $\\mathbb{P}(\\lambda \\le \\lambda_0 | n, H_0)$ by $h_w \\, / \\, h_u$\n",
    "\n",
    "In this notebook, we using uniform binning since there are only two parameters, but for $n$-dimensional data it is better to bin using, for example, binary partitioning (see,  [turtlebinning](https://github.com/hbprosper/turtle)). Histogram-based approximations of $\\mathbb{P}(\\lambda \\le \\lambda_0 | \\theta)$ provide a rough way to check the quality of the deep neural network model.\n",
    "\n",
    "### References\n",
    "  1. Anne Lee *et al.*, https://arxiv.org/abs/2107.03920"
   ]
  },
  {
   "cell_type": "code",
   "execution_count": 1,
   "metadata": {
    "id": "FA1Y5VCv20XZ"
   },
   "outputs": [],
   "source": [
    "import os, sys\n",
    "\n",
    "# the standard module for tabular data\n",
    "import pandas as pd\n",
    "\n",
    "# the standard module for array manipulation\n",
    "import numpy as np\n",
    "\n",
    "# the standard modules for high-quality plots\n",
    "import matplotlib as mp\n",
    "import matplotlib.pyplot as plt\n",
    "\n",
    "# standard scientific python module\n",
    "import scipy as sp\n",
    "import scipy.stats as st\n",
    "import scipy.optimize as op\n",
    "\n",
    "# module to save results\n",
    "import joblib as jb\n",
    "\n",
    "# pytorch\n",
    "import torch\n",
    "import torch.nn as nn\n",
    "\n",
    "# to reload modules\n",
    "import importlib\n",
    "\n",
    "%matplotlib inline"
   ]
  },
  {
   "cell_type": "code",
   "execution_count": 2,
   "metadata": {},
   "outputs": [],
   "source": [
    "# update fonts\n",
    "FONTSIZE = 18\n",
    "font = {'family' : 'serif',\n",
    "        'weight' : 'normal',\n",
    "        'size'   : FONTSIZE}\n",
    "mp.rc('font', **font)\n",
    "\n",
    "# set usetex = False if LaTex is not \n",
    "# available on your system or if the \n",
    "# rendering is too slow\n",
    "mp.rc('text', usetex=True)"
   ]
  },
  {
   "cell_type": "markdown",
   "metadata": {},
   "source": [
    "### Load and define cosmological model functions"
   ]
  },
  {
   "cell_type": "code",
   "execution_count": 3,
   "metadata": {},
   "outputs": [],
   "source": [
    "%run phantom_model.ipynb"
   ]
  },
  {
   "cell_type": "markdown",
   "metadata": {},
   "source": [
    "### Some data preparation utilities\n",
    "\n",
    "| __function__   | __description__     |\n",
    "| :---           | :---                |\n",
    "| split_data | split data into train, validation, and test sets|\n",
    "| dataframe2tensor | convert from a pandas dataframe to Pytorch tensors |\n",
    " "
   ]
  },
  {
   "cell_type": "code",
   "execution_count": 4,
   "metadata": {},
   "outputs": [
    {
     "name": "stdout",
     "output_type": "stream",
     "text": [
      "device: cpu\n"
     ]
    }
   ],
   "source": [
    "# split data into a training set and a test set\n",
    "from sklearn.model_selection import train_test_split\n",
    "\n",
    "# if cuda-based GPUs are available, then use them\n",
    "device  = torch.device(\"cuda\" if torch.cuda.is_available() else \"cpu\")\n",
    "print(\"device: %s\" % device)\n",
    "\n",
    "def split_data(data,\n",
    "               test_fraction, \n",
    "               validation_fraction):\n",
    "    \n",
    "    # split data into a part for training and a part for testing.\n",
    "    # shuffle the rows.\n",
    "    train_data, test_data = train_test_split(data, \n",
    "                                         test_size=test_fraction, \n",
    "                                         shuffle=True)\n",
    "\n",
    "    # split the training data into a part for training (fitting) and\n",
    "    # a part for validating while training.\n",
    "    train_data, valid_data = train_test_split(train_data, \n",
    "                                          test_size=validation_fraction,\n",
    "                                          shuffle=True)\n",
    "\n",
    "    # reset the indices in the dataframes and drop the old ones\n",
    "    train_data = train_data.reset_index(drop=True)\n",
    "    valid_data = valid_data.reset_index(drop=True)\n",
    "    test_data  = test_data.reset_index(drop=True)\n",
    "    \n",
    "    return train_data, valid_data, test_data \n",
    "\n",
    "\n",
    "def dataframe2tensor(df, target, source):\n",
    "    # change from pandas dataframe to PyTorch tensors\n",
    "    # and load data to device. If the device is a GPU\n",
    "    # then the data will be loaded to that device.\n",
    "    x = torch.tensor(df[source].to_numpy()).float().to(device)\n",
    "    t = torch.tensor(df[target].to_numpy()).int().to(device)\n",
    "    return (x, t)"
   ]
  },
  {
   "cell_type": "markdown",
   "metadata": {},
   "source": [
    "### Load data\n",
    "\n",
    "__Note__: It is good practice to transform the input values to the ML model so that they are  of $\\cal{O}(1)$."
   ]
  },
  {
   "cell_type": "code",
   "execution_count": 5,
   "metadata": {},
   "outputs": [
    {
     "name": "stdout",
     "output_type": "stream",
     "text": [
      "loading data/type1a_simdata.csv.gz\n",
      "number of observations: 580\n",
      "     \t         z\t         x +/- dx        \n",
      "    0\t     0.028\t   35.3466 +/- 0.2239    \n",
      "  100\t     0.065\t   37.3067 +/- 0.1628    \n",
      "  200\t     0.194\t   39.9615 +/- 0.1264    \n",
      "  300\t     0.620\t   43.2280 +/- 0.3903    \n",
      "  400\t     0.710\t   43.0220 +/- 0.1843    \n",
      "  500\t     0.564\t   42.3729 +/- 0.2920    \n",
      "\n",
      "number of rows: 275000\n",
      "xmin: 0.05, xmax: 0.60\n",
      "ymin: 0.66, ymax: 0.76\n"
     ]
    },
    {
     "data": {
      "text/html": [
       "<div>\n",
       "<style scoped>\n",
       "    .dataframe tbody tr th:only-of-type {\n",
       "        vertical-align: middle;\n",
       "    }\n",
       "\n",
       "    .dataframe tbody tr th {\n",
       "        vertical-align: top;\n",
       "    }\n",
       "\n",
       "    .dataframe thead th {\n",
       "        text-align: right;\n",
       "    }\n",
       "</style>\n",
       "<table border=\"1\" class=\"dataframe\">\n",
       "  <thead>\n",
       "    <tr style=\"text-align: right;\">\n",
       "      <th></th>\n",
       "      <th>n</th>\n",
       "      <th>H0</th>\n",
       "      <th>l</th>\n",
       "      <th>l0</th>\n",
       "      <th>lo</th>\n",
       "      <th>Z0</th>\n",
       "      <th>Zo</th>\n",
       "    </tr>\n",
       "  </thead>\n",
       "  <tbody>\n",
       "    <tr>\n",
       "      <th>0</th>\n",
       "      <td>0.393632</td>\n",
       "      <td>0.730757</td>\n",
       "      <td>1.006532</td>\n",
       "      <td>1.015473</td>\n",
       "      <td>0.970374</td>\n",
       "      <td>1</td>\n",
       "      <td>0</td>\n",
       "    </tr>\n",
       "    <tr>\n",
       "      <th>1</th>\n",
       "      <td>0.292003</td>\n",
       "      <td>0.696037</td>\n",
       "      <td>0.991506</td>\n",
       "      <td>1.006351</td>\n",
       "      <td>1.541803</td>\n",
       "      <td>1</td>\n",
       "      <td>1</td>\n",
       "    </tr>\n",
       "    <tr>\n",
       "      <th>2</th>\n",
       "      <td>0.365906</td>\n",
       "      <td>0.708710</td>\n",
       "      <td>1.034574</td>\n",
       "      <td>1.024765</td>\n",
       "      <td>1.057431</td>\n",
       "      <td>0</td>\n",
       "      <td>1</td>\n",
       "    </tr>\n",
       "    <tr>\n",
       "      <th>3</th>\n",
       "      <td>0.553187</td>\n",
       "      <td>0.739221</td>\n",
       "      <td>0.988936</td>\n",
       "      <td>1.093398</td>\n",
       "      <td>1.444401</td>\n",
       "      <td>1</td>\n",
       "      <td>1</td>\n",
       "    </tr>\n",
       "    <tr>\n",
       "      <th>4</th>\n",
       "      <td>0.421428</td>\n",
       "      <td>0.681756</td>\n",
       "      <td>1.041732</td>\n",
       "      <td>1.340285</td>\n",
       "      <td>1.770373</td>\n",
       "      <td>1</td>\n",
       "      <td>1</td>\n",
       "    </tr>\n",
       "  </tbody>\n",
       "</table>\n",
       "</div>"
      ],
      "text/plain": [
       "          n        H0         l        l0        lo  Z0  Zo\n",
       "0  0.393632  0.730757  1.006532  1.015473  0.970374   1   0\n",
       "1  0.292003  0.696037  0.991506  1.006351  1.541803   1   1\n",
       "2  0.365906  0.708710  1.034574  1.024765  1.057431   0   1\n",
       "3  0.553187  0.739221  0.988936  1.093398  1.444401   1   1\n",
       "4  0.421428  0.681756  1.041732  1.340285  1.770373   1   1"
      ]
     },
     "execution_count": 5,
     "metadata": {},
     "output_type": "execute_result"
    }
   ],
   "source": [
    "# read simulated Type1a data that mimick the real data for 580 supernova\n",
    "\n",
    "datafile = 'data/type1a_simdata.csv.gz'\n",
    "print('loading %s' % datafile)\n",
    "tdata = pd.read_csv(datafile)\n",
    "\n",
    "# get (unscaled) boundaries of parameter subspace \n",
    "xmin  = int(10*(tdata.n.min()+0.01))/10\n",
    "xmax  = int(10*(tdata.n.max()+0.01))/10\n",
    "\n",
    "ymin  = int(10*(tdata.H0.min()+0.01))/10\n",
    "ymax  = int(10*(tdata.H0.max()+0.01))/10\n",
    "\n",
    "# put everything into a bag called for convenience\n",
    "class Bag:\n",
    "    pass\n",
    "\n",
    "bag = Bag()\n",
    "bag.name   = 'phantom'\n",
    "\n",
    "bag.weight = 'Z0'  # see hist_data\n",
    "bag.xscale = 10    # scale by which to reduce \"n\" parameter\n",
    "bag.xbins  = 10\n",
    "bag.xmin   = xmin / bag.xscale\n",
    "bag.xmax   = xmax / bag.xscale\n",
    "bag.xstep  = 1    / bag.xscale\n",
    "bag.xname  = 'n'\n",
    "bag.xlabel = 'n'\n",
    "\n",
    "bag.yscale = 100   # scale by which to reduce \"H0\" parameter\n",
    "bag.ybins  = 10\n",
    "bag.ymin   = ymin / bag.yscale\n",
    "bag.ymax   = ymax / bag.yscale\n",
    "bag.ystep  = 2    / bag.yscale\n",
    "bag.yname  = 'H0'\n",
    "bag.ylabel = 'H_0'\n",
    "\n",
    "filename   = 'data/type1a_union2.1.txt'\n",
    "\n",
    "bag.z, bag.x, bag.dx = read_data(filename)\n",
    "\n",
    "# reduce the dynamic range of parameters n and H0\n",
    "tdata.n   /= bag.xscale\n",
    "tdata.H0  /= bag.yscale\n",
    "\n",
    "features   = ['lo', 'n', 'H0']  # inputs into ML model\n",
    "target     = 'Zo'               # targets for ML model\n",
    "\n",
    "print()\n",
    "print('number of rows:', len(tdata))\n",
    "print(f'xmin: {bag.xmin:4.2f}, xmax: {bag.xmax:4.2f}')\n",
    "print(f'ymin: {bag.ymin:4.2f}, ymax: {bag.ymax:4.2f}')\n",
    "\n",
    "tdata[:5]"
   ]
  },
  {
   "cell_type": "code",
   "execution_count": 6,
   "metadata": {},
   "outputs": [
    {
     "data": {
      "text/plain": [
       "(1.4746658576610931, 0.4662719051601046)"
      ]
     },
     "execution_count": 6,
     "metadata": {},
     "output_type": "execute_result"
    }
   ],
   "source": [
    "tdata.lo.mean(), tdata.lo.std()"
   ]
  },
  {
   "cell_type": "markdown",
   "metadata": {},
   "source": [
    "### Train, validation, and test sets\n",
    "There is some confusion in terminology regarding validation and test samples (or sets). We shall adhere to the defintions given here https://machinelearningmastery.com/difference-test-validation-datasets/):\n",
    "   \n",
    "  * __Training Dataset__: The sample of data used to fit the model.\n",
    "  * __Validation Dataset__: The sample of data used to decide 1) whether the fit is reasonable (e.g., the model has not been overfitted), 2) decide which of several models is the best and 3) tune model hyperparameters.\n",
    "  * __Test Dataset__: The sample of data used to provide an unbiased evaluation of a final model fit on the training dataset.\n",
    "\n",
    "The validation set will be some small fraction of the training set and can be used, for example, to decide when to stop the training."
   ]
  },
  {
   "cell_type": "code",
   "execution_count": 7,
   "metadata": {},
   "outputs": [
    {
     "name": "stdout",
     "output_type": "stream",
     "text": [
      "train set size:        250000\n",
      "validation set size:     5000\n",
      "test set size:          20000\n"
     ]
    }
   ],
   "source": [
    "# Fraction of the data assigned as test data and validation\n",
    "tfraction =  20/275   # initial testing fraction\n",
    "vfraction =   5/255   # validation fraction\n",
    "\n",
    "# Split data into a part for training and a part for testing\n",
    "train_data, valid_data, test_data = split_data(tdata, \n",
    "                                         test_fraction=tfraction, \n",
    "                                         validation_fraction=vfraction) \n",
    "\n",
    "train_x, train_t = dataframe2tensor(train_data, target, features)\n",
    "valid_x, valid_t = dataframe2tensor(valid_data, target, features)\n",
    "test_x,  test_t  = dataframe2tensor(test_data,  target, features)\n",
    "\n",
    "print('train set size:        %6d' % train_x.shape[0])\n",
    "print('validation set size:   %6d' % valid_x.shape[0])\n",
    "print('test set size:         %6d' % test_x.shape[0])"
   ]
  },
  {
   "cell_type": "markdown",
   "metadata": {},
   "source": [
    "### Approximate $\\mathbb{P}(\\lambda \\le \\lambda_0 | \\theta) = \\mathbb{E}(Z | \\theta)$ by histogramming"
   ]
  },
  {
   "cell_type": "code",
   "execution_count": 8,
   "metadata": {},
   "outputs": [],
   "source": [
    "def hist_data(df, data):\n",
    "\n",
    "    xbins, xmin, xmax = data.xbins, data.xmin, data.xmax\n",
    "    ybins, ymin, ymax = data.ybins, data.ymin, data.ymax\n",
    "    \n",
    "    xrange = (xmin, xmax)\n",
    "    yrange = (ymin, ymax)\n",
    "    \n",
    "    x      = df[data.xname]\n",
    "    y      = df[data.yname]\n",
    "\n",
    "    # weighted histogram   (count the number of ones per bin)\n",
    "    hw, xedges, yedges = np.histogram2d(x, y, \n",
    "                                        bins=(xbins, ybins), \n",
    "                                        range=(xrange, yrange), \n",
    "                                        weights=df[data.weight])\n",
    "    \n",
    "    # unweighted histogram (count number of ones and zeros per bin)\n",
    "    hu, xedges, yedges = np.histogram2d(x, y, \n",
    "                                        bins=(xbins, ybins), \n",
    "                                        range=(xrange, yrange)) \n",
    "    p =  hw / (hu + 1.e-10)    \n",
    "    \n",
    "    return p, xedges, yedges"
   ]
  },
  {
   "cell_type": "code",
   "execution_count": 9,
   "metadata": {},
   "outputs": [],
   "source": [
    "h2d = hist_data(tdata, bag)"
   ]
  },
  {
   "cell_type": "code",
   "execution_count": 10,
   "metadata": {},
   "outputs": [],
   "source": [
    "def plot_model(df, d, dnn=None, hist=None, results=None, \n",
    "               plothist=True, colormap='rainbow',\n",
    "               filename='phantom_results.png', \n",
    "               fgsize=(5, 5), ftsize=18):\n",
    "        \n",
    "    # approximate probability via histogramming\n",
    "    # P:  bin contents as a 2D (xbins, ybins) array\n",
    "\n",
    "    xbins, xmin, xmax = d.xbins, d.xmin, d.xmax\n",
    "    ybins, ymin, ymax = d.ybins, d.ymin, d.ymax\n",
    "    \n",
    "    if hist:\n",
    "        P, _, _ = hist\n",
    "    else:\n",
    "        P, _, _ = hist_data(df, d)\n",
    "        \n",
    "    # get bin centers\n",
    "    xstep = (xmax - xmin)/xbins\n",
    "    ystep = (ymax - ymin)/ybins\n",
    "    x   = np.arange(xmin+xstep/2, xmax, xstep)\n",
    "    y   = np.arange(ymin+ystep/2, ymax, ystep)\n",
    "    X,Y = np.meshgrid(x, y)\n",
    "\n",
    "    # WARNING: must transpose P so that X, Y, and P have the\n",
    "    # same shape\n",
    "    P   = P.T\n",
    "    if not (X.shape == Y.shape == P.shape):\n",
    "        raise ValueError('shapes of X, Y, P differ')\n",
    "            \n",
    "    # Now make plots\n",
    "    fig, ax = plt.subplots(nrows=1, ncols=1, figsize=fgsize)\n",
    "    \n",
    "    ax.set_xlim(xmin, xmax)\n",
    "    ax.set_xlabel(r'$%s$' % d.xlabel, fontsize=ftsize)\n",
    "    ax.set_xticks(np.arange(xmin, xmax+d.xstep, d.xstep))\n",
    "    \n",
    "    ax.set_ylim(ymin, ymax)\n",
    "    ax.set_ylabel(r'$%s$' % d.ylabel, fontsize=ftsize)\n",
    "    ax.set_yticks(np.arange(ymin, ymax+d.ystep, d.ystep))\n",
    "    \n",
    "    if plothist:\n",
    "        x = X.flatten()\n",
    "        y = Y.flatten()\n",
    "        p = P.flatten()\n",
    "        h = ax.hist2d(x, y,\n",
    "                      range=((xmin, xmax), \n",
    "                             (ymin, ymax)),\n",
    "                      bins=(xbins, ybins), \n",
    "                      weights=p, cmap=colormap)\n",
    "    \n",
    "        fig.colorbar(h[3], ax=ax)\n",
    "        \n",
    "    # plot contours at specified values of P(l < l0 | theta)\n",
    "    mylevels = np.array([0.68, 0.80, 0.90, 0.95])\n",
    "    cs = ax.contour(X, Y, P, \n",
    "               extent=(xmin, xmax, ymin, ymax),\n",
    "               levels=mylevels,\n",
    "               linewidths=2,\n",
    "               linestyles='dashed',\n",
    "               cmap=colormap)\n",
    "    \n",
    "    # ----------------------------------------------\n",
    "    # compute model output at every grid point\n",
    "    # then reshape to a 2d array\n",
    "    # ----------------------------------------------\n",
    "    if dnn:\n",
    "        xbins,ybins= 50, 50        \n",
    "        xstep = (xmax - xmin)/xbins\n",
    "        ystep = (ymax - ymin)/ybins\n",
    "        x     = np.arange(xmin+xstep/2, xmax, xstep)\n",
    "        y     = np.arange(ymin+ystep/2, ymax, ystep)\n",
    "        X, Y  = np.meshgrid(x, y)\n",
    "        x     = X.flatten()\n",
    "        y     = Y.flatten()\n",
    "        F     = dnn(x, y, d).reshape(X.shape)\n",
    "\n",
    "        cs = ax.contour(X, Y, F, \n",
    "                    extent=(xmin, xmax, ymin, ymax),\n",
    "                    levels=mylevels, \n",
    "                    linewidths=2,\n",
    "                    cmap=colormap) \n",
    "\n",
    "        ax.clabel(cs, cs.levels, inline=True, \n",
    "              fontsize=18, fmt='%4.2f', \n",
    "              colors='black')\n",
    "    \n",
    "    if results:\n",
    "        if results.success:\n",
    "            x, y = results.x\n",
    "            ax.scatter(x, y, s=50, c='black')\n",
    "\n",
    "            xpos = xmin + 0.1*(xmax-xmin)\n",
    "            ypos = ymin + 0.9*(ymax-ymin)\n",
    "            ax.text(xpos, ypos, \n",
    "                    r'$%s: %8.3f$\\,\\,$%s: %8.1f$' % (d.xlabel, x*d.xscale, \n",
    "                                                     d.ylabel, y*d.yscale), \n",
    "                    fontsize=ftsize)\n",
    "        \n",
    "    ax.grid()\n",
    "\n",
    "    plt.tight_layout()\n",
    "\n",
    "    print('saved to file:', filename)\n",
    "    plt.savefig(filename)\n",
    "        \n",
    "    plt.show()"
   ]
  },
  {
   "cell_type": "code",
   "execution_count": 11,
   "metadata": {},
   "outputs": [
    {
     "name": "stdout",
     "output_type": "stream",
     "text": [
      "saved to file: fig_phantom_hist.pdf\n"
     ]
    },
    {
     "data": {
      "image/png": "[encoded data removed]",
      "text/plain": [
       "<Figure size 500x500 with 1 Axes>"
      ]
     },
     "metadata": {},
     "output_type": "display_data"
    }
   ],
   "source": [
    "plot_model(test_data, bag, hist=h2d,\n",
    "           plothist=False, colormap='rainbow', \n",
    "           filename='fig_phantom_hist.pdf')"
   ]
  },
  {
   "cell_type": "markdown",
   "metadata": {},
   "source": [
    "### Empirical risk (that is, average loss)\n",
    "\n",
    "The empirical risk, which is the __objective function__ we shall minimize, is defined by\n",
    "\n",
    "\\begin{align}\n",
    "R_M(\\theta) & = \\frac{1}{M} \\sum_{m=1}^{M} L(t_m, f_m),\n",
    "\\end{align}\n",
    "\n",
    "where \n",
    "\n",
    "\\begin{align*}\n",
    "    f_m & \\equiv f(\\mathbf{x}_m, \\theta).\n",
    "\\end{align*}\n",
    "\n",
    "The empirical risk $R_M$ approximates the __risk functional__\n",
    "\n",
    "\\begin{align}\n",
    "R[f] & = \\int \\cdots \\int \\, p(t, \\mathbf{x}) \\, L(t, f(\\mathbf{x}, \\theta)) \\, dt \\, d\\mathbf{x} .\n",
    "\\end{align}\n",
    "\n",
    "The quantity $p(t, \\mathbf{x}) \\, dt\\, d\\mathbf{x}$ is the probability distribution from which the sample $\\{ (t_m, \\mathbf{x}_m), m = 1,\\cdots, M \\}$ is presumed to have been drawn. \n",
    "\n",
    "We use the __quadratic loss__\n",
    "\n",
    "\\begin{align}\n",
    "    L(t, f) &= (t - f)^2 .\n",
    "\\end{align}"
   ]
  },
  {
   "cell_type": "markdown",
   "metadata": {
    "id": "NJC916BU-9L6"
   },
   "source": [
    "### Define model $f(\\lambda, n, H_0; \\omega)$\n",
    "\n",
    "For simple models, it is sufficient to use the __Sequential__ class."
   ]
  },
  {
   "cell_type": "code",
   "execution_count": 12,
   "metadata": {},
   "outputs": [
    {
     "name": "stdout",
     "output_type": "stream",
     "text": [
      "Overwriting phantom_dnn.py\n"
     ]
    }
   ],
   "source": [
    "%%writefile phantom_dnn.py\n",
    "\n",
    "name     = 'phantom'\n",
    "features = ['lo', 'n', 'H0']\n",
    "target   = 'Zo'\n",
    "nodes    = 20\n",
    "\n",
    "import torch\n",
    "import torch.nn as nn\n",
    "\n",
    "model = nn.Sequential(nn.Linear( len(features), nodes),\n",
    "                      nn.ReLU(),\n",
    "                      \n",
    "                      nn.Linear(nodes, nodes),\n",
    "                      nn.ReLU(),\n",
    "                      \n",
    "                      nn.Linear(nodes, nodes),\n",
    "                      nn.ReLU(), \n",
    "                      \n",
    "                      nn.Linear(nodes, nodes),\n",
    "                      nn.ReLU(), \n",
    "                      \n",
    "                      nn.Linear(nodes, nodes),\n",
    "                      nn.ReLU(), \n",
    "                      \n",
    "                      nn.Linear(nodes, 1), \n",
    "                      nn.Sigmoid()) "
   ]
  },
  {
   "cell_type": "code",
   "execution_count": 13,
   "metadata": {},
   "outputs": [],
   "source": [
    "# return a random batch of data for the next step in minimization\n",
    "def get_random_batch(x, t, batch_size):\n",
    "    # the numpy function choice(length, number)\n",
    "    # selects at random \"batch_size\" integers from \n",
    "    # the range [0, length-1] corresponding to the\n",
    "    # row indices.\n",
    "    rows  = np.random.choice(len(x), batch_size)\n",
    "    return x[rows], t[rows]\n",
    "\n",
    "# Note: there are several average loss functions available \n",
    "# in pytorch, but it's useful to know how to create your own.\n",
    "def average_quadratic_loss(f, t, x=None):\n",
    "    # f and t must be of the same shape\n",
    "    return  torch.mean((f - t)**2)\n",
    "\n",
    "def average_cross_entropy_loss(f, t, x=None):\n",
    "    # f and t must be of the same shape\n",
    "    loss = torch.where(t > 0.5, torch.log(f), torch.log(1 - f))\n",
    "    return -torch.mean(loss)\n",
    "\n",
    "def average_quantile_loss(f, t, x):\n",
    "    # f and t must be of the same shape\n",
    "    tau = x.T[-1] # last column is tau.\n",
    "    return torch.mean(torch.where(t >= f, \n",
    "                                  tau * (t - f), \n",
    "                                  (1 - tau)*(f - t)))\n",
    "\n",
    "# function to validate model during training.\n",
    "def validate(model, avloss, x, t):\n",
    "    # set to evaluation mode so that any training \n",
    "    # specific operations are disabled.\n",
    "    model.eval()\n",
    "    \n",
    "    with torch.no_grad(): # no need to compute gradients wrt. x and t\n",
    "        # reshape to ensure that y and t are of the same shape!\n",
    "        y = model(x).reshape(t.shape)\n",
    "    return avloss(y, t, x)\n",
    "        \n",
    "def number_of_parameters(model):\n",
    "    return sum(p.numel() for p in model.parameters() if p.requires_grad)\n",
    "        \n",
    "def train(model, optimizer, dictfile, early_stopping_count,\n",
    "          avloss, getbatch,\n",
    "          train_x, train_t, \n",
    "          valid_x, valid_t,\n",
    "          batch_size,\n",
    "          n_iterations, \n",
    "          traces, \n",
    "          step=10):\n",
    "    \n",
    "    # to keep track of average losses\n",
    "    xx, yy_t, yy_v = traces\n",
    "    \n",
    "    # save model with smallest validation loss\n",
    "    # if after early_stopping_count iterations \n",
    "    # no validation scores are lower than the\n",
    "    # current lowest value.\n",
    "    min_acc_v = 1.e30\n",
    "    stopping_count = 0\n",
    "    jjsaved = 0\n",
    "    \n",
    "    n = len(valid_x)\n",
    "    \n",
    "    print('Iteration vs average loss')\n",
    "    print(\"%9s %9s %9s\" % \\\n",
    "          ('iteration', 'train-set', 'valid-set'))\n",
    "    \n",
    "    for ii in range(n_iterations):\n",
    "                \n",
    "        stopping_count += 1\n",
    "            \n",
    "        # set mode to training so that training specific \n",
    "        # operations such as dropout are enabled.\n",
    "        model.train()\n",
    "        \n",
    "        # get a random sample (a batch) of data (as numpy arrays)\n",
    "        x, t = getbatch(train_x, train_t, batch_size)     \n",
    "            \n",
    "        # compute the output of the model for the batch of data x\n",
    "        # Note: outputs is \n",
    "        #   of shape (-1, 1), but the tensor targets, t, is\n",
    "        #   of shape (-1,)\n",
    "        # In order for the tensor operations with y and t\n",
    "        # to work correctly, it is necessary that they have the\n",
    "        # same shape. We can do this with the reshape method.\n",
    "        y = model(x).reshape(t.shape)\n",
    "               \n",
    "        # compute a noisy approximation to the average loss\n",
    "        empirical_risk = avloss(y, t, x)\n",
    "        \n",
    "        # use automatic differentiation to compute a \n",
    "        # noisy approximation of the local gradient\n",
    "        optimizer.zero_grad()       # clear previous gradients\n",
    "        empirical_risk.backward()   # compute gradients\n",
    "        \n",
    "        # finally, advance one step in the direction of steepest \n",
    "        # descent, using the noisy local gradient. \n",
    "        optimizer.step()            # move one step\n",
    "        \n",
    "        if ii % step == 0:\n",
    "            \n",
    "            acc_t = validate(model, avloss, train_x[:n], train_t[:n]) \n",
    "            acc_v = validate(model, avloss, valid_x[:n], valid_t[:n])\n",
    "\n",
    "            if acc_v < min_acc_v:\n",
    "                min_acc_v = acc_v\n",
    "                torch.save(model.state_dict(), dictfile)\n",
    "                stopping_count = 0\n",
    "                jjsaved = ii\n",
    "            else:\n",
    "                if stopping_count > early_stopping_count:\n",
    "                    print('\\n\\nstopping early!')\n",
    "                    break\n",
    "                    \n",
    "            if len(xx) < 1:\n",
    "                xx.append(0)\n",
    "                print(\"%9d %9.7f %9.7f\" % (xx[-1], acc_t, acc_v))\n",
    "            elif len(xx) < 5:\n",
    "                xx.append(xx[-1] + step)\n",
    "                print(\"%9d %9.7f %9.7f\" % (xx[-1], acc_t, acc_v))\n",
    "            else:\n",
    "                xx.append(xx[-1] + step)\n",
    "                saved = ' %9d: %9d/%10.8f/%9d' % \\\n",
    "                (ii, jjsaved, min_acc_v, stopping_count)\n",
    "                print(\"\\r%9d %9.7f %9.7f%s\" % \\\n",
    "                      (xx[-1], acc_t, acc_v, saved), end='')\n",
    "                \n",
    "            yy_t.append(acc_t)\n",
    "            yy_v.append(acc_v)\n",
    "                \n",
    "    print()\n",
    "    \n",
    "    model.load_state_dict(torch.load(dictfile))\n",
    "    return (xx, yy_t, yy_v)\n",
    "\n",
    "def plot_average_loss(traces, ftsize=18):\n",
    "    \n",
    "    xx, yy_t, yy_v = traces\n",
    "    \n",
    "    # create an empty figure\n",
    "    fig = plt.figure(figsize=(5, 5))\n",
    "    fig.tight_layout()\n",
    "    \n",
    "    # add a subplot to it\n",
    "    nrows, ncols, index = 1,1,1\n",
    "    ax  = fig.add_subplot(nrows,ncols,index)\n",
    "\n",
    "    ax.set_title(\"Average loss\")\n",
    "    \n",
    "    ax.plot(xx, yy_t, 'b', lw=2, label='Training')\n",
    "    ax.plot(xx, yy_v, 'r', lw=2, label='Validation')\n",
    "\n",
    "    ax.set_xlabel('Iterations', fontsize=ftsize)\n",
    "    ax.set_ylabel('average loss', fontsize=ftsize)\n",
    "    ax.set_xscale('log')\n",
    "    ax.set_yscale('log')\n",
    "    ax.grid(True, which=\"both\", linestyle='-')\n",
    "    ax.legend(loc='upper right')\n",
    "\n",
    "    plt.show()"
   ]
  },
  {
   "cell_type": "code",
   "execution_count": 14,
   "metadata": {},
   "outputs": [
    {
     "name": "stdout",
     "output_type": "stream",
     "text": [
      "phantom\n",
      "Sequential(\n",
      "  (0): Linear(in_features=3, out_features=20, bias=True)\n",
      "  (1): ReLU()\n",
      "  (2): Linear(in_features=20, out_features=20, bias=True)\n",
      "  (3): ReLU()\n",
      "  (4): Linear(in_features=20, out_features=20, bias=True)\n",
      "  (5): ReLU()\n",
      "  (6): Linear(in_features=20, out_features=20, bias=True)\n",
      "  (7): ReLU()\n",
      "  (8): Linear(in_features=20, out_features=20, bias=True)\n",
      "  (9): ReLU()\n",
      "  (10): Linear(in_features=20, out_features=1, bias=True)\n",
      "  (11): Sigmoid()\n",
      ")\n",
      "number of parameters: 1781\n"
     ]
    }
   ],
   "source": [
    "import phantom_dnn as NN\n",
    "importlib.reload(NN)\n",
    "\n",
    "def number_of_parameters(model):\n",
    "    return sum(p.numel() for p in model.parameters() if p.requires_grad)\n",
    "\n",
    "name     = NN.name\n",
    "modelfile= f'{name:s}.dict'\n",
    "model    = NN.model.to(device)\n",
    "features = NN.features\n",
    "target   = NN.target\n",
    "print(name)\n",
    "print(model)\n",
    "print('number of parameters: %d' % number_of_parameters(model))"
   ]
  },
  {
   "cell_type": "markdown",
   "metadata": {},
   "source": [
    "### Train!"
   ]
  },
  {
   "cell_type": "code",
   "execution_count": 15,
   "metadata": {},
   "outputs": [],
   "source": [
    "traces = ([], [], [])\n",
    "traces_step = 10"
   ]
  },
  {
   "cell_type": "code",
   "execution_count": 20,
   "metadata": {},
   "outputs": [
    {
     "name": "stdout",
     "output_type": "stream",
     "text": [
      "Iteration vs average loss\n",
      "iteration train-set valid-set\n",
      "        0 0.2845033 0.2845834\n",
      "       10 0.2652703 0.2652544\n",
      "       20 0.2418623 0.2417004\n",
      "       30 0.2084271 0.2080070\n",
      "       40 0.1592540 0.1584877\n",
      "   156090 0.0232036 0.0218343    156090:    106090/0.02105632/    50000\n",
      "\n",
      "stopping early!\n",
      "\n"
     ]
    },
    {
     "data": {
      "image/png": "[encoded data removed]",
      "text/plain": [
       "<Figure size 500x500 with 1 Axes>"
      ]
     },
     "metadata": {},
     "output_type": "display_data"
    }
   ],
   "source": [
    "n_batch       =     50\n",
    "n_iterations  =1000000\n",
    "early_stopping=  50000\n",
    "learning_rate = 1.e-3\n",
    "\n",
    "optimizer     = torch.optim.Adam(model.parameters(), \n",
    "                                 lr=learning_rate) \n",
    "\n",
    "traces = train(model, optimizer, \n",
    "                  modelfile, early_stopping,\n",
    "                  average_quadratic_loss,\n",
    "                  get_random_batch, \n",
    "                  train_x, train_t, \n",
    "                  valid_x, valid_t,\n",
    "                  n_batch, \n",
    "                  n_iterations,\n",
    "                  traces,\n",
    "                  step=traces_step)\n",
    "\n",
    "plot_average_loss(traces)"
   ]
  },
  {
   "cell_type": "code",
   "execution_count": 20,
   "metadata": {},
   "outputs": [],
   "source": [
    "def nll(params, *args):\n",
    "    a, b = params\n",
    "    dnn, d = args\n",
    "    return dnn(a, b, d)\n",
    "\n",
    "def best_fit(nll, dnn, d):\n",
    "    # ----------------------------------------------\n",
    "    # find best-fit value\n",
    "    # ----------------------------------------------\n",
    "    n = 0.55*(d.xmax+d.xmin)\n",
    "    H = 0.55*(d.ymax+d.ymin)\n",
    "    guess   = [n, H]\n",
    "    results = op.minimize(nll, guess, \n",
    "                          args=(dnn, d), \n",
    "                          method='Nelder-Mead')\n",
    "    return results\n",
    "\n",
    "def test_statistic(x, y, d):\n",
    "    \n",
    "    np_array = type(x) == type(np.array([0]))\n",
    "    \n",
    "    if np_array:\n",
    "        N = len(x)\n",
    "        s = np.zeros(N)\n",
    "        for i, n, H in zip(range(N), x, y):\n",
    "            n *= d.xscale\n",
    "            H *= d.yscale\n",
    "            mu = distance_modulus(d.z, n, H)\n",
    "            c  = (d.o - mu)/d.dx   # compute for current hypothesis\n",
    "            s[i] = (c**2).mean()\n",
    "    else:\n",
    "        n  = x * d.xscale\n",
    "        H  = y * d.yscale\n",
    "        mu = distance_modulus(d.z, n, H)\n",
    "        c  = (d.o - mu)/d.dx   # compute for current hypothesis\n",
    "        s  = (c**2).mean()\n",
    "\n",
    "    return np.sqrt(s)\n",
    "\n",
    "def cdf(l, n, H, f=model):\n",
    "    # go to evaluation mode\n",
    "    model.eval()\n",
    "    \n",
    "    # compute,reshape to a 1d array, and convert to a numpy array\n",
    "    X = torch.Tensor(np.array([l, n, H]).T)\n",
    "    Y = model(X).view(-1,).detach().numpy()\n",
    "    if len(Y) == 1:\n",
    "        return Y[0]\n",
    "    else:\n",
    "        return Y\n",
    "\n",
    "def dnn(n, H, d, f=model):\n",
    "    l = test_statistic(n, H, d)\n",
    "    return cdf(l, n, H, f)"
   ]
  },
  {
   "cell_type": "code",
   "execution_count": 21,
   "metadata": {},
   "outputs": [
    {
     "name": "stdout",
     "output_type": "stream",
     "text": [
      "load model: phantom.dict\n"
     ]
    }
   ],
   "source": [
    "Load_model = True\n",
    "modelfile  = '%s.dict' % NN.name\n",
    "print('load model: %s' % modelfile)\n",
    "\n",
    "if Load_model:\n",
    "    modeldict = torch.load(modelfile)\n",
    "    NN.model.load_state_dict(modeldict)"
   ]
  },
  {
   "cell_type": "markdown",
   "metadata": {},
   "source": [
    "### Plot results of trained model"
   ]
  },
  {
   "cell_type": "code",
   "execution_count": 22,
   "metadata": {},
   "outputs": [
    {
     "name": "stdout",
     "output_type": "stream",
     "text": [
      "       message: Optimization terminated successfully.\n",
      "       success: True\n",
      "        status: 0\n",
      "           fun: 0.37057459354400635\n",
      "             x: [ 2.806e-01  7.040e-01]\n",
      "           nit: 37\n",
      "          nfev: 70\n",
      " final_simplex: (array([[ 2.806e-01,  7.040e-01],\n",
      "                       [ 2.805e-01,  7.040e-01],\n",
      "                       [ 2.806e-01,  7.040e-01]]), array([ 3.706e-01,  3.706e-01,  3.706e-01]))\n",
      "saved to file: fig_phantom_results.pdf\n"
     ]
    },
    {
     "data": {
      "image/png": "[encoded data removed]",
      "text/plain": [
       "<Figure size 500x500 with 1 Axes>"
      ]
     },
     "metadata": {},
     "output_type": "display_data"
    }
   ],
   "source": [
    "bag.o = bag.x   # use real data\n",
    "res   = best_fit(nll, dnn, bag)\n",
    "print(res)\n",
    "\n",
    "plot_model(test_data, bag, dnn, \n",
    "           results=res,\n",
    "           hist=h2d,\n",
    "           colormap='rainbow',\n",
    "           plothist=False,\n",
    "           filename='fig_phantom_results.pdf')"
   ]
  },
  {
   "cell_type": "markdown",
   "metadata": {},
   "source": [
    "### Save 95\\% confidence set"
   ]
  },
  {
   "cell_type": "code",
   "execution_count": 24,
   "metadata": {},
   "outputs": [
    {
     "name": "stdout",
     "output_type": "stream",
     "text": [
      "number of points in 95% set: 3758\n"
     ]
    }
   ],
   "source": [
    "l0 = test_data.l0.to_numpy() # compute test statistics for real data\n",
    "n  = test_data.n.to_numpy()\n",
    "H0 = test_data.H0.to_numpy()\n",
    "\n",
    "bag.CL = 0.95\n",
    "select = cdf(l0, n, H0) < bag.CL\n",
    "n      = n[select]\n",
    "H0     = H0[select]\n",
    "print(f'number of points in 95%s set: {len(n):d}' % '%')\n",
    "cset = pd.DataFrame({'n': n, 'H0': H0})\n",
    "cset.to_csv('data/type1a_95CL.csv', index=False)"
   ]
  },
  {
   "cell_type": "code",
   "execution_count": 84,
   "metadata": {},
   "outputs": [],
   "source": [
    "#%load_ext line_profiler"
   ]
  },
  {
   "cell_type": "code",
   "execution_count": 85,
   "metadata": {},
   "outputs": [],
   "source": [
    "#%lprun -f generate_coverage_data generate_coverage_data(n[i], H0[i], bag)"
   ]
  }
 ],
 "metadata": {
  "accelerator": "GPU",
  "colab": {
   "collapsed_sections": [],
   "name": "DRL_19_REINFORCE_Algorithm.ipynb",
   "provenance": []
  },
  "kernelspec": {
   "display_name": "Python 3 (ipykernel)",
   "language": "python",
   "name": "python3"
  },
  "language_info": {
   "codemirror_mode": {
    "name": "ipython",
    "version": 3
   },
   "file_extension": ".py",
   "mimetype": "text/x-python",
   "name": "python",
   "nbconvert_exporter": "python",
   "pygments_lexer": "ipython3",
   "version": "3.11.0"
  }
 },
 "nbformat": 4,
 "nbformat_minor": 1
}
