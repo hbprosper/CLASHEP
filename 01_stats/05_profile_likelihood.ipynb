{
 "cells": [
  {
   "cell_type": "markdown",
   "metadata": {
    "id": "40Yb47zJQglm"
   },
   "source": [
    "# Exercise 5: Profile Likelihood\n",
    " >__Created__:  16 Mar. 2023 for CLASHEP 23\n",
    "\n",
    "### Introduction \n",
    "Consider the 2-parameter statistical model discussed in the lectures:\n",
    "\n",
    "\\begin{align}\n",
    "    p(D | s, b) & = \\textrm{Poisson}(N, s + b) \\,\\textrm{Poisson}(M, k b),\n",
    "\\end{align}\n",
    "\n",
    "where $D = N, M$ are the observed data, $N$ is the count in the signal region and $M$ the count in either a background-dominated region or a Monte Carlo simulation of the background. The background estimate in the signal region is $B \\pm \\delta B = M / k \\pm \\sqrt{M} / k$. \n",
    "\n",
    "In exercise 3, we created a __confidence set__ for the parameters $s$ and $b$. In this exercise, we want to create a 1D confidence set for $s$, that is, we want to create a __confidence interval__ and make a statement of the form\n",
    "\n",
    "\\begin{align}\n",
    "    s & \\in [\\underline{s}(D), \\, \\overline{s}(D)] \\textrm{ at 68% CL}. \n",
    "\\end{align}\n",
    "\n",
    "### The Profile Likelihood\n",
    "If we want to make a statistical statement about $s$ alone, we need a way to remove $b$ from the problem. The standard procedure is to *replace* all __nuisance parameters__ by their __conditional maximum likelihood estimates__, that is, by their MLE for given values of the parameters of interest (POI). Our parameter of interest in this problem is $s$ and the nuisance parameter is $b$. Replacing $b$ by\n",
    "\n",
    "\\begin{align}\n",
    "    \\hat{b} &= \\frac{g + \\sqrt{g^2+4(1+k) M s}}{2(1+k)}, \\\\\n",
    "    g & = N + M - (1+k)  s,\n",
    "\\end{align}\n",
    "\n",
    "in the likelihood function yields a function, \n",
    "\n",
    "\\begin{align}\n",
    "    L_p(s) & = p(D | s, \\hat{b}(s)),\n",
    "\\end{align}\n",
    "\n",
    "called the __profile likelihood__.\n",
    "\n",
    "This function is useful because in the large data sample limit the statistic\n",
    "\n",
    "\\begin{align}\n",
    "    t_s(D) & = -  2 \\log \\left[ \\frac{L_p(s)}{L_p(\\hat{s})} \\right] ,\n",
    "\\end{align}\n",
    "\n",
    "behaves like a $\\chi^2$ variate with __1__ degree of freedom. This is another application of Wilks' theorem."
   ]
  },
  {
   "cell_type": "code",
   "execution_count": 20,
   "metadata": {
    "id": "FA1Y5VCv20XZ"
   },
   "outputs": [],
   "source": [
    "import os, sys\n",
    "\n",
    "# the standard module for tabular data\n",
    "import pandas as pd\n",
    "\n",
    "# the standard module for array manipulation\n",
    "import numpy as np\n",
    "\n",
    "# the standard modules for high-quality plots\n",
    "import matplotlib as mp\n",
    "import matplotlib.pyplot as plt\n",
    "\n",
    "# standard scientific python module\n",
    "import scipy as sp\n",
    "import scipy.stats as st\n",
    "import scipy.optimize as op\n",
    "\n",
    "%matplotlib inline"
   ]
  },
  {
   "cell_type": "code",
   "execution_count": 21,
   "metadata": {},
   "outputs": [],
   "source": [
    "# update fonts\n",
    "FONTSIZE = 18\n",
    "font = {'family' : 'serif',\n",
    "        'weight' : 'normal',\n",
    "        'size'   : FONTSIZE}\n",
    "mp.rc('font', **font)\n",
    "\n",
    "# set usetex = False if LaTex is not \n",
    "# available on your system or if the \n",
    "# rendering is too slow\n",
    "mp.rc('text', usetex=True)\n",
    "\n",
    "# set a seed to ensure reproducibility\n",
    "seed = 128\n",
    "rnd  = np.random.RandomState(seed)"
   ]
  },
  {
   "cell_type": "markdown",
   "metadata": {
    "id": "NJC916BU-9L6"
   },
   "source": [
    "### CMS 2014 $H \\rightarrow Z Z \\rightarrow 4 \\ell$ summary data\n"
   ]
  },
  {
   "cell_type": "code",
   "execution_count": 22,
   "metadata": {},
   "outputs": [],
   "source": [
    "class Bag:\n",
    "    pass\n",
    "bag = Bag()\n",
    "\n",
    "bag.N = 25\n",
    "bag.M = 353\n",
    "bag.k = 37.6\n",
    "bag.MLE = True\n",
    "\n",
    "bag.N1= bag.N\n",
    "bag.M1= bag.M"
   ]
  },
  {
   "cell_type": "markdown",
   "metadata": {},
   "source": [
    "### Define statistical model/likelihood and the statistic $t_s(D)$\n",
    "\n",
    "For continuous distributions, such as a Gaussian, we refer to the __probability density function (pdf)__ from which a probability can be computed by integrating the pdf over an interval in the space of observations. For discrete distributions, we refer to their functional forms as __probability mass functions (pmf)__. "
   ]
  },
  {
   "cell_type": "code",
   "execution_count": 23,
   "metadata": {},
   "outputs": [],
   "source": [
    "def loglikelihood(D, s, tiny=1.e-20):\n",
    "    N = D.N\n",
    "    M = D.M\n",
    "    k = D.k\n",
    "    \n",
    "    # compute conditional MLE of background, b_hat = f(s)\n",
    "    g = N + M - (1+k) * s\n",
    "    b_hat = (g + np.sqrt(g**2+4*(1+k)*M*s))/2/(1+k)\n",
    "    \n",
    "    ll  = st.poisson.logpmf(N, s+b_hat+tiny)\n",
    "    ll += st.poisson.logpmf(M, k*b_hat+tiny)\n",
    "    return ll\n",
    "\n",
    "def s_hat(D):\n",
    "    N = D.N\n",
    "    M = D.M\n",
    "    k = D.k\n",
    "    # compute MLE of mean signal (the parameter of interest)\n",
    "    s_est = N - M / k\n",
    "    \n",
    "    if not D.MLE:\n",
    "        # replace negative signal estimates by zero\n",
    "        s_est = s_est * (s_est > 0)\n",
    "  \n",
    "    return s_est\n",
    "\n",
    "def logsuplikelihood(D):\n",
    "    return loglikelihood(D, s_hat(D))\n",
    "\n",
    "def statistic(D, s):\n",
    "    return -2*(loglikelihood(D, s) - logsuplikelihood(D))"
   ]
  },
  {
   "cell_type": "markdown",
   "metadata": {},
   "source": [
    "### Find 68% confidence interval\n",
    "\n",
    "Solve\n",
    "\n",
    "$$t_s(D) = 1$$\n",
    "\n",
    "for $\\underline{s}(D)$ and $\\overline{s}(D)$."
   ]
  },
  {
   "cell_type": "code",
   "execution_count": 24,
   "metadata": {},
   "outputs": [],
   "source": [
    "def computeInterval(D):\n",
    "    def F(s, args):\n",
    "        return statistic(D, s) - 1\n",
    "        \n",
    "    s_est= s_hat(D)\n",
    "    s_err= np.sqrt(D.N+1)\n",
    "    \n",
    "    # find s_L\n",
    "    smin = max(0, s_est - 2*s_err)\n",
    "    smax = s_est\n",
    "    s_L  = op.brentq(F, smin, smax, args=(s_est))\n",
    "       \n",
    "    # find s_U\n",
    "    smin = s_est\n",
    "    smax = s_est * 2*s_err\n",
    "    s_U  = op.brentq(F, smin, smax, args=(s_est))\n",
    "\n",
    "    return (s_L, s_U)"
   ]
  },
  {
   "cell_type": "code",
   "execution_count": 25,
   "metadata": {},
   "outputs": [
    {
     "name": "stdout",
     "output_type": "stream",
     "text": [
      "interval: [  10.9,   21.0]\n"
     ]
    }
   ],
   "source": [
    "interval = computeInterval(bag)\n",
    "s_L, s_U = interval\n",
    "print(f'interval: [{s_L:6.1f}, {s_U:6.1f}]')"
   ]
  },
  {
   "cell_type": "markdown",
   "metadata": {},
   "source": [
    "### Plot confidence interval"
   ]
  },
  {
   "cell_type": "code",
   "execution_count": 26,
   "metadata": {},
   "outputs": [],
   "source": [
    "def plot_confidence_interval(t, D, interval,\n",
    "                        xbins=80, xmin=0, xmax=40, \n",
    "                        ymin=0, ymax=1.2,\n",
    "                        filename='profile_likelihood.png',\n",
    "                        fgsize=(5, 5), ftsize=18):\n",
    "                        \n",
    "    # make 1 sub-plot\n",
    "    fig, ax = plt.subplots(nrows=1, ncols=1, figsize=fgsize)\n",
    "    \n",
    "    ax.set_xlim(xmin, xmax)\n",
    "    ax.set_xlabel(r'$s$', fontsize=ftsize)\n",
    "    \n",
    "    ax.set_ylim(ymin, ymax)\n",
    "    ax.set_ylabel(r'$L_p(s)$', fontsize=ftsize)\n",
    "    \n",
    "    xstep = (xmax-xmin)/xbins\n",
    "    x     = np.arange(xmin, xmax+xstep, xstep)\n",
    "    y     = np.exp(-t(D, x)/2)\n",
    "\n",
    "    ax.plot(x, y, linewidth=1, color='blue')\n",
    "    \n",
    "    # fill beneath the curve\n",
    "    ax.fill_between(x, y, alpha=0.05, color='steelblue')\n",
    "\n",
    "    # fill between [s_L, s_U]\n",
    "    s_L, s_U = interval\n",
    "    x = np.arange(s_L, s_U, 0.1)\n",
    "    y = np.exp(-t(D, x)/2)   \n",
    "    ax.fill_between(x, y, alpha=0.4, color='green', \n",
    "                    label=f'$s \\in [{s_L:6.1f}, {s_U:6.1f}]$') \n",
    "    ax.legend()\n",
    "    \n",
    "    plt.tight_layout()\n",
    "\n",
    "    plt.savefig(filename)\n",
    "    \n",
    "    plt.show()"
   ]
  },
  {
   "cell_type": "code",
   "execution_count": 27,
   "metadata": {},
   "outputs": [
    {
     "data": {
      "image/png": "[encoded data removed]",
      "text/plain": [
       "<Figure size 500x500 with 1 Axes>"
      ]
     },
     "metadata": {},
     "output_type": "display_data"
    }
   ],
   "source": [
    "plot_confidence_interval(statistic, bag, interval)"
   ]
  },
  {
   "cell_type": "markdown",
   "metadata": {},
   "source": [
    "## Check coverage\n",
    "Choose a *fixed* parameter point $(s_0, b_0)$.\n",
    "  1. simulate NEXP experiments\n",
    "  1. compute statistic $t(D)$ for each experiment\n",
    "  1. compute $cdf(t(D) = P(\\chi^2 < t(D)|s_0, b_0)$\n",
    "  1. count how often $cdf < CL$\n",
    "  1. compute coverage"
   ]
  },
  {
   "cell_type": "code",
   "execution_count": 11,
   "metadata": {},
   "outputs": [
    {
     "name": "stdout",
     "output_type": "stream",
     "text": [
      "true s:   15.6\n",
      "true b:    9.4\n",
      "coverage:  0.681\n"
     ]
    }
   ],
   "source": [
    "# 0. choose a \"true\" parameter point\n",
    "N = bag.N1\n",
    "M = bag.M1\n",
    "k = bag.k\n",
    "bag.s0 = N - M/k \n",
    "bag.b0 = M/k\n",
    "NEXP   = 10000   # number of experiments to simulate\n",
    "\n",
    "print(f'true s: {bag.s0:6.1f}')\n",
    "print(f'true b: {bag.b0:6.1f}')\n",
    "\n",
    "# 1. simulate experiments\n",
    "N0 = st.poisson.rvs(bag.s0 + bag.b0, size=NEXP)\n",
    "M0 = st.poisson.rvs(bag.k  * bag.b0, size=NEXP)\n",
    "\n",
    "# 2. compute statistic for each experiment\n",
    "bag.N = N0\n",
    "bag.M = M0\n",
    "t = statistic(bag, bag.s0)\n",
    "\n",
    "# 3. compute cdf assuming t is a chi2 variate of 1 degree of freedom\n",
    "ndf = 1\n",
    "cdf = st.chi2.cdf(t, ndf)\n",
    "\n",
    "# 4. count how often confidence set includes true means\n",
    "CL  = 0.683\n",
    "k   = cdf < CL\n",
    "\n",
    "# 5. compute coverage\n",
    "coverage = k.sum() / NEXP\n",
    "\n",
    "print(f'coverage: {coverage:6.3f}')"
   ]
  },
  {
   "cell_type": "code",
   "execution_count": 16,
   "metadata": {},
   "outputs": [],
   "source": [
    "def plot_distribution(t, \n",
    "                      xbins=120, xmin=0, xmax=15, \n",
    "                      ymin=0, ymax=1.0,\n",
    "                        filename='statistic_distribution_1D.png',\n",
    "                        fgsize=(5, 5), ftsize=18):\n",
    "                        \n",
    "    # make 1 sub-plot\n",
    "    fig, ax = plt.subplots(nrows=1, ncols=1, figsize=fgsize)\n",
    "    \n",
    "    ax.set_xlim(xmin, xmax)\n",
    "    ax.set_xlabel(r'$t(D)$', fontsize=ftsize)\n",
    "    \n",
    "    ax.set_ylim(ymin, ymax)\n",
    "    ax.set_ylabel(r'$p(t)$', fontsize=ftsize)\n",
    "    \n",
    "    # compute chi2 level for 2 degrees of freedom\n",
    "    # for 1sigma\n",
    "    xstep = (xmax-xmin)/xbins\n",
    "    x     = np.arange(xmin, xmax+xstep, xstep)\n",
    "    NDF   = 1\n",
    "    y     = st.chi2.pdf(x, NDF)\n",
    "\n",
    "    ax.hist(t, bins=xbins, \n",
    "            range=(xmin, xmax), \n",
    "            density=True, alpha=0.5, label='simulation')\n",
    "    \n",
    "    ax.plot(x, y, color='red', label=r'$p(\\chi^2|ndf=1)$')\n",
    "    ax.legend()\n",
    "    ax.grid()\n",
    "\n",
    "    plt.tight_layout()\n",
    "\n",
    "    plt.savefig(filename)\n",
    "    \n",
    "    plt.show()"
   ]
  },
  {
   "cell_type": "code",
   "execution_count": 17,
   "metadata": {},
   "outputs": [
    {
     "data": {
      "image/png": "[encoded data removed]",
      "text/plain": [
       "<Figure size 500x500 with 1 Axes>"
      ]
     },
     "metadata": {},
     "output_type": "display_data"
    }
   ],
   "source": [
    "plot_distribution(t)"
   ]
  },
  {
   "cell_type": "code",
   "execution_count": null,
   "metadata": {},
   "outputs": [],
   "source": []
  }
 ],
 "metadata": {
  "accelerator": "GPU",
  "colab": {
   "collapsed_sections": [],
   "name": "DRL_19_REINFORCE_Algorithm.ipynb",
   "provenance": []
  },
  "kernelspec": {
   "display_name": "Python 3 (ipykernel)",
   "language": "python",
   "name": "python3"
  },
  "language_info": {
   "codemirror_mode": {
    "name": "ipython",
    "version": 3
   },
   "file_extension": ".py",
   "mimetype": "text/x-python",
   "name": "python",
   "nbconvert_exporter": "python",
   "pygments_lexer": "ipython3",
   "version": "3.11.0"
  }
 },
 "nbformat": 4,
 "nbformat_minor": 1
}
