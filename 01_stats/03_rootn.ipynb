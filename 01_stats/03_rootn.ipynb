{
 "cells": [
  {
   "cell_type": "markdown",
   "metadata": {
    "slideshow": {
     "slide_type": "slide"
    }
   },
   "source": [
    "# Exercise 3: $\\sqrt{N}$ Upper Limits\n",
    " >__Created__:  29 Sep. 2017 Harrison B. Prosper<br>\n",
    " >__Updated__:  25 Jun. 2018, adapted for ESHEP 18, HBP<br>\n",
    " >__Updated__:  14 Mar. 2023, adapted for CLASHEP 23\n",
    "\n",
    "\n",
    "In this exercise, we shall determine the relative\n",
    "frequency with which statements of the form  $$\\theta < N + \\sqrt{N},$$\n",
    "are true in an ensemble of 50,000 experiments, each associated with a _different_ mean count $\\theta$.\n",
    "We assume that each experiment yields a _single_ count $N$. Note that in the real world, unless the phenomenon being\n",
    "investigated does not exist - in which case the mean count is zero, it is highly unlikely that every\n",
    "experiment in a\n",
    "random collection of experiments would be associated with _exactly_ the same mean count. \n",
    "\n",
    "We shall simulate \n",
    " such an ensemble of experiments by \n",
    "sampling their _mean_ counts from a uniform distribution,\n",
    "$\\textrm{uniform}(0, \\theta_\\max) = 1 \\, / \\, \\theta_\\max$, first (Part 1) with mean $\\theta_\\max = 3$ and then (Part 2)\n",
    "with mean $\\theta_\\max = 10$.  Then we'll plot the coverage as a function of $\\theta$.\n",
    "\n",
    "   \n",
    "Each experiment obtains a count $N$. The statement $$\\theta < N + \\sqrt{N},$$ is either _True_ of _False_, where $\\theta$ is the mean count for that experiment. Ordinarily, we do not know the mean count $\\theta$ associated with an experiment. However, in a simulated world we typically do. Therefore, we can determine whether or not each statement is true. In the limit of an infinitely large sample of experiments, the relative frequency with which statements of the form $\\theta < N + \\sqrt{N}$ are true is called the __coverage__ probability. Note: the latter is a property of the *population* or, as we physicists prefer to say, *ensemble* to which the statements belong and *not* a property of any given statement. Consequently, if a given statement is *imagined* to be a embedded in a different ensemble, then, in general, the coverage probability will change. This is an example of the *reference class problem*. Absolute probabilities do not exist; all are conditional!\n",
    "\n",
    "__The Frequentist Principle__ The goal of frequentist analyses is to guarantee the following: over an (infinite) ensemble of statements, *which could be about different things*, a minimum fraction, $p = \\textrm{CL}$, of these statements will be true. The CL is called the __confidence level__. The clever thing is to invent procedures in which the CL is specified _a priori_. For Gaussian random variables $x$ statements of the form $\\mu \\in [x - \\sigma, x + \\sigma]$, where $\\mu$ is the mean of the Gaussian, which, in principle, could vary from one  experiment to the next, are true 68.3% of the time."
   ]
  },
  {
   "cell_type": "code",
   "execution_count": 1,
   "metadata": {},
   "outputs": [],
   "source": [
    "# standard system modules\n",
    "import os, sys\n",
    "\n",
    "# the standard module for array manipulation\n",
    "import numpy as np\n",
    "\n",
    "# scientific computing library\n",
    "import scipy.stats as st\n",
    "\n",
    "# the standard modules for high-quality plots\n",
    "import matplotlib as mp\n",
    "import matplotlib.pyplot as plt\n",
    "%matplotlib inline\n",
    "\n",
    "# update fonts\n",
    "FONTSIZE = 14\n",
    "font = {'family' : 'serif',\n",
    "        'weight' : 'normal',\n",
    "        'size'   : FONTSIZE}\n",
    "mp.rc('font', **font)\n",
    "\n",
    "# set usetex = False if LaTex is not \n",
    "# available on your system or if the \n",
    "# rendering is too slow\n",
    "mp.rc('text', usetex=True)"
   ]
  },
  {
   "cell_type": "code",
   "execution_count": 2,
   "metadata": {},
   "outputs": [],
   "source": [
    "NEXP = 50000  # number of experiments/statements"
   ]
  },
  {
   "cell_type": "markdown",
   "metadata": {},
   "source": [
    "### Model the experiments"
   ]
  },
  {
   "cell_type": "code",
   "execution_count": 3,
   "metadata": {},
   "outputs": [],
   "source": [
    "def performExperiments(theta, theta_max=True, ran=np.random, n=NEXP):\n",
    "    \n",
    "    # generate n mean values if theta_max is true and \n",
    "    # take theta as the maximum value of theta\n",
    "    if theta_max:\n",
    "        theta = ran.uniform(0, theta, n)\n",
    "    \n",
    "    # for each mean value generate an experimental outcome\n",
    "    N  = ran.poisson(theta, n)\n",
    "\n",
    "    # compute upper limits\n",
    "    U  = N + np.sqrt(N)\n",
    "\n",
    "    return (theta, N, U)        "
   ]
  },
  {
   "cell_type": "markdown",
   "metadata": {},
   "source": [
    "### Part 1\n",
    "Set $\\theta_\\max = 3$."
   ]
  },
  {
   "cell_type": "code",
   "execution_count": 4,
   "metadata": {},
   "outputs": [
    {
     "name": "stdout",
     "output_type": "stream",
     "text": [
      "theta   0.62  1.22  2.19  1.89  0.78  0.34  2.93  2.61  1.99  2.36\n",
      "N       1.00  0.00  2.00  2.00  1.00  2.00  2.00  7.00  3.00  2.00\n",
      "U       2.00  0.00  3.41  3.41  2.00  3.41  3.41  9.65  4.73  3.41\n"
     ]
    }
   ],
   "source": [
    "theta = 3.0 # maximum theta\n",
    "theta, N1, U1 = performExperiments(theta, theta_max=True)\n",
    "\n",
    "K   = 10\n",
    "fmt = ' %5.2f' * K\n",
    "print('theta', fmt % tuple(theta[:K]))\n",
    "print('N    ', fmt % tuple(N1[:K]))\n",
    "print('U    ', fmt % tuple(U1[:K]))"
   ]
  },
  {
   "cell_type": "markdown",
   "metadata": {},
   "source": [
    "__Analyze results of experiments__ \n",
    "\n",
    "Relative frequency $p = k \\, / \\, n$ with rough measure of uncertainty $\\sqrt{n p (1 - p)} \\, / \\, n$."
   ]
  },
  {
   "cell_type": "code",
   "execution_count": 5,
   "metadata": {},
   "outputs": [],
   "source": [
    "def computeCoverage(theta, U): \n",
    "    \n",
    "    # number of experiments\n",
    "    n = len(U)\n",
    "    \n",
    "    # determine true and false statements\n",
    "    t = theta < U\n",
    "    \n",
    "    # compute coverage probability \n",
    "    # (i.e., fraction of true statements)\n",
    "    k  = t.sum()     # number of true statements\n",
    "    p  = float(k)/n\n",
    "    \n",
    "    # since we have k true statements our of n, this is a binomial\n",
    "    # problem with variance n*p*(1-p). Therefore, a rough estimate\n",
    "    # of the uncertainty in p is\n",
    "    dp = np.sqrt(n*p*(1-p))/n\n",
    "    \n",
    "    return (p, dp)"
   ]
  },
  {
   "cell_type": "code",
   "execution_count": 6,
   "metadata": {},
   "outputs": [
    {
     "name": "stdout",
     "output_type": "stream",
     "text": [
      "coverage:    0.613    0.002\n"
     ]
    }
   ],
   "source": [
    "results = computeCoverage(theta, U1)\n",
    "\n",
    "print(f\"coverage: {results[0]:8.3f} {results[1]:8.3f}\")"
   ]
  },
  {
   "cell_type": "markdown",
   "metadata": {},
   "source": [
    "### Part 2\n",
    "Set $\\theta_\\max = 10$."
   ]
  },
  {
   "cell_type": "code",
   "execution_count": 8,
   "metadata": {},
   "outputs": [
    {
     "name": "stdout",
     "output_type": "stream",
     "text": [
      "coverage:    0.730    0.002\n"
     ]
    }
   ],
   "source": [
    "theta = 10.0    # max theta\n",
    "theta, N2,U2 = performExperiments(theta, theta_max=True)\n",
    "results      = computeCoverage(theta, U2)\n",
    "\n",
    "print(f\"coverage: {results[0]:8.3f} {results[1]:8.3f}\")"
   ]
  },
  {
   "cell_type": "markdown",
   "metadata": {},
   "source": [
    "### Part 3\n",
    "Plot coverage as a function of $\\theta$. This is an upper limit, so for large $N$ we expect the confidence level to be that of a single-sided 1-standard deviation interval."
   ]
  },
  {
   "cell_type": "code",
   "execution_count": 23,
   "metadata": {},
   "outputs": [
    {
     "name": "stdout",
     "output_type": "stream",
     "text": [
      "shape: (2, 198)\n"
     ]
    }
   ],
   "source": [
    "theta   = np.arange(0.1, 10.0, 0.05)\n",
    "\n",
    "expts   = [performExperiments(x, theta_max=False) for x in theta]\n",
    "\n",
    "results = [(t, computeCoverage(t, u)[0]) for t, _, u in expts]\n",
    "\n",
    "results = np.array(results).T\n",
    "print(f'shape: {str(results.shape):s}')\n",
    "\n",
    "theta   = results[0]\n",
    "coverage= results[1]"
   ]
  },
  {
   "cell_type": "code",
   "execution_count": 24,
   "metadata": {},
   "outputs": [],
   "source": [
    "def plot_coverage(x, y, filename=\"rootN_coverage.png\"):\n",
    "    \n",
    "    # create an empty figure\n",
    "    fig = plt.figure(figsize=(5, 5))\n",
    "    fig.tight_layout()\n",
    "    \n",
    "    # add a subplot to it\n",
    "    nrows, ncols, index = 1,1,1\n",
    "    ax  = fig.add_subplot(nrows,ncols,index)\n",
    "\n",
    "    xmin= 0\n",
    "    xmax= 2*x[-1]-x[-2]\n",
    "    ax.set_xlim(xmin, xmax)\n",
    "    ax.set_xlabel(r'$\\theta$', fontsize=FONTSIZE)\n",
    "    \n",
    "    ymin= 0\n",
    "    ymax= 1\n",
    "    ax.set_ylim(ymin, ymax)\n",
    "    ax.set_ylabel(r'$P(\\theta < \\overline{\\theta}(N)|\\theta)$', \n",
    "                  fontsize=FONTSIZE) \n",
    "    \n",
    "    #ax.set_title(\"coverage\")\n",
    "    \n",
    "    ax.plot(x, y, 'b', lw=1, label='coverage')\n",
    "    \n",
    "    # compute 1-sided confidence level assuming we're\n",
    "    # in the Gaussian limit.\n",
    "    x  = 1\n",
    "    df = 1\n",
    "    p  = st.chi2.cdf(x, df)\n",
    "    CL = (1+p)/2\n",
    "    print(f'CL: {CL:7.3f}')\n",
    "    \n",
    "    ax.plot([xmin, xmax], [CL, CL], 'r', lw=1, label='CL')\n",
    "\n",
    "    ax.grid(True, which=\"both\", linestyle='-')\n",
    "    ax.legend(loc='lower right')\n",
    "    \n",
    "    plt.savefig(filename)\n",
    "    plt.show()"
   ]
  },
  {
   "cell_type": "code",
   "execution_count": 25,
   "metadata": {},
   "outputs": [
    {
     "name": "stdout",
     "output_type": "stream",
     "text": [
      "CL:   0.841\n"
     ]
    },
    {
     "data": {
      "image/png": "[encoded data removed]",
      "text/plain": [
       "<Figure size 500x500 with 1 Axes>"
      ]
     },
     "metadata": {},
     "output_type": "display_data"
    }
   ],
   "source": [
    "plot_coverage(theta, coverage)"
   ]
  },
  {
   "cell_type": "markdown",
   "metadata": {},
   "source": [
    "...Repeat with much longer range"
   ]
  },
  {
   "cell_type": "code",
   "execution_count": 26,
   "metadata": {},
   "outputs": [
    {
     "name": "stdout",
     "output_type": "stream",
     "text": [
      "shape: (2, 400)\n",
      "CL:   0.841\n"
     ]
    },
    {
     "data": {
      "image/png": "[encoded data removed]",
      "text/plain": [
       "<Figure size 500x500 with 1 Axes>"
      ]
     },
     "metadata": {},
     "output_type": "display_data"
    }
   ],
   "source": [
    "theta   = np.arange(0.1, 4000.0, 10)\n",
    "expts   = [performExperiments(x, theta_max=False) for x in theta]\n",
    "results = [(t, computeCoverage(t, u)[0]) for t, _, u in expts]\n",
    "\n",
    "results = np.array(results).T\n",
    "print(f'shape: {str(results.shape):s}')\n",
    "\n",
    "theta   = results[0]\n",
    "coverage= results[1]\n",
    "plot_coverage(theta, coverage, \n",
    "              filename='rootn_coverage_range_4000.png')"
   ]
  },
  {
   "cell_type": "code",
   "execution_count": null,
   "metadata": {},
   "outputs": [],
   "source": []
  }
 ],
 "metadata": {
  "kernelspec": {
   "display_name": "Python 3 (ipykernel)",
   "language": "python",
   "name": "python3"
  },
  "language_info": {
   "codemirror_mode": {
    "name": "ipython",
    "version": 3
   },
   "file_extension": ".py",
   "mimetype": "text/x-python",
   "name": "python",
   "nbconvert_exporter": "python",
   "pygments_lexer": "ipython3",
   "version": "3.11.0"
  }
 },
 "nbformat": 4,
 "nbformat_minor": 1
}
