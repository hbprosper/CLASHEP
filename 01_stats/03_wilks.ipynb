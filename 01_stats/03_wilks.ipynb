{
 "cells": [
  {
   "cell_type": "markdown",
   "metadata": {
    "id": "40Yb47zJQglm"
   },
   "source": [
    "# Exercise 3: Using Wilks' Theorem\n",
    " >__Created__:  15 Mar. 2023 for CLASHEP 23\n",
    "\n",
    "### Introduction \n",
    "Consider the 2-parameter statistical model discussed in the lectures:\n",
    "\n",
    "\\begin{align}\n",
    "    p(D | s, b) & = \\textrm{Poisson}(N, s + b) \\,\\textrm{Poisson}(M, k b),\n",
    "\\end{align}\n",
    "\n",
    "where $D = N, M$ are the observed data, $N$ is the count in the signal region and $M$ the count in either a background-dominated region or a Monte Carlo simulation of the background. The background estimate in the signal region is $B \\pm \\delta B = M / k \\pm \\sqrt{M} / k$. \n",
    "\n",
    "### Wilks' Theorem\n",
    "Given certain conditions, principally that we have enough data and the parameter estimates do not lie on the *boundary* of the $(s, b)$ parameter space, this theorem states that the distribution of the statistic\n",
    "\n",
    "\\begin{align}\n",
    "    t_\\theta(D) & = -  2 \\log \\left[ \\frac{p(D | s, b)}{p(D | \\hat{s}, \\hat{b})} \\right] ,\n",
    "\\end{align}\n",
    "\n",
    "where $\\theta = s, b$ is *approximately* that of a $\\chi^2$ variable of 2 degrees of freedom."
   ]
  },
  {
   "cell_type": "code",
   "execution_count": 1,
   "metadata": {
    "id": "FA1Y5VCv20XZ"
   },
   "outputs": [],
   "source": [
    "import os, sys\n",
    "\n",
    "# the standard module for tabular data\n",
    "import pandas as pd\n",
    "\n",
    "# the standard module for array manipulation\n",
    "import numpy as np\n",
    "\n",
    "# the standard modules for high-quality plots\n",
    "import matplotlib as mp\n",
    "import matplotlib.pyplot as plt\n",
    "\n",
    "# standard scientific python module\n",
    "import scipy as sp\n",
    "import scipy.stats as st\n",
    "import scipy.optimize as op\n",
    "\n",
    "%matplotlib inline"
   ]
  },
  {
   "cell_type": "code",
   "execution_count": 2,
   "metadata": {},
   "outputs": [],
   "source": [
    "# update fonts\n",
    "FONTSIZE = 18\n",
    "font = {'family' : 'serif',\n",
    "        'weight' : 'normal',\n",
    "        'size'   : FONTSIZE}\n",
    "mp.rc('font', **font)\n",
    "\n",
    "# set usetex = False if LaTex is not \n",
    "# available on your system or if the \n",
    "# rendering is too slow\n",
    "mp.rc('text', usetex=True)\n",
    "\n",
    "# set a seed to ensure reproducibility\n",
    "seed = 128\n",
    "rnd  = np.random.RandomState(seed)"
   ]
  },
  {
   "cell_type": "markdown",
   "metadata": {
    "id": "NJC916BU-9L6"
   },
   "source": [
    "### CMS 2014 $H \\rightarrow Z Z \\rightarrow 4 \\ell$ summary data\n"
   ]
  },
  {
   "cell_type": "code",
   "execution_count": 8,
   "metadata": {},
   "outputs": [],
   "source": [
    "class Bag:\n",
    "    pass\n",
    "bag = Bag()\n",
    "\n",
    "bag.N = 25\n",
    "bag.M = 353\n",
    "bag.k = 37.6"
   ]
  },
  {
   "cell_type": "markdown",
   "metadata": {},
   "source": [
    "### Define statistical model and statistic $t_\\theta(D)$\n",
    "\n",
    "For continuous distributions, such as a Gaussian, we refer to the __probability density function (pdf)__ from which a probability can be computed by integrating the pdf over an interval in the space of observations. For discrete distributions, we refer to their functional forms as __probability mass functions (pmf)__. \n",
    "\n",
    "\n",
    "Below __model__ is the model, while __sup_model__ is is *supremum*, that is, its maximum."
   ]
  },
  {
   "cell_type": "code",
   "execution_count": 9,
   "metadata": {},
   "outputs": [],
   "source": [
    "def logmodel(D, s, b):\n",
    "    N = D.N\n",
    "    M = D.M\n",
    "    k = D.k\n",
    "    return st.poisson.logpmf(N, s+b) +  st.poisson.logpmf(M, k * b)\n",
    "\n",
    "def logsupmodel(D):\n",
    "    N = D.N\n",
    "    M = D.M\n",
    "    return st.poisson.logpmf(N, N) +  st.poisson.logpmf(M, M)\n",
    "\n",
    "def statistic(D, s, b):\n",
    "    return -2*(logmodel(D, s, b) - logsupmodel(D))"
   ]
  },
  {
   "cell_type": "markdown",
   "metadata": {},
   "source": [
    "### Find the best-fit values of the parameters"
   ]
  },
  {
   "cell_type": "code",
   "execution_count": 31,
   "metadata": {},
   "outputs": [],
   "source": [
    "def best_fit(statistic, D):\n",
    "    def nll(params, *args):\n",
    "        s, b = params\n",
    "        t, D = args\n",
    "    return t(D, s, b)\n",
    "    # --------------------\n",
    "    # find best-fit value\n",
    "    # --------------------\n",
    "    guess   = [10.0, 10.0]\n",
    "    results = op.minimize(nll, guess, args=(statistic, bag), \n",
    "                          method='Nelder-Mead')\n",
    "    return results"
   ]
  },
  {
   "cell_type": "code",
   "execution_count": 33,
   "metadata": {},
   "outputs": [
    {
     "data": {
      "text/plain": [
       "       message: Optimization terminated successfully.\n",
       "       success: True\n",
       "        status: 0\n",
       "           fun: 7.224798537208699e-11\n",
       "             x: [ 1.561e+01  9.388e+00]\n",
       "           nit: 42\n",
       "          nfev: 83\n",
       " final_simplex: (array([[ 1.561e+01,  9.388e+00],\n",
       "                       [ 1.561e+01,  9.388e+00],\n",
       "                       [ 1.561e+01,  9.388e+00]]), array([ 7.225e-11,  8.698e-11,  2.264e-10]))"
      ]
     },
     "execution_count": 33,
     "metadata": {},
     "output_type": "execute_result"
    }
   ],
   "source": [
    "results = best_fit(nll, statistic, bag)\n",
    "results"
   ]
  },
  {
   "cell_type": "markdown",
   "metadata": {},
   "source": [
    "### Plot confidence sets"
   ]
  },
  {
   "cell_type": "code",
   "execution_count": 47,
   "metadata": {},
   "outputs": [],
   "source": [
    "def plot_confidence_set(t, D, results=None,\n",
    "                        xbins=30, xmin=0, xmax=30, \n",
    "                        ybins=30, ymin=8, ymax=11,\n",
    "                        filename='confidence_set.png',\n",
    "                        fgsize=(5, 5), ftsize=18):\n",
    "                        \n",
    "    # make 1 sub-plot\n",
    "    fig, ax = plt.subplots(nrows=1, ncols=1, figsize=fgsize)\n",
    "    \n",
    "    ax.set_xlim(xmin, xmax)\n",
    "    ax.set_xlabel(r'$s$', fontsize=ftsize)\n",
    "    \n",
    "    ax.set_ylim(ymin, ymax)\n",
    "    ax.set_ylabel(r'$b$', fontsize=ftsize)\n",
    "    \n",
    "    # compute chi2 levels for 2 degrees of freedom\n",
    "    # for 0.5sigma, 1sigma etc.\n",
    "    NDF = 2\n",
    "    mylevels = np.array([st.chi2.ppf(st.chi2.cdf(0.5, 1), NDF), # chi2 level for 0.5sigma\n",
    "                         st.chi2.ppf(st.chi2.cdf(1.0, 1), NDF), # chi2 level for 1.0sigma\n",
    "                         st.chi2.ppf(st.chi2.cdf(1.5, 1), NDF), # etc.\n",
    "                         st.chi2.ppf(st.chi2.cdf(2.0, 1), NDF)])\n",
    "\n",
    "    # ----------------------------------------------\n",
    "    # compute statistic at every grid point\n",
    "    # then reshape to a 2d array\n",
    "    # ----------------------------------------------      \n",
    "    xstep = (xmax - xmin)/xbins\n",
    "    ystep = (ymax - ymin)/ybins\n",
    "    \n",
    "    x     = np.arange(xmin, xmax, xstep) + xstep/2\n",
    "    y     = np.arange(ymin, ymax, ystep) + ystep/2\n",
    "    \n",
    "    X, Y  = np.meshgrid(x, y)\n",
    "    x     = X.flatten()\n",
    "    y     = Y.flatten()\n",
    "    \n",
    "    N, M  = D.N, D.M\n",
    "    F     = t(D, x, y).reshape(X.shape)\n",
    "\n",
    "    # use levels to compute desired contours\n",
    "    cs = ax.contour(X, Y, F, \n",
    "                    extent=(xmin, xmax, ymin, ymax),\n",
    "                    levels=mylevels, \n",
    "                    linewidths=2,\n",
    "                    cmap='rainbow') \n",
    "\n",
    "    # annotate contours\n",
    "    cs.levels= [r'$0.5\\sigma$', \n",
    "                r'$1.0\\sigma$', \n",
    "                r'$1.5\\sigma$', \n",
    "                r'$2.0\\sigma$']\n",
    "    \n",
    "    ax.clabel(cs, cs.levels, inline=True, \n",
    "              fontsize=18, fmt='%s',  \n",
    "              colors='black')\n",
    "\n",
    "    if results:\n",
    "        if results.success:\n",
    "            s, b = results.x\n",
    "            ax.scatter(s, b, s=80, c='black')\n",
    "\n",
    "            xpos = xmin + 0.1*(xmax-xmin)\n",
    "            ypos = ymin + 0.9*(ymax-ymin)\n",
    "\n",
    "            ax.text(xpos, ypos, \n",
    "                r'$s: %6.1f$\\,\\,\\,\\,$b: %6.1f$' % (s, b), \n",
    "                    fontsize=ftsize)\n",
    "\n",
    "    ax.grid()\n",
    "\n",
    "    plt.tight_layout()\n",
    "\n",
    "    if filename != None:\n",
    "        print('saved to file:', filename)\n",
    "        plt.savefig(filename)\n",
    "\n",
    "    plt.show()\n"
   ]
  },
  {
   "cell_type": "code",
   "execution_count": 48,
   "metadata": {},
   "outputs": [
    {
     "name": "stdout",
     "output_type": "stream",
     "text": [
      "saved to file: confidence_set.png\n"
     ]
    },
    {
     "data": {
      "image/png": "[encoded data removed]",
      "text/plain": [
       "<Figure size 500x500 with 1 Axes>"
      ]
     },
     "metadata": {},
     "output_type": "display_data"
    }
   ],
   "source": [
    "plot_confidence_set(statistic, bag, results)"
   ]
  },
  {
   "cell_type": "code",
   "execution_count": null,
   "metadata": {},
   "outputs": [],
   "source": []
  }
 ],
 "metadata": {
  "accelerator": "GPU",
  "colab": {
   "collapsed_sections": [],
   "name": "DRL_19_REINFORCE_Algorithm.ipynb",
   "provenance": []
  },
  "kernelspec": {
   "display_name": "Python 3 (ipykernel)",
   "language": "python",
   "name": "python3"
  },
  "language_info": {
   "codemirror_mode": {
    "name": "ipython",
    "version": 3
   },
   "file_extension": ".py",
   "mimetype": "text/x-python",
   "name": "python",
   "nbconvert_exporter": "python",
   "pygments_lexer": "ipython3",
   "version": "3.11.0"
  }
 },
 "nbformat": 4,
 "nbformat_minor": 1
}
